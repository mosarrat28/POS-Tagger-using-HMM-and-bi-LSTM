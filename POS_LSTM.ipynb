{
  "nbformat": 4,
  "nbformat_minor": 0,
  "metadata": {
    "colab": {
      "name": "POS LSTM.ipynb",
      "provenance": [],
      "collapsed_sections": []
    },
    "kernelspec": {
      "name": "python3",
      "display_name": "Python 3"
    },
    "language_info": {
      "name": "python"
    }
  },
  "cells": [
    {
      "cell_type": "code",
      "metadata": {
        "colab": {
          "base_uri": "https://localhost:8080/",
          "height": 55
        },
        "cellView": "form",
        "id": "XEpgHBfMMd4M",
        "outputId": "adcf4696-1e80-45c7-c56d-678ff7a24af6"
      },
      "source": [
        "#@title\n",
        "'''# import necessary libraries\n",
        "import warnings\n",
        "warnings.filterwarnings(\"ignore\")\n",
        "\n",
        "import numpy as np\n",
        "\n",
        "from matplotlib import pyplot as plt\n",
        "\n",
        "from nltk.corpus import brown\n",
        "from nltk.corpus import treebank\n",
        "from nltk.corpus import conll2000\n",
        "\n",
        "import seaborn as sns\n",
        "\n",
        "from gensim.models import KeyedVectors\n",
        "\n",
        "from keras.preprocessing.sequence import pad_sequences\n",
        "from keras.utils.np_utils import to_categorical\n",
        "from keras.models import Sequential\n",
        "from keras.layers import Embedding\n",
        "from keras.layers import Dense, Input\n",
        "from keras.layers import TimeDistributed\n",
        "from keras.layers import LSTM, GRU, Bidirectional, SimpleRNN, RNN\n",
        "from keras.models import Model\n",
        "from keras.preprocessing.text import Tokenizer\n",
        "\n",
        "from sklearn.model_selection import train_test_split\n",
        "from sklearn.utils import shuffle'''\n",
        "\n",
        "'''import nltk\n",
        "nltk.download('treebank')\n",
        "nltk.download('brown')\n",
        "nltk.download('conll2000')\n",
        "nltk.download('universal_tagset')'''"
      ],
      "execution_count": null,
      "outputs": [
        {
          "output_type": "execute_result",
          "data": {
            "application/vnd.google.colaboratory.intrinsic+json": {
              "type": "string"
            },
            "text/plain": [
              "\"import nltk\\nnltk.download('treebank')\\nnltk.download('brown')\\nnltk.download('conll2000')\\nnltk.download('universal_tagset')\""
            ]
          },
          "metadata": {},
          "execution_count": 115
        }
      ]
    },
    {
      "cell_type": "code",
      "metadata": {
        "colab": {
          "base_uri": "https://localhost:8080/",
          "height": 179
        },
        "cellView": "form",
        "id": "1-p4nRdWOkL6",
        "outputId": "3800da95-b3f6-4b35-8458-713d269e6752"
      },
      "source": [
        "#@title RNN Commented\n",
        "'''# load POS tagged corpora from NLTK\n",
        "treebank_corpus = treebank.tagged_sents(tagset='universal')\n",
        "brown_corpus = brown.tagged_sents(tagset='universal')\n",
        "conll_corpus = conll2000.tagged_sents(tagset='universal')\n",
        "tagged_sentences = treebank_corpus + brown_corpus + conll_corpus\n",
        "# let's look at the data\n",
        "tagged_sentences[7]\n",
        "#\n",
        "X = [] # store input sequence\n",
        "Y = [] # store output sequence\n",
        "\n",
        "for sentence in tagged_sentences:\n",
        "    X_sentence = []\n",
        "    Y_sentence = []\n",
        "    for entity in sentence:         \n",
        "        X_sentence.append(entity[0])  # entity[0] contains the word\n",
        "        Y_sentence.append(entity[1])  # entity[1] contains corresponding tag\n",
        "        \n",
        "    X.append(X_sentence)\n",
        "    Y.append(Y_sentence)\n",
        "\n",
        "#\n",
        "num_words = len(set([word.lower() for sentence in X for word in sentence]))\n",
        "num_tags   = len(set([word.lower() for sentence in Y for word in sentence]))\n",
        "print(\"Total number of tagged sentences: {}\".format(len(X)))\n",
        "print(\"Vocabulary size: {}\".format(num_words))\n",
        "print(\"Total number of tags: {}\".format(num_tags))\n",
        "\n",
        "# let's look at first data point\n",
        "# this is one data point that will be fed to the RNN\n",
        "print('sample X: ', X[0], '\\n')\n",
        "print('sample Y: ', Y[0], '\\n')\n",
        "\n",
        "# In this many-to-many problem, the length of each input and output sequence must be the same.\n",
        "# Since each word is tagged, it's important to make sure that the length of input sequence equals the output sequence\n",
        "print(\"Length of first input sequence  : {}\".format(len(X[0])))\n",
        "print(\"Length of first output sequence : {}\".format(len(Y[0])))\n",
        "\n",
        "# encode X\n",
        "\n",
        "word_tokenizer = Tokenizer()                      # instantiate tokeniser\n",
        "word_tokenizer.fit_on_texts(X)                    # fit tokeniser on data\n",
        "X_encoded = word_tokenizer.texts_to_sequences(X)  # use the tokeniser to encode input sequence\n",
        "\n",
        "# encode Y\n",
        "\n",
        "tag_tokenizer = Tokenizer()\n",
        "tag_tokenizer.fit_on_texts(Y)\n",
        "Y_encoded = tag_tokenizer.texts_to_sequences(Y)\n",
        "print(Y_encoded[0])\n",
        "#\n",
        "print(\"** Raw data point **\", \"\\n\", \"-\"*100, \"\\n\")\n",
        "print('X: ', X[0], '\\n')\n",
        "print('Y: ', Y[0], '\\n')\n",
        "print()\n",
        "print(\"** Encoded data point **\", \"\\n\", \"-\"*100, \"\\n\")\n",
        "print('X: ', X_encoded[0], '\\n')\n",
        "print('Y: ', Y_encoded[0], '\\n')\n",
        "#\n",
        "different_length = [1 if len(input) != len(output) else 0 for input, output in zip(X_encoded, Y_encoded)]\n",
        "print(\"{} sentences have disparate input-output lengths.\".format(sum(different_length)))\n",
        "#\n",
        "lengths = [len(seq) for seq in X_encoded]\n",
        "print(\"Length of longest sentence: {}\".format(max(lengths)))\n",
        "#\n",
        "MAX_SEQ_LENGTH = 100  # sequences greater than 100 in length will be truncated\n",
        "\n",
        "X_padded = pad_sequences(X_encoded, maxlen=MAX_SEQ_LENGTH, padding=\"pre\", truncating=\"post\")\n",
        "Y_padded = pad_sequences(Y_encoded, maxlen=MAX_SEQ_LENGTH, padding=\"pre\", truncating=\"post\")\n",
        "print(X_padded[0])'''"
      ],
      "execution_count": null,
      "outputs": [
        {
          "output_type": "execute_result",
          "data": {
            "application/vnd.google.colaboratory.intrinsic+json": {
              "type": "string"
            },
            "text/plain": [
              "'# load POS tagged corpora from NLTK\\ntreebank_corpus = treebank.tagged_sents(tagset=\\'universal\\')\\nbrown_corpus = brown.tagged_sents(tagset=\\'universal\\')\\nconll_corpus = conll2000.tagged_sents(tagset=\\'universal\\')\\ntagged_sentences = treebank_corpus + brown_corpus + conll_corpus\\n# let\\'s look at the data\\ntagged_sentences[7]\\n#\\nX = [] # store input sequence\\nY = [] # store output sequence\\n\\nfor sentence in tagged_sentences:\\n    X_sentence = []\\n    Y_sentence = []\\n    for entity in sentence:         \\n        X_sentence.append(entity[0])  # entity[0] contains the word\\n        Y_sentence.append(entity[1])  # entity[1] contains corresponding tag\\n        \\n    X.append(X_sentence)\\n    Y.append(Y_sentence)\\n\\n#\\nnum_words = len(set([word.lower() for sentence in X for word in sentence]))\\nnum_tags   = len(set([word.lower() for sentence in Y for word in sentence]))\\nprint(\"Total number of tagged sentences: {}\".format(len(X)))\\nprint(\"Vocabulary size: {}\".format(num_words))\\nprint(\"Total number of tags: {}\".format(num_tags))\\n\\n# let\\'s look at first data point\\n# this is one data point that will be fed to the RNN\\nprint(\\'sample X: \\', X[0], \\'\\n\\')\\nprint(\\'sample Y: \\', Y[0], \\'\\n\\')\\n\\n# In this many-to-many problem, the length of each input and output sequence must be the same.\\n# Since each word is tagged, it\\'s important to make sure that the length of input sequence equals the output sequence\\nprint(\"Length of first input sequence  : {}\".format(len(X[0])))\\nprint(\"Length of first output sequence : {}\".format(len(Y[0])))\\n\\n# encode X\\n\\nword_tokenizer = Tokenizer()                      # instantiate tokeniser\\nword_tokenizer.fit_on_texts(X)                    # fit tokeniser on data\\nX_encoded = word_tokenizer.texts_to_sequences(X)  # use the tokeniser to encode input sequence\\n\\n# encode Y\\n\\ntag_tokenizer = Tokenizer()\\ntag_tokenizer.fit_on_texts(Y)\\nY_encoded = tag_tokenizer.texts_to_sequences(Y)\\nprint(Y_encoded[0])\\n#\\nprint(\"** Raw data point **\", \"\\n\", \"-\"*100, \"\\n\")\\nprint(\\'X: \\', X[0], \\'\\n\\')\\nprint(\\'Y: \\', Y[0], \\'\\n\\')\\nprint()\\nprint(\"** Encoded data point **\", \"\\n\", \"-\"*100, \"\\n\")\\nprint(\\'X: \\', X_encoded[0], \\'\\n\\')\\nprint(\\'Y: \\', Y_encoded[0], \\'\\n\\')\\n#\\ndifferent_length = [1 if len(input) != len(output) else 0 for input, output in zip(X_encoded, Y_encoded)]\\nprint(\"{} sentences have disparate input-output lengths.\".format(sum(different_length)))\\n#\\nlengths = [len(seq) for seq in X_encoded]\\nprint(\"Length of longest sentence: {}\".format(max(lengths)))\\n#\\nMAX_SEQ_LENGTH = 100  # sequences greater than 100 in length will be truncated\\n\\nX_padded = pad_sequences(X_encoded, maxlen=MAX_SEQ_LENGTH, padding=\"pre\", truncating=\"post\")\\nY_padded = pad_sequences(Y_encoded, maxlen=MAX_SEQ_LENGTH, padding=\"pre\", truncating=\"post\")\\nprint(X_padded[0])'"
            ]
          },
          "metadata": {},
          "execution_count": 116
        }
      ]
    },
    {
      "cell_type": "code",
      "metadata": {
        "id": "nsXsva3TJUdH"
      },
      "source": [
        "#!pip install pomegranate"
      ],
      "execution_count": null,
      "outputs": []
    },
    {
      "cell_type": "code",
      "metadata": {
        "cellView": "form",
        "id": "74jonl7RJPL8"
      },
      "source": [
        "#@title Imports\n",
        "import matplotlib.pyplot as plt\n",
        "import numpy as np\n",
        "from IPython.core.display import HTML\n",
        "from itertools import chain\n",
        "from collections import Counter, defaultdict, namedtuple, OrderedDict\n",
        "from pomegranate import State, HiddenMarkovModel, DiscreteDistribution\n",
        "import os\n",
        "from io import BytesIO\n",
        "from itertools import chain\n",
        "import random\n",
        "import pandas as pd"
      ],
      "execution_count": null,
      "outputs": []
    },
    {
      "cell_type": "code",
      "metadata": {
        "colab": {
          "base_uri": "https://localhost:8080/"
        },
        "id": "psRcA-omBQSy",
        "outputId": "594bf8e2-0d11-458c-aece-b149edbeef80"
      },
      "source": [
        "from google.colab import drive\n",
        "drive.mount('/content/drive')\n",
        "!ls drive"
      ],
      "execution_count": null,
      "outputs": [
        {
          "output_type": "stream",
          "name": "stdout",
          "text": [
            "Drive already mounted at /content/drive; to attempt to forcibly remount, call drive.mount(\"/content/drive\", force_remount=True).\n",
            "MyDrive\n"
          ]
        }
      ]
    },
    {
      "cell_type": "code",
      "metadata": {
        "id": "bWPSqCK6IYM7"
      },
      "source": [
        "file = '/content/drive/MyDrive/Colab Notebooks/data/LDCDATA.txt'"
      ],
      "execution_count": null,
      "outputs": []
    },
    {
      "cell_type": "code",
      "metadata": {
        "cellView": "form",
        "id": "6MggostAHGQJ"
      },
      "source": [
        "#@title Parse Methods \n",
        "Sentence = namedtuple(\"Sentence\", \"words tags\")\n",
        "\n",
        "def read_data(filename):\n",
        "    \"\"\"Read tagged sentence data\"\"\"\n",
        "    with open(filename, 'r') as f:\n",
        "        sentence_lines = [l.split(\"\\n\") for l in f.read().split(\"\\n\\n\")]\n",
        "    return OrderedDict(((s[0], Sentence(*zip(*[l.strip().split(\"\\t\")\n",
        "                        for l in s[1:]]))) for s in sentence_lines if s[0]))\n",
        "\n",
        "def read_tags(filename):\n",
        "    \"\"\"Read a list of word tag classes\"\"\"\n",
        "    with open(filename, 'r') as f:\n",
        "        tags = f.read().split(\"\\n\")\n",
        "    return frozenset(tags)\n",
        "\n",
        "class Subset(namedtuple(\"BaseSet\", \"sentences keys vocab X tagset Y N stream\")):\n",
        "    def __new__(cls, sentences, keys):\n",
        "        word_sequences = tuple([sentences[k].words for k in keys])\n",
        "        tag_sequences = tuple([sentences[k].tags for k in keys])\n",
        "        wordset = frozenset(chain(*word_sequences))\n",
        "        tagset = frozenset(chain(*tag_sequences))\n",
        "        N = sum(1 for _ in chain(*(sentences[k].words for k in keys)))\n",
        "        stream = tuple(zip(chain(*word_sequences), chain(*tag_sequences)))\n",
        "        return super().__new__(cls, {k: sentences[k] for k in keys}, keys, wordset, word_sequences,\n",
        "                               tagset, tag_sequences, N, stream.__iter__)\n",
        "\n",
        "    def __len__(self):\n",
        "        return len(self.sentences)\n",
        "\n",
        "    def __iter__(self):\n",
        "        return iter(self.sentences.items())\n",
        "\n",
        "\n",
        "class Dataset(namedtuple(\"_Dataset\", \"sentences keys vocab X tagset Y training_set testing_set N stream\")):\n",
        "    def __new__(cls, tagfile, datafile, train_test_split=0.8, seed=112890):\n",
        "        tagset = read_tags(tagfile)\n",
        "        sentences = read_data(datafile)\n",
        "        keys = tuple(sentences.keys())\n",
        "        wordset = frozenset(chain(*[s.words for s in sentences.values()]))\n",
        "        word_sequences = tuple([sentences[k].words for k in keys])\n",
        "        tag_sequences = tuple([sentences[k].tags for k in keys])\n",
        "        N = sum(1 for _ in chain(*(s.words for s in sentences.values())))\n",
        "        \n",
        "        # split data into train/test sets\n",
        "        _keys = list(keys)\n",
        "        if seed is not None: random.seed(seed)\n",
        "        random.shuffle(_keys)\n",
        "        split = int(train_test_split * len(_keys))\n",
        "        training_data = Subset(sentences, _keys[:split])\n",
        "        testing_data = Subset(sentences, _keys[split:])\n",
        "        stream = tuple(zip(chain(*word_sequences), chain(*tag_sequences)))\n",
        "        return super().__new__(cls, dict(sentences), keys, wordset, word_sequences, tagset,\n",
        "                               tag_sequences, training_data, testing_data, N, stream.__iter__)\n",
        "\n",
        "    def __len__(self):\n",
        "        return len(self.sentences)\n",
        "\n",
        "    def __iter__(self):\n",
        "        return iter(self.sentences.items())"
      ],
      "execution_count": null,
      "outputs": []
    },
    {
      "cell_type": "code",
      "metadata": {
        "colab": {
          "base_uri": "https://localhost:8080/"
        },
        "id": "a8jfDqDFLXs9",
        "outputId": "8decca33-9bf4-4cbf-ead5-3d7729ed9428"
      },
      "source": [
        "data = Dataset(\"/content/drive/MyDrive/Colab Notebooks/data/tags-universal.txt\", \"/content/drive/MyDrive/Colab Notebooks/data/LDCDATA.txt\", train_test_split=0.8)\n",
        "\n",
        "print(\"There are {} sentences in the corpus.\".format(len(data)))\n",
        "print(\"There are {} sentences in the training set.\".format(len(data.training_set)))\n",
        "print(\"There are {} sentences in the testing set.\".format(len(data.testing_set)))\n",
        "\n",
        "assert len(data) == len(data.training_set) + len(data.testing_set), \\\n",
        "       \"The number of sentences in the training set + testing set should sum to the number of sentences in the corpus\"\n",
        "\n",
        "#print(\"words:\\n\\t{!s}\".format(data.sentences[key['s001']].words))\n",
        "#print(\"tags:\\n\\t{!s}\".format(data.sentences[key[1]].tags))\n"
      ],
      "execution_count": null,
      "outputs": [
        {
          "output_type": "stream",
          "name": "stdout",
          "text": [
            "There are 457 sentences in the corpus.\n",
            "There are 365 sentences in the training set.\n",
            "There are 92 sentences in the testing set.\n"
          ]
        }
      ]
    },
    {
      "cell_type": "code",
      "metadata": {
        "colab": {
          "base_uri": "https://localhost:8080/"
        },
        "id": "fX8u4lEVaU45",
        "outputId": "63acd95a-ddc6-4fd6-d91c-dd2e8468b0a1"
      },
      "source": [
        "datafile = \"/content/drive/MyDrive/Colab Notebooks/data/LDCDATA.txt\"\n",
        "sentences = read_data(datafile)\n",
        "keys = tuple(sentences.keys())\n",
        "#print(keys)\n",
        "\n",
        "wordset = list(chain(*[s.words for s in sentences.values()]))\n",
        "#print(type(wordset))\n",
        "#print(wordset)\n",
        "word_sequences = list([sentences[k].words for k in keys])\n",
        "tag_sequences = list([sentences[k].tags for k in keys])\n",
        "#print(word_sequences)\n",
        "#print(tag_sequences)\n",
        "#for x, y in zip(word_sequences, tag_sequences):\n",
        "#  print(x,' ',y)\n",
        "sentence_list = []\n",
        "for x in range(len(word_sequences)):\n",
        "  sentence = []\n",
        "  for y in range(len(word_sequences[x])):\n",
        "    word = str(word_sequences[x][y])\n",
        "    tag = str(tag_sequences[x][y])\n",
        "    t = (word, tag)\n",
        "    sentence.append(t)\n",
        "  \n",
        "  sentence_list.append(sentence)\n",
        "print(sentence_list)\n",
        "#word_tag = list(zip(word_sequences, tag_sequences))\n",
        "#print(word_tag)"
      ],
      "execution_count": null,
      "outputs": [
        {
          "output_type": "stream",
          "name": "stdout",
          "text": [
            "[[('রপ্তানি', 'ADJ'), ('দ্রব্য', 'NOUN'), ('-', '.'), ('তাজা', 'ADJ'), ('ও', 'CONJ'), ('শুকনা', 'ADJ'), ('ফল', 'NOUN'), ('\",\"', '.'), ('আফিম', 'NOUN'), ('\",\"', '.'), ('পশুচর্ম', 'NOUN'), ('ও', 'CONJ'), ('পশম', 'NOUN'), ('এবং', 'CONJ'), ('কার্পেট', 'NOUN'), ('৷', '.')], [('রাজা', 'NOUN'), ('মহানন্দ', 'NOUN'), ('রাজধানীতে', 'NOUN'), ('তৈরি', 'NOUN'), ('করেছিল', 'VERB'), ('শিব', 'NOUN'), ('মন্দির', 'NOUN'), ('ও', 'CONJ'), ('বৈষ্ণবদের', 'NOUN'), ('মন্দির', 'NOUN'), ('৷', '.')], [('প্রতিটি', 'VERB'), ('বৌদ্ধ', 'ADJ'), ('-', '.'), ('সন্ন্যাসী', 'NOUN'), ('\",\"', '.'), ('সন্ন্যাসিনী', 'NOUN'), ('বা', 'CONJ'), ('গৃহস্থ', 'NOUN'), ('-', '.'), ('যেই', 'PRON'), ('হোক', 'VERB'), ('না', 'OTHER'), ('কেন', 'OTHER'), ('\",\"', '.'), ('প্রাতে', 'NOUN'), ('\",\"', '.'), ('দ্বিপ্রহরে', 'NOUN'), ('\",\"', '.'), ('অপরাহ্নে', 'NOUN'), ('\",\"', '.'), ('ও', 'CONJ'), ('সন্ধ্যায়', 'NOUN'), ('এই', 'VERB'), ('পবিত্র', 'ADJ'), ('ত্রয়ীকে', 'NOUN'), ('প্রণাম', 'NOUN'), ('ও', 'CONJ'), ('ধ্যান', 'NOUN'), ('করে', 'VERB'), ('\",\"', '.'), ('তাকে', 'PRON'), ('জপ', 'NOUN'), ('করে', 'VERB'), ('এই', 'PRON'), (\"ব'লে\", 'VERB'), ('-', '.'), ('আমি', 'PRON'), ('বুদ্ধের', 'NOUN'), ('শরণাগত', 'ADJ'), ('হলাম', 'VERB'), ('৷', '.')], [('বদাওনী', 'NOUN'), ('যে', 'OTHER'), ('খুব', 'VERB'), ('খুশি', 'ADJ'), ('মনে', 'NOUN'), ('অনুবাদের', 'NOUN'), ('কাজে', 'NOUN'), ('আত্মনিয়োগ', 'NOUN'), ('করেছিলেন', 'VERB'), ('তা', 'PRON'), ('নয়', 'VERB'), ('\",\"', '.'), ('কারণ', 'CONJ'), ('মহাভারতের', 'NOUN'), ('ওই', 'VERB'), ('অংশের', 'NOUN'), ('বিষয়বস্তুর', 'NOUN'), ('সঙ্গে', 'PSP'), ('তাঁর', 'PRON'), ('গোঁড়া', 'ADJ'), ('ধর্মবিশ্বাসের', 'NOUN'), ('আদপে', 'OTHER'), ('কোন', 'VERB'), ('মিল', 'NOUN'), ('না', 'OTHER'), ('থাকায়', 'NOUN'), ('তাঁর', 'PRON'), ('কোনরকম', 'VERB'), ('মানসিক', 'ADJ'), ('তৃপ্তি', 'NOUN'), ('হত', 'VERB'), ('না', 'OTHER'), ('\",\"', '.'), ('সমস্ত', 'VERB'), ('পরিশ্রম', 'NOUN'), ('অর্থহীন', 'ADJ'), ('মনে', 'NOUN'), ('হত', 'VERB'), ('৷', '.')], [('কয়েক', 'VERB'), ('বিঘা', 'NOUN'), ('ধানী', 'ADJ'), ('জমিও', 'NOUN'), ('আছে', 'VERB'), ('৷', '.')], [('মাটি', 'NOUN'), ('থেকে', 'PSP'), ('বড়জোর', 'VERB'), ('চার', 'VERB'), ('পাঁচ', 'VERB'), ('ফুট', 'NOUN'), ('উঁচু', 'ADJ'), ('হবে', 'VERB'), ('৷', '.')], [('তাদের', 'PRON'), ('চা', 'NOUN'), ('-', '.'), ('ওমলেটের', 'NOUN'), ('জন্য', 'PSP'), ('\",\"', '.'), ('সিনেমার', 'NOUN'), ('টিকিটের', 'NOUN'), ('জন্য', 'PSP'), ('\",\"', '.'), ('ট্যাক্সি', 'NOUN'), ('ভাড়ার', 'NOUN'), ('জন্য', 'PSP'), ('কেবলই', 'ADV'), ('ধার', 'NOUN'), ('দিতে', 'VERB'), ('হয়', 'VERB'), ('(', 'OTHER'), ('যেহেতু', 'CONJ'), ('তাদের', 'PRON'), ('টিউশনি', 'NOUN'), ('করার', 'NOUN'), ('সময়', 'NOUN'), ('থাকে', 'VERB'), ('না', 'OTHER'), ('৷', '.')], [('নকল', 'ADJ'), ('ওষুধের', 'NOUN'), ('কেরামতি', 'NOUN'), ('সত্ত্বেও', 'PSP'), ('যার', 'PRON'), ('প্রথম', 'VERB'), ('সন্তান', 'NOUN'), ('ভূমিষ্ঠ', 'ADJ'), ('হল', 'VERB'), ('এ', 'VERB'), ('অবস্থায়', 'NOUN'), ('\",\"', '.'), ('সেই', 'PRON'), ('তো', 'OTHER'), ('মৌখিক', 'ADJ'), ('হিতৈষীকে', 'NOUN'), ('তেড়ে', 'ADV'), ('খেতে', 'VERB'), ('আসবে', 'VERB'), ('৷', '.')], [('অন্ধকার', 'NOUN'), ('গাঢ়তর', 'ADJ'), ('হয়ে', 'VERB'), ('ওঠে', 'VERB'), ('৷', '.')], [('তার', 'PRON'), ('ওপরে', 'NOUN'), ('বেকুবচাঁদের', 'NOUN'), ('এই', 'VERB'), ('কান্নার', 'NOUN'), ('কালোয়াতি', 'NOUN'), ('!', '.')], [('বিউটিফুল', 'ADJ'), ('!', '.')], [('এখন', 'ADV'), ('সমস্ত', 'VERB'), ('পরিস্থিতির', 'NOUN'), ('পর্য্যালোচনা', 'NOUN'), ('একান্ত', 'ADJ'), ('প্রয়োজন', 'NOUN'), ('৷', '.')], [('সে', 'PRON'), ('কী', 'OTHER'), ('!', '.')], [('মলয়ের', 'NOUN'), ('কাছে', 'NOUN'), ('সব', 'VERB'), ('শুনে', 'VERB'), ('তার', 'PRON'), ('স্ত্রী', 'NOUN'), ('বলল', 'VERB'), ('\",\"', '.'), ('তোমার', 'PRON'), ('নাম', 'NOUN'), ('কি', 'PRON'), ('মা', 'NOUN'), ('?', '.')], [('`', '.'), ('আলোচনায়', 'NOUN'), ('বসে', 'VERB'), ('সমস্যা', 'NOUN'), ('মিটিয়ে', 'VERB'), ('নেবার', 'NOUN'), ('আপিল', 'NOUN'), ('করল', 'VERB'), (\"দু'দিন\", 'NOUN'), ('পর', 'NOUN'), ('৷', '.')], [('মন্দিরের', 'NOUN'), ('পাশে', 'NOUN'), ('বয়ে', 'VERB'), ('চলেছে', 'VERB'), ('মন্দাকিনীর', 'NOUN'), ('হিমশীতল', 'ADJ'), ('ধারা', 'NOUN'), ('৷', '.')], [('আবেগ', 'NOUN'), ('আপ্লুত', 'ADJ'), ('মনে', 'NOUN'), ('তিনি', 'PRON'), ('নায়িকার', 'NOUN'), ('মুখে', 'NOUN'), ('চুম্বন', 'NOUN'), ('না', 'OTHER'), ('করে', 'VERB'), ('তাঁর', 'PRON'), ('জামার', 'NOUN'), ('প্রান্ত', 'NOUN'), ('ধরে', 'VERB'), ('মুখের', 'NOUN'), ('কাছে', 'NOUN'), ('টেনে', 'VERB'), ('নিলেন', 'VERB'), ('৷', '.')], [('শুক্রের', 'NOUN'), ('এরকম', 'VERB'), ('সংযোগ', 'NOUN'), ('ঘটে', 'VERB'), ('10', 'OTHER'), ('মাস', 'NOUN'), ('পর', 'NOUN'), ('পর', 'NOUN'), ('\",\"', '.'), ('আর', 'CONJ'), ('তাই', 'OTHER'), ('সূর্য্য', 'NOUN'), ('\",\"', '.'), ('চাঁদ', 'NOUN'), ('\",\"', '.'), ('বুধ', 'NOUN'), ('ও', 'CONJ'), ('শুক্রের', 'NOUN'), ('একই', 'VERB'), ('রাশিতে', 'NOUN'), ('অবস্থান', 'NOUN'), ('ঘটতে', 'VERB'), ('পারে', 'VERB'), ('বেশ', 'VERB'), ('ঘন', 'ADJ'), ('ঘন', 'ADJ'), ('৷', '.')], [('তারপর', 'ADV'), ('কালীপূজাও', 'NOUN'), ('শেষ', 'NOUN'), ('হল', 'VERB'), ('৷', '.')], [('নিজেকে', 'PRON'), ('ইদানিং', 'ADV'), ('বড়', 'VERB'), ('একা', 'ADJ'), ('একা', 'ADJ'), ('লাগে', 'VERB'), ('৷', '.')], [('এই', 'ADJ'), ('ধরণের', 'NOUN'), ('মজবুত', 'ADJ'), ('শিরজার', 'NOUN'), ('জন্য', 'PSP'), ('সময়', 'NOUN'), ('এবং', 'CONJ'), ('পরিশ্রম', 'NOUN'), ('দুইয়েরই', 'NOUN'), ('দরকার', 'NOUN'), ('হয়', 'VERB'), ('৷', '.')], [('আমরা', 'PRON'), ('জানি', 'VERB'), ('সংস্কৃতে', 'NOUN'), ('শব্দরূপে', 'NOUN'), ('এবং', 'CONJ'), ('ধাতুরূপে', 'NOUN'), ('\",\"', '.'), ('লিঙ্গ', 'NOUN'), ('ও', 'CONJ'), ('বচনে', 'NOUN'), ('কত', 'VERB'), ('জটিলতা', 'NOUN'), ('৷', '.')], [('তারপর', 'CONJ'), ('হঠাত্', 'ADV'), ('বললো', 'VERB'), ('-', '.'), ('আপনাকে', 'PRON'), ('আমি', 'PRON'), ('চিনি', 'VERB'), ('না', 'OTHER'), ('\",\"', '.'), ('কিন্তু', 'CONJ'), ('মনে', 'NOUN'), ('হচ্ছে', 'VERB'), ('চিনি', 'VERB'), ('৷', '.')], [('গ্রাম', 'NOUN'), ('প্রধানের', 'NOUN'), ('সঙ্গে', 'PSP'), ('অমিলাল', 'NOUN'), ('যাদবের', 'NOUN'), ('সম্পর্ক', 'NOUN'), ('ছিল', 'VERB'), ('৷', '.')], [('এখনও', 'ADV'), ('লেখালিখি', 'NOUN'), ('করেন', 'VERB'), ('নিয়মিত', 'ADV'), ('৷', '.')], [('নিজস্ব', 'ADJ'), ('প্রতিনিধি', 'NOUN'), ('৷', '.')], [('তাহলে', 'CONJ'), ('প্রতিটি', 'VERB'), ('বাঘের', 'NOUN'), ('গন্ধে', 'NOUN'), ('থাকবে', 'VERB'), ('কোন', 'VERB'), ('স্বকীয়', 'ADJ'), ('বৈশিষ্ট্য', 'NOUN'), ('৷', '.')], [('এখন', 'ADV'), ('তারা', 'PRON'), ('একে', 'PRON'), ('অপরের', 'PRON'), ('ঘনিষ্ট', 'ADJ'), ('৷', '.')], [('অফিসে', 'NOUN'), ('বেরুবার', 'NOUN'), ('সময়', 'NOUN'), ('বা', 'CONJ'), ('সকালে', 'NOUN'), ('অন্য', 'VERB'), ('কোথাও', 'ADV'), ('যাওয়ার', 'NOUN'), ('আগে', 'NOUN'), ('স্নান', 'NOUN'), ('করবেনই', 'VERB'), ('করবেন', 'VERB'), ('কিন্তু', 'OTHER'), ('৷', '.')], [('ডাকযোগে', 'NOUN'), ('পণ্য', 'NOUN'), ('বহন', 'NOUN'), ('করা', 'NOUN'), ('হইলেও', 'ADV'), ('ডাকঘরকে', 'NOUN'), ('সাধারণ', 'ADJ'), ('বাহক', 'NOUN'), ('বলা', 'NOUN'), ('হয়', 'VERB'), ('না', 'OTHER'), ('৷', '.')], [('বর্তমান', 'ADJ'), ('যুগে', 'NOUN'), ('সমাজ', 'NOUN'), ('সভ্যতা', 'NOUN'), ('যখন', 'ADV'), ('এতটা', 'VERB'), ('পথ', 'NOUN'), ('এগিয়ে', 'VERB'), ('এসেছে', 'VERB'), ('তখন', 'ADV'), ('পণপ্রথা', 'NOUN'), ('\",\"', '.'), ('বধূহত্যা', 'NOUN'), ('\",\"', '.'), ('পত্নীত্যাগ', 'NOUN'), ('\",\"', '.'), ('ইত্যাদি', 'NOUN'), ('সামাজিক', 'ADJ'), ('কলংক', 'NOUN'), ('চিহ্নগুলি', 'NOUN'), ('খুবই', 'VERB'), ('দুঃখের', 'NOUN'), ('৷', '.')], [('তৃতীয়', 'VERB'), ('ভারতীয়', 'ADJ'), ('হিসেবে', 'OTHER'), ('দক্ষিণ', 'NOUN'), ('আফ্রিকার', 'NOUN'), ('প্রবল', 'ADJ'), ('প্রতিদ্বন্দ্বী', 'NOUN'), ('এম', 'NOUN'), ('ওনডুম্বারকে', 'NOUN'), ('যখন', 'ADV'), ('কোণ', 'NOUN'), ('ঠাসা', 'NOUN'), ('করতে', 'VERB'), ('শুরু', 'NOUN'), ('করেছিলাম', 'VERB'), ('তখন', 'ADV'), ('বার', 'VERB'), ('বার', 'VERB'), ('কোচের', 'NOUN'), ('কথা', 'NOUN'), ('মনে', 'NOUN'), ('পড়ছিল', 'VERB'), ('৷', '.')], [('তেমন', 'PRON'), ('হলে', 'ADV'), ('হাতে', 'NOUN'), ('একটু', 'VERB'), ('ক্রিম', 'NOUN'), ('\",\"', '.'), ('তেল', 'NOUN'), ('\",\"', '.'), ('হ্যাণ্ডলোশন', 'NOUN'), ('বা', 'CONJ'), ('কোনও', 'VERB'), ('বোরোগ্লিসারিন', 'NOUN'), ('জাতীয়', 'NOUN'), ('জিনিস', 'NOUN'), ('লাগাতে', 'VERB'), ('পারেন', 'VERB'), ('৷', '.')], [('[', '.'), ('কাঁদ', 'ADJ'), ('কাঁদ', 'ADJ'), ('সুরে', 'NOUN'), (']', '.'), ('কি', 'OTHER'), ('প্যাঁচকলে', 'NOUN'), ('পড়লাম', 'VERB'), ('রে', 'OTHER'), ('বাবা', 'NOUN'), ('!', '.')], [('শিব-ডিয়োনিসাসের', 'NOUN'), ('মতো', 'NOUN'), ('মধ্যপ্রাচ্য', 'NOUN'), ('\",\"', '.'), ('ইয়োরোপ', 'NOUN'), ('ও', 'CONJ'), ('ভারতের', 'NOUN'), ('`', '.'), ('দেবী', 'NOUN'), (\"'\", '.'), ('প্রকৃতির', 'NOUN'), ('আদ্যাশক্তি', 'NOUN'), ('\",\"', '.'), ('যা', 'PRON'), ('মানুষের', 'NOUN'), ('স্বভাব', 'NOUN'), ('\",\"', '.'), ('সহজাত', 'ADJ'), ('তার', 'PRON'), ('মহত্ব', 'NOUN'), ('তাঁদের', 'PRON'), ('ধর্মে', 'NOUN'), ('কীর্তিত', 'ADJ'), ('৷', '.')], [('আনন্দবাজার', 'NOUN'), ('পত্রিকা', 'NOUN'), ('৷', '.')], [('কেরালায়', 'NOUN'), ('রাজ্য', 'NOUN'), ('ক্রীড়া', 'NOUN'), ('পর্ষদের', 'NOUN'), ('ছাতার', 'NOUN'), ('নীচে', 'NOUN'), ('প্রশিক্ষকের', 'NOUN'), ('সংখ্যা', 'NOUN'), ('শতাধিক', 'VERB'), ('আর', 'CONJ'), ('পশ্চিমবঙ্গে', 'NOUN'), ('মাত্র', 'VERB'), ('আঠার', 'VERB'), ('জন', 'NOUN'), ('৷', '.')], [('এই', 'VERB'), ('দৃশ্য', 'NOUN'), ('দেখে', 'VERB'), ('ফিংকেলস্টাইনের', 'NOUN'), ('চাকর', 'NOUN'), ('যেটা', 'PRON'), ('করল', 'VERB'), ('সেটাও', 'PRON'), ('মনে', 'NOUN'), ('রাখার', 'NOUN'), ('মতো', 'OTHER'), ('৷', '.')], [('আমি', 'PRON'), ('সেফটির', 'NOUN'), ('কথা', 'NOUN'), ('ভেবে', 'VERB'), ('ওদের', 'PRON'), ('জানালাম', 'VERB'), ('\",\"', '.'), ('আপনার', 'PRON'), ('খালি', 'ADJ'), ('ফ্ল্যাটগুলোতে', 'NOUN'), ('এবং', 'CONJ'), ('ওয়ান', 'VERB'), ('মিসেস', 'NOUN'), ('পপি', 'NOUN'), ('বিশোয়াসের', 'NOUN'), ('ফ্ল্যাটেও', 'NOUN'), ('মিসেস', 'NOUN'), ('চাওলার', 'NOUN'), ('বে-আইনী', 'ADJ'), ('মাল', 'NOUN'), ('লুকনো', 'ADJ'), ('থাকে', 'VERB'), ('৷', '.')], [('এর', 'PRON'), ('দ্বারা', 'PSP'), ('বশীকরণও', 'NOUN'), ('হয়', 'VERB'), ('\",\"', '.'), ('আচার্য্যেরা', 'NOUN'), ('এই', 'PRON'), ('বলে', 'VERB'), ('থাকেন', 'VERB'), ('৷', '.')], [('.', '.'), ('একথা', 'NOUN'), ('শুনে', 'VERB'), ('মা', 'NOUN'), ('উত্তর', 'NOUN'), ('দিয়েছিলেন', 'VERB'), ('\",\"', '.'), ('হলই', 'VERB'), ('বা', 'OTHER'), ('!', '.')], [('জানা', 'NOUN'), ('গেল', 'VERB'), ('কেবল', 'OTHER'), ('সরস্বতী', 'NOUN'), ('নয়', 'VERB'), ('\",\"', '.'), ('পূজা', 'NOUN'), ('হয়', 'VERB'), ('লক্ষ্মী', 'NOUN'), ('-', '.'), ('সরস্বতী', 'NOUN'), ('মূর্তি', 'NOUN'), ('যৌথভাবে', 'ADV'), ('এবং', 'CONJ'), ('শ্রীপঞ্চমীতেই', 'NOUN'), ('৷', '.')], [('জাত', 'NOUN'), (':-', 'OTHER'), ('জলদি', 'ADJ'), ('-', '.'), ('কুফরি', 'ADJ'), ('চন্দ্রমুখী', 'NOUN'), ('\",\"', '.'), ('কুফরি', 'ADJ'), ('অলংকার', 'NOUN'), ('\",\"', '.'), ('কুফরি', 'ADJ'), ('লাউকার', 'NOUN'), ('\",\"', '.'), ('আপ-টু-ডেট', 'NOUN'), ('৷', '.')], [('বিশ্বাস', 'NOUN'), ('\",\"', '.'), ('ঠিকও', 'ADJ'), ('হয়', 'VERB'), ('৷', '.')], [('ঋত্বিকের', 'NOUN'), ('দায়িত্ব', 'NOUN'), ('আচার', 'NOUN'), ('-', '.'), ('অনুষ্ঠানে', 'NOUN'), ('ভুল', 'NOUN'), ('-', '.'), ('ভ্রান্তি', 'NOUN'), ('নির্ধারণ', 'NOUN'), ('এবং', 'CONJ'), ('সংশোধন', 'NOUN'), ('৷', '.')], [('সকল', 'VERB'), ('প্রাণী', 'NOUN'), ('আপন', 'PRON'), ('যথালব্ধ', 'ADJ'), ('সম্পত্তি', 'NOUN'), ('থেকে', 'PSP'), ('বঞ্চিত', 'ADJ'), ('না', 'OTHER'), ('হোক', 'VERB'), ('৷', '.')], [('এমন', 'PRON'), ('কি', 'OTHER'), ('ভিটামিন', 'NOUN'), ('A', 'OTHER'), ('ও', 'CONJ'), ('D', 'OTHER'), ('-', '.'), ('র', 'PSP'), ('অত্যধিক', 'VERB'), ('প্রয়োগে', 'NOUN'), ('কুফল', 'NOUN'), ('দেখা', 'NOUN'), ('দিতে', 'VERB'), ('পারে', 'VERB'), ('৷', '.')], [('আকবকের', 'NOUN'), ('দরবারে', 'NOUN'), ('যে', 'ADJ'), ('ছত্রিশ', 'VERB'), ('জন', 'NOUN'), ('বিশিষ্ট', 'ADJ'), ('কলাকার', 'NOUN'), ('ছিলেন', 'VERB'), ('\",\"', '.'), ('সকলেরই', 'PRON'), ('মতে', 'NOUN'), ('\",\"', '.'), ('তাঁদের', 'PRON'), ('মধ্যে', 'PSP'), ('তানসেন', 'NOUN'), ('ছিলেন', 'VERB'), ('সর্বশ্রেষ্ঠ', 'ADJ'), ('৷', '.')], [('ফরহ্যান্স', 'NOUN'), ('৷', '.')], [('সাবিত্রীদি', 'NOUN'), ('চুড়ো', 'NOUN'), ('বেঁধে', 'VERB'), ('দিচ্ছিলেন', 'VERB'), ('সতুর', 'NOUN'), ('চুলে', 'NOUN'), ('৷', '.')], [('এবং', 'CONJ'), ('`', '.'), ('Bihar', 'OTHER'), ('PeaWant', 'OTHER'), ('Life', 'OTHER'), (\"'\", '.'), ('(', 'OTHER'), ('1885', 'OTHER'), (')', 'OTHER'), ('৷', '.')], [('কেবল', 'ADV'), ('কর্তা', 'NOUN'), ('ও', 'CONJ'), ('অধিকরণের', 'NOUN'), ('ভেদ', 'NOUN'), ('বুদ্ধি', 'NOUN'), ('কল্পনা', 'NOUN'), ('মাত্র', 'OTHER'), ('-', '.'), ('ব্যবহারের', 'NOUN'), ('জন্য', 'PSP'), ('আরোপিত', 'ADJ'), ('মাত্র', 'OTHER'), ('৷', '.')], [('মনে', 'NOUN'), ('হয়', 'VERB'), ('\",\"', '.'), ('হতাশা', 'NOUN'), ('লাঘব', 'ADJ'), ('করার', 'NOUN'), ('চেষ্টা', 'NOUN'), ('৷', '.')], [('বুধবার', 'NOUN'), ('এঁদের', 'PRON'), ('মধ্যে', 'PSP'), ('একজনের', 'NOUN'), ('মৃত্যু', 'NOUN'), ('হয়', 'VERB'), ('৷', '.')], [('এখন', 'ADV'), ('থেকে', 'PSP'), ('আখের', 'NOUN'), ('গোছানো', 'NOUN'), ('দরকার', 'NOUN'), ('৷', '.')], [('তাহলে', 'CONJ'), ('তার', 'PRON'), ('পরের', 'NOUN'), ('দিনও', 'NOUN'), ('উপোস', 'NOUN'), ('৷', '.')], [('খামটা', 'NOUN'), ('খুলতে', 'VERB'), ('তার', 'PRON'), ('থেকে', 'PSP'), ('একটা', 'VERB'), ('চিরকুট', 'NOUN'), ('বেরোল', 'VERB'), ('\",\"', '.'), ('তাতে', 'PRON'), ('লেখা', 'NOUN'), ('-', '.'), ('`', '.'), ('লাইবনিত্স', 'NOUN'), ('হলে', 'ADV'), ('বিজ্ঞান', 'NOUN'), ('সভায়', 'NOUN'), ('ভারতীয়', 'ADJ'), ('বৈজ্ঞানিক', 'ADJ'), ('প্রোফেসর', 'NOUN'), ('শঙ্কুর', 'NOUN'), ('চোখ', 'NOUN'), ('থেকে', 'PSP'), ('খুলে', 'VERB'), ('পড়', 'VERB'), ('চশমা', 'NOUN'), ('-', '.'), ('সংলগ্ন', 'ADJ'), ('নাইনলের', 'NOUN'), ('চুল', 'NOUN'), ('৷', '.')], [('খালি', 'ADV'), ('সাতবার', 'VERB'), ('কামান', 'NOUN'), ('দাগা', 'NOUN'), ('ছাড়া', 'PSP'), ('৷', '.')], [('অর্থাত্', 'CONJ'), ('\",\"', '.'), ('এই', 'VERB'), ('ক্ষেত্রে', 'NOUN'), ('উপবৃত্ত', 'NOUN'), ('সমবর্তিত', 'ADJ'), ('রশ্মি', 'NOUN'), ('অসমবর্তিত', 'ADJ'), ('এবং', 'CONJ'), ('সমতল', 'NOUN'), ('সমবর্তিত', 'ADJ'), ('রশ্মির', 'NOUN'), ('মিশ্রণের', 'NOUN'), ('ন্যায়', 'OTHER'), ('আচরণ', 'NOUN'), ('করে', 'VERB'), ('৷', '.')], [('নেসলেই', 'NOUN'), ('য়্যালবাম', 'NOUN'), ('বার', 'NOUN'), ('করেছে', 'VERB'), ('\",\"', '.'), ('সেই', 'VERB'), ('য়্যালবামে', 'NOUN'), ('ছবিগুলো', 'NOUN'), ('সেঁটে', 'VERB'), ('রাখতে', 'VERB'), ('হয়', 'VERB'), ('৷', '.')], [('ফুটোগুলো', 'NOUN'), ('এমন', 'VERB'), ('ভাবে', 'PSP'), ('করতে', 'VERB'), ('হবে', 'VERB'), ('যাতে', 'CONJ'), ('তাসগুলো', 'NOUN'), ('এক', 'VERB'), ('জায়গায়', 'NOUN'), ('জড়ো', 'NOUN'), ('করলে', 'ADV'), ('ফুটোগুলো', 'NOUN'), ('ঠিক', 'ADV'), ('একটার', 'NOUN'), ('পর', 'NOUN'), ('আর', 'VERB'), ('একটা', 'NOUN'), ('পড়ে', 'VERB'), ('৷', '.')], [('বোবার', 'NOUN'), ('মত', 'OTHER'), ('!', '.')], [('জল', 'NOUN'), ('খেয়ে', 'VERB'), ('বলতেন', 'VERB'), ('-', '.'), ('এইবার', 'ADV'), ('চা', 'NOUN'), ('আনতে', 'VERB'), ('বল', 'VERB'), ('৷', '.')], [('তাহার', 'PRON'), ('জন্য', 'PSP'), ('তাহাদের', 'PRON'), ('দাম্ভিকতা', 'NOUN'), ('নাই', 'VERB'), ('৷', '.')], [('মনে', 'NOUN'), ('আছে', 'VERB'), ('\",\"', '.'), ('চড়ে', 'VERB'), ('ঢুকেছিলাম', 'VERB'), ('জ্যান্ত', 'ADJ'), ('আগ্নেয়গিরির', 'NOUN'), ('গহ্বরে', 'NOUN'), ('৷', '.')], [('কোন', 'VERB'), ('অসুবিধে', 'NOUN'), ('হলে', 'ADV'), ('ওখানেই', 'ADV'), ('ফোন', 'NOUN'), ('করে', 'VERB'), ('দিও', 'VERB'), ('৷', '.')], [('আবার', 'ADV'), ('ছুটলো', 'VERB'), ('এলিজা', 'NOUN'), ('\",\"', '.'), ('ছেলেকে', 'NOUN'), ('কোলে', 'NOUN'), ('নিয়ে', 'VERB'), ('৷', '.')], [('সশব্দে', 'NOUN'), ('ট্রাক', 'NOUN'), ('ছুটছে', 'VERB'), ('৷', '.')], [('নিতান্ত', 'ADJ'), ('গৃহবধূ', 'NOUN'), ('ছিলেন', 'VERB'), ('না', 'OTHER'), ('কোরাজন', 'NOUN'), ('আকিনো', 'NOUN'), ('৷', '.')], [('প্রথম', 'ADV'), ('প্রথম', 'ADV'), ('তার', 'PRON'), ('ইতি', 'OTHER'), ('পূর্বেকার', 'ADV'), ('ভাল', 'ADJ'), ('রেকর্ড', 'NOUN'), ('থাকায়', 'NOUN'), ('বিশেষ', 'ADJ'), ('কিছু', 'VERB'), ('বলিনি', 'VERB'), ('৷', '.')], [('তোমার', 'PRON'), ('বন্ধু', 'NOUN'), ('বলল', 'VERB'), ('দু', 'VERB'), ('হাজার', 'VERB'), ('হবে', 'VERB'), ('৷', '.')], [('যৌবনে', 'NOUN'), ('পদার্পণের', 'NOUN'), ('সঙ্গে', 'PSP'), ('সঙ্গে', 'PSP'), ('যে', 'ADJ'), ('মানুষটি', 'NOUN'), ('হয়ে', 'VERB'), ('উঠেছিলেন', 'VERB'), ('উচ্ছৃঙ্খল', 'ADJ'), ('\",\"', '.'), ('দুর্বার', 'ADJ'), ('\",\"', '.'), ('দুর্বিনীত', 'ADJ'), ('\",\"', '.'), ('সেই', 'VERB'), ('মানুষের', 'NOUN'), ('পক্ষে', 'PSP'), ('নিরলস', 'ADJ'), ('সারস্বত', 'ADJ'), ('সাধনা', 'NOUN'), ('সম্ভব', 'ADJ'), ('হয়েছিল', 'VERB'), ('কি', 'PRON'), ('করে', 'VERB'), ('?', '.')], [('প্রকাণ্ড', 'ADJ'), ('হলঘরে', 'NOUN'), ('পাশাপাশি', 'ADV'), ('চেয়ার', 'NOUN'), ('রাখা', 'NOUN'), ('হয়েছিল', 'VERB'), ('ছ', 'VERB'), ('`', '.'), ('-', '.'), ('খানা', 'NOUN'), ('৷', '.')], [('সুতরাং', 'CONJ'), ('কেবলমাত্র', 'ADV'), ('সংজ্ঞা', 'NOUN'), ('হিসাবে', 'OTHER'), ('পরিচিত', 'ADJ'), ('হওয়ার', 'NOUN'), ('জন্যেই', 'PSP'), ('এই', 'VERB'), ('নিয়ম', 'NOUN'), ('যা', 'PRON'), ('অভিজ্ঞতালব্ধ', 'ADJ'), ('কোনো', 'VERB'), ('ব্যতিক্রমের', 'NOUN'), ('হাত', 'NOUN'), ('থেকে', 'PSP'), ('কোনোক্রমে', 'ADV'), ('রেহাই', 'NOUN'), ('পেয়েছে', 'VERB'), ('৷', '.')], [('(iv)', 'OTHER'), ('অধিক', 'VERB'), ('সংখ্যক', 'NOUN'), ('সেচের', 'NOUN'), ('নালার', 'NOUN'), ('আবশ্যক', 'ADJ'), ('হয়', 'VERB'), ('না', 'OTHER'), ('\",\"', '.'), ('ফলে', 'CONJ'), ('জমি', 'NOUN'), ('কম', 'ADJ'), ('নষ্ট', 'ADJ'), ('হয়', 'VERB'), ('৷', '.')], [('পরে', 'NOUN'), ('প্রতিভা', 'NOUN'), ('বসুর', 'NOUN'), ('সম্পাদনায়', 'NOUN'), ('বেরিয়েছিল', 'VERB'), ('আধুনিক', 'ADJ'), ('বাংলা', 'NOUN'), ('আশ্চর্য', 'ADJ'), ('সংকলন', 'NOUN'), ('গ্রন্থ', 'NOUN'), ('সিরিজ', 'NOUN'), ('`', '.'), ('বৈশাখী', 'NOUN'), (\"'\", '.'), ('৷', '.')], [('এখন', 'ADV'), ('এই', 'VERB'), ('কাজগুলি', 'NOUN'), ('করার', 'NOUN'), ('সময়', 'NOUN'), ('শেখে', 'VERB'), ('মাটির', 'NOUN'), ('প্রকৃতি', 'NOUN'), ('\",\"', '.'), ('বিভিন্ন', 'VERB'), ('দেশের', 'NOUN'), ('মাটির', 'NOUN'), ('ধর্ম', 'NOUN'), ('\",\"', '.'), ('কোন্', 'ADJ'), ('মাটিতে', 'NOUN'), ('কি', 'ADJ'), ('ধরনের', 'NOUN'), ('বস্তু', 'NOUN'), ('জন্মায়', 'VERB'), ('-', '.'), ('এক', 'VERB'), ('কথায়', 'NOUN'), ('ভূবিদ্যা', 'NOUN'), ('ও', 'CONJ'), ('ভূগোলের', 'NOUN'), ('নানা', 'VERB'), ('প্রয়োজনীয়', 'ADJ'), ('তথ্য', 'NOUN'), ('৷', '.')], [('এক', 'VERB'), ('সময়', 'NOUN'), ('আদি', 'ADJ'), ('-', '.'), ('অস্ত্রালদের', 'NOUN'), ('ব্যাপ্তি', 'NOUN'), ('উত্তর', 'ADJ'), ('ভারত', 'NOUN'), ('থেকে', 'PSP'), ('প্রশান্ত', 'NOUN'), ('মহাসাগরের', 'NOUN'), ('ইস্টার', 'NOUN'), ('দ্বীপ', 'NOUN'), ('পর্য্যন্ত', 'PSP'), ('ছিল', 'VERB'), ('৷', '.')], [('তিনি', 'PRON'), ('যাকে', 'PRON'), ('বিশ্বাস', 'NOUN'), ('করতেন', 'VERB'), ('\",\"', '.'), ('সে', 'PRON'), ('কোন', 'VERB'), ('মিথ্যা', 'ADJ'), ('কথা', 'NOUN'), ('বললে', 'ADV'), ('তাঁর', 'PRON'), ('মাথায়', 'NOUN'), ('যেন', 'OTHER'), ('আকাশ', 'NOUN'), ('ভেঙে', 'VERB'), ('পড়ত', 'VERB'), ('৷', '.')], [('ওঁর', 'PRON'), ('মা', 'NOUN'), ('নানা', 'VERB'), ('রকম', 'NOUN'), ('প্রশ্ন', 'NOUN'), ('করতে', 'VERB'), ('লাগলেন', 'VERB'), ('৷', '.')], [('খ্রীষ্টপূর্ব', 'ADJ'), ('চতুর্থ', 'VERB'), ('শতাব্দীতে', 'NOUN'), ('গ্রীক', 'ADJ'), ('দার্শনিক', 'NOUN'), ('য়্যারিস্টটল', 'NOUN'), ('(', 'OTHER'), ('AriWtotle', 'OTHER'), (')', 'OTHER'), ('প্রমাণ', 'NOUN'), ('করেন', 'VERB'), ('যে', 'CONJ'), ('জীবজগতের', 'NOUN'), ('মধ্যে', 'NOUN'), ('বিভিন্ন', 'ADJ'), ('শ্রেণী', 'NOUN'), ('বর্তমান', 'ADJ'), ('এবং', 'CONJ'), ('একটি', 'VERB'), ('শ্রেণীর', 'NOUN'), ('জীব', 'NOUN'), ('অপর', 'ADJ'), ('শ্রেণীর', 'NOUN'), ('জীব', 'NOUN'), ('থেকে', 'PSP'), ('অপেক্ষাকৃত', 'ADJ'), ('উন্নত', 'ADJ'), ('এবং', 'CONJ'), ('জীবগুলি', 'NOUN'), ('তাদের', 'PRON'), ('পূর্বপুরুষ', 'NOUN'), ('অর্থাত্', 'CONJ'), ('উদ্বংশীয়', 'NOUN'), ('(', 'OTHER'), ('aNOUNeWtor', 'OTHER'), (')', 'OTHER'), ('থেকে', 'PSP'), ('উত্পত্তি', 'NOUN'), ('লাভ', 'NOUN'), ('করে', 'VERB'), ('অভিব্যক্তি', 'NOUN'), ('বা', 'CONJ'), ('ক্রমবিকাশের', 'NOUN'), ('মাধ্যমে', 'PSP'), ('ক্রমাগত', 'ADV'), ('পরিবর্তিত', 'ADJ'), ('ও', 'CONJ'), ('রূপান্তরিত', 'ADJ'), ('হয়ে', 'VERB'), ('\",\"', '.'), ('বর্তমান', 'ADJ'), ('রূপ', 'NOUN'), ('ধারণ', 'NOUN'), ('করেছে', 'VERB'), ('৷', '.')], [('আমি', 'PRON'), ('তো', 'OTHER'), ('নিজে', 'PRON'), ('থেকে', 'PSP'), ('আপনাদের', 'PRON'), ('টেবিলে', 'NOUN'), ('এসে', 'VERB'), ('জুড়ে', 'VERB'), ('বসলাম', 'VERB'), ('৷', '.')], [('সেজন্য', 'CONJ'), ('পারিবারিক', 'ADJ'), ('খবরদারিটা', 'NOUN'), ('বিশেষত', 'ADV'), ('শুভলক্ষ্মীর', 'NOUN'), ('মতো', 'OTHER'), ('এক', 'VERB'), ('প্রতিভাময়ী', 'ADJ'), ('অথচ', 'CONJ'), ('কমবয়সী', 'ADJ'), ('অভিনেত্রীর', 'NOUN'), ('ক্ষেত্রে', 'PSP'), ('থাকাটা', 'NOUN'), ('অস্বাভাবিক', 'ADJ'), ('কিছু', 'VERB'), ('নয়', 'VERB'), ('৷', '.')], [('মধ্যবর্তীকালে', 'ADV'), ('তিনি', 'PRON'), ('নানা', 'VERB'), ('সময়ে', 'NOUN'), ('ইংরেজী', 'NOUN'), ('সাহিত্য', 'NOUN'), ('\",\"', '.'), ('ইতিহাস', 'NOUN'), ('\",\"', '.'), ('জীববিজ্ঞান', 'NOUN'), ('\",\"', '.'), ('নৃতত্ত্ব', 'NOUN'), ('পড়িয়েছেন', 'VERB'), ('1901', 'OTHER'), ('সালে', 'NOUN'), ('দেখা', 'NOUN'), ('গেল', 'VERB'), ('\",\"', '.'), ('তিনি', 'PRON'), ('হয়ে', 'VERB'), ('গেছেন', 'VERB'), ('মাদ্রাজ', 'NOUN'), ('প্রেসিডেন্সি', 'NOUN'), ('কলেজে', 'NOUN'), ('সংস্কৃত', 'NOUN'), ('ও', 'CONJ'), ('তুলনামূলক', 'NOUN'), ('ভাষাতত্ত্বের', 'NOUN'), ('অধ্যাপক', 'NOUN'), ('৷', '.')], [('তাজ', 'NOUN'), ('গ্রুপ', 'NOUN'), ('তাঁদের', 'PRON'), ('স্থপতিদের', 'NOUN'), ('পরামর্শ', 'NOUN'), ('দিয়ে', 'VERB'), ('রাজ্য', 'NOUN'), ('সরকারের', 'NOUN'), ('উন্নয়নমূলক', 'ADJ'), ('প্রতিষ্ঠানগুলিকে', 'NOUN'), ('সাহায্য', 'NOUN'), ('করবেন', 'VERB'), ('৷', '.')], [('কিন্তু', 'CONJ'), ('সমভূমি', 'NOUN'), ('অঞ্চলের', 'NOUN'), ('উর্বর', 'ADJ'), ('মৃত্তিকা', 'NOUN'), ('ও', 'CONJ'), ('সুন্দর', 'ADJ'), ('যাতায়াত', 'NOUN'), ('ব্যবস্থা', 'NOUN'), ('কৃষিকার্য্য', 'NOUN'), ('এবং', 'CONJ'), ('ঘন', 'ADJ'), ('জনবসতি', 'NOUN'), ('গড়িয়া', 'VERB'), ('উঠার', 'NOUN'), ('বিশেষ', 'ADJ'), ('সহায়ক', 'NOUN'), ('৷', '.')], [('ইহা', 'PRON'), ('খাদ্যকে', 'NOUN'), ('ধরিতে', 'VERB'), ('এবং', 'CONJ'), ('য়্যানটিনা', 'NOUN'), ('\",\"', '.'), ('প্যাল্প', 'NOUN'), ('এবং', 'CONJ'), ('অগ্রপদকে', 'NOUN'), ('পরিষ্কার', 'ADJ'), ('রাখিতে', 'VERB'), ('সাহায্য', 'NOUN'), ('করে', 'VERB'), ('৷', '.')], [('রাণী', 'NOUN'), ('লক্ষ্মীবাই', 'NOUN'), ('রাজসভা', 'NOUN'), ('আহ্বান', 'NOUN'), ('করেছেন', 'VERB'), ('৷', '.')], [('নেহাত্', 'CONJ'), ('যদি', 'CONJ'), ('প্রাণে', 'NOUN'), ('না', 'OTHER'), ('মর', 'VERB'), ('\",\"', '.'), ('এখানকার', 'ADV'), ('বাস', 'NOUN'), ('তোমার', 'PRON'), ('ঘুচে', 'VERB'), ('যাবে', 'VERB'), ('৷', '.')], [('রাতবিরেত', 'NOUN'), ('হলে', 'ADV'), ('আরও', 'VERB'), ('বেশি', 'ADJ'), ('৷', '.')], [('চরকা', 'NOUN'), ('কাটতে', 'VERB'), ('দিয়ে', 'VERB'), ('কাটুনিদের', 'NOUN'), ('মজুরি', 'NOUN'), ('দেন', 'VERB'), ('\",\"', '.'), ('সুতো', 'NOUN'), ('থেকে', 'PSP'), ('কাপড়', 'NOUN'), ('বুনিয়ে', 'VERB'), ('তাঁতিদের', 'NOUN'), ('মজুরি', 'NOUN'), ('দেন', 'VERB'), ('\",\"', '.'), ('গ্রামে', 'NOUN'), ('তো', 'OTHER'), ('কেউ', 'PRON'), ('কিনবে', 'VERB'), ('না', 'OTHER'), ('\",\"', '.'), ('শহরে', 'NOUN'), ('এনে', 'VERB'), ('ভাণ্ডারে', 'NOUN'), ('জমা', 'NOUN'), ('দেন', 'VERB'), ('৷', '.')], [('ভাইকে', 'NOUN'), ('প্রাণাধিক', 'ADJ'), ('স্নেহ', 'NOUN'), ('করতেন', 'VERB'), ('রামকুমার', 'NOUN'), ('৷', '.')], [('আর', 'VERB'), ('একজন', 'NOUN'), ('কিন্তু', 'CONJ'), ('থানায়', 'NOUN'), ('যাবার', 'NOUN'), ('পূর্বে', 'NOUN'), ('জলযোগের', 'NOUN'), ('ব্যবস্থার', 'NOUN'), ('প্রস্তাব', 'NOUN'), ('করলেন', 'VERB'), ('৷', '.')], [('আবার', 'ADV'), ('কবে', 'ADV'), ('তোমার', 'PRON'), ('সঙ্গে', 'PSP'), ('এভাবে', 'ADV'), ('দেখা', 'NOUN'), ('হবে', 'VERB'), ('৷', '.')], [('(', 'OTHER'), ('4', 'OTHER'), (')', 'OTHER'), ('লক্ষ', 'VERB'), ('লক্ষ', 'VERB'), ('ছাত্র', 'NOUN'), ('যুবক', 'NOUN'), ('কেরিয়ারের', 'NOUN'), ('হাতছানি', 'NOUN'), ('উপেক্ষা', 'NOUN'), ('করে', 'VERB'), ('ঘরবাড়ি', 'NOUN'), ('ছেড়ে', 'VERB'), ('গ্রামে', 'NOUN'), ('গিয়েছিলেন', 'VERB'), ('\",\"', '.'), ('ওই', 'VERB'), ('উক্তির', 'NOUN'), ('স্বপক্ষে', 'NOUN'), ('কিছু', 'VERB'), ('তথ্য', 'NOUN'), ('\",\"', '.'), ('অন্তত', 'CONJ'), ('সমকালীন', 'ADJ'), ('কিছু', 'VERB'), ('প্রমাণ', 'NOUN'), ('চাই', 'VERB'), ('৷', '.')], [('এই', 'VERB'), ('রকম', 'NOUN'), ('সিদ্ধান্ত', 'NOUN'), ('থেকেই', 'PSP'), ('বেহালার', 'NOUN'), ('বাড়ি', 'NOUN'), ('ভাঙা', 'NOUN'), ('ইসুকে', 'NOUN'), ('কাজে', 'NOUN'), ('লাগাতে', 'VERB'), ('চায়', 'VERB'), ('কংগ্রেস', 'NOUN'), ('৷', '.')], [('এই', 'VERB'), ('প্রকার', 'NOUN'), ('অনিয়মিত', 'ADJ'), ('ফলন', 'NOUN'), ('খুব', 'VERB'), ('ক্ষতিকর', 'NOUN'), (';', '.'), ('কারণ', 'CONJ'), ('যে', 'ADJ'), ('বত্সর', 'NOUN'), ('গাছে', 'NOUN'), ('প্রচুর', 'VERB'), ('ফলন', 'NOUN'), ('হয়', 'VERB'), ('\",\"', '.'), ('সেই', 'VERB'), ('বত্সর', 'NOUN'), ('অত্যধিক', 'VERB'), ('ফলনের', 'NOUN'), ('জন্য', 'PSP'), ('বাজারে', 'NOUN'), ('আমের', 'NOUN'), ('দাম', 'NOUN'), ('পড়িয়া', 'VERB'), ('যায়', 'VERB'), ('এবং', 'CONJ'), ('চাষীদেরও', 'NOUN'), ('আশানুরূপ', 'ADJ'), ('আয়', 'NOUN'), ('হয়', 'VERB'), ('না', 'OTHER'), ('৷', '.')], [('কথাগুলোর', 'NOUN'), ('রেশ', 'NOUN'), ('না', 'OTHER'), ('মিলাতে', 'VERB'), ('মিলাতে', 'VERB'), ('শ্লেষাত্মক', 'ADJ'), ('ভঙ্গিতে', 'NOUN'), ('নাকিসুরে', 'NOUN'), ('বলেছিলেন', 'VERB'), ('\",\"', '.'), ('-', '.'), ('সেজন্যই', 'CONJ'), ('বড়', 'ADJ'), ('করে', 'VERB'), ('করবার', 'NOUN'), ('অনুমতি', 'NOUN'), ('পেলাম', 'VERB'), ('না', 'OTHER'), ('৷', '.')], [('-8', 'OTHER'), ('কৃষি', 'NOUN'), ('ব্যাঙ্ক', 'NOUN'), ('(', 'OTHER'), ('Agricultural', 'OTHER'), ('Bank', 'OTHER'), (')', 'OTHER'), (':', '.'), ('কৃষকদিগকে', 'NOUN'), ('স্বল্প', 'ADJ'), ('সুদে', 'NOUN'), ('ঋণ', 'NOUN'), ('সরবরাহ', 'NOUN'), ('করা', 'NOUN'), ('এই', 'VERB'), ('ব্যাঙ্কের', 'NOUN'), ('প্রধান', 'ADJ'), ('কাজ', 'NOUN'), ('৷', '.')], [('পঞ্চাশ', 'VERB'), ('পেরিয়ে', 'VERB'), ('গেছেন', 'VERB'), ('\",\"', '.'), ('রক্তের', 'NOUN'), ('তেজ', 'NOUN'), ('কমে', 'VERB'), ('গেছে', 'VERB'), ('\",\"', '.'), ('নাক', 'NOUN'), ('আর', 'VERB'), ('আগের', 'NOUN'), ('মত', 'OTHER'), ('কুঁচকে', 'VERB'), ('যায়', 'VERB'), ('না', 'OTHER'), ('সভাসমিতির', 'NOUN'), ('নামে', 'NOUN'), ('৷', '.')], [('আগামী', 'ADJ'), ('মাসে', 'NOUN'), ('পশ্চিমবাংলার', 'NOUN'), (\"দু'জায়গায়\", 'NOUN'), ('উপনির্বাচন', 'NOUN'), ('হতে', 'VERB'), ('যাচ্ছে', 'VERB'), ('৷', '.')], [('এই', 'VERB'), ('মুহুর্তে', 'NOUN'), ('বাংলা', 'NOUN'), ('ভাষা', 'NOUN'), ('নিজেই', 'PRON'), ('এমন', 'VERB'), ('স্বতন্ত্র', 'ADJ'), ('ও', 'CONJ'), ('সমৃদ্ধ', 'ADJ'), ('যে', 'CONJ'), ('\",\"', '.'), ('তা', 'PRON'), ('শিখতে', 'VERB'), ('গেলে', 'ADV'), ('অন্য', 'VERB'), ('কোন', 'VERB'), ('ভাষা', 'NOUN'), ('শেখার', 'NOUN'), ('দরকার', 'NOUN'), ('নেই', 'VERB'), ('৷', '.')], [('আপনার', 'PRON'), ('আজীবনের', 'NOUN'), ('সঙ্গী', 'NOUN'), ('৷', '.')], [('//', 'OTHER'), ('যুগে', 'NOUN'), ('যুগে', 'NOUN'), ('যে', 'ADJ'), ('সকল', 'VERB'), ('মনীষী', 'NOUN'), ('মানুষকে', 'NOUN'), ('ভালবেসে', 'VERB'), ('মানুষের', 'NOUN'), ('মধ্যে', 'NOUN'), ('প্রচার', 'NOUN'), ('করেছেন', 'VERB'), ('প্রেমধর্মের', 'NOUN'), ('মূলমন্ত্র', 'NOUN'), ('\",\"', '.'), ('সেই', 'VERB'), ('মানুষেরই', 'NOUN'), ('হিংস্র', 'ADJ'), ('নখরাঘাতে', 'NOUN'), ('তাঁদের', 'PRON'), ('জীবনের', 'NOUN'), ('ঘটেছে', 'VERB'), ('পরিসমাপ্তি', 'NOUN'), ('৷', '.')], [('ভক্তের', 'NOUN'), ('বর্ণনায়', 'NOUN'), ('অতিরঞ্জন', 'NOUN'), ('\",\"', '.'), ('অতিকথন', 'NOUN'), ('প্রভৃতি', 'NOUN'), ('থাকা', 'NOUN'), ('কিছু', 'VERB'), ('অস্বাভাবিক', 'ADJ'), ('নয়', 'VERB'), ('\",\"', '.'), ('কিন্তু', 'CONJ'), ('অনাবশ্যকভাবে', 'ADV'), ('মিথ্যা', 'ADJ'), ('ঘটনা', 'NOUN'), ('বা', 'CONJ'), ('সংশয়জনক', 'ADJ'), ('দিনক্ষণের', 'NOUN'), ('উল্লেখ', 'NOUN'), ('থাকবে', 'VERB'), ('কেন', 'PRON'), ('?', '.')], [('বোটানিতে', 'NOUN'), ('এম', 'NOUN'), ('এস', 'NOUN'), ('সি', 'NOUN'), ('পড়তে', 'VERB'), ('পড়তে', 'VERB'), ('এদিকে', 'ADV'), ('ঝোঁক', 'NOUN'), ('চাপে', 'VERB'), ('৷', '.')], [('যুক্তিবাক্য', 'NOUN'), ('যেহেতু', 'CONJ'), ('সামান্য', 'VERB'), ('সেইহেতু', 'CONJ'), ('এদের', 'PRON'), ('কোন', 'VERB'), ('অস্তিত্বমূল', 'ADJ'), ('তাত্পর্য্য', 'NOUN'), ('নেই', 'VERB'), ('৷', '.')], [('ভাবলাম', 'VERB'), ('আপনার', 'PRON'), ('থেকে', 'PSP'), ('জেনে', 'VERB'), ('আসি', 'VERB'), ('ঈশ্বরের', 'NOUN'), ('কোন', 'VERB'), ('গতি', 'NOUN'), ('হলো', 'VERB'), ('কিনা', 'OTHER'), ('৷', '.')], [('নির্মাণের', 'NOUN'), ('কাজ', 'NOUN'), ('চলছে', 'VERB'), ('মন্থর', 'ADJ'), ('গতিতে', 'NOUN'), ('৷', '.')], [('পরিবর্তন', 'NOUN'), ('প্রতিভূ', 'NOUN'), ('যুক্তিতর্ক', 'NOUN'), ('\",\"', '.'), ('তথ্য', 'NOUN'), ('ও', 'CONJ'), ('প্রমাণ', 'NOUN'), ('দিয়ে', 'VERB'), ('যে', 'ADJ'), ('কোন', 'VERB'), ('ব্যক্তির', 'NOUN'), ('প্রচলিত', 'ADJ'), ('ধারণ', 'NOUN'), ('বদলাবার', 'NOUN'), ('চেষ্টা', 'NOUN'), ('করেন', 'VERB'), ('\",\"', '.'), ('এখানে', 'ADV'), ('পরিবর্তনকামী', 'NOUN'), ('অত্যন্ত', 'VERB'), ('সুকৌশলী', 'ADJ'), ('৷', '.')], [('`', '.'), ('আমার', 'PRON'), ('সামনে', 'NOUN'), ('এখন', 'ADV'), ('আর', 'VERB'), ('একটিমাত্র', 'VERB'), ('লক্ষ্য', 'NOUN'), ('আছে', 'VERB'), ('৷', '.')], [('তদন্তের', 'NOUN'), ('ভার', 'NOUN'), ('পাওয়ার', 'NOUN'), ('আগেই', 'NOUN'), ('ললিত', 'NOUN'), ('বর্মা', 'NOUN'), ('একবার', 'ADV'), ('বিঠুরে', 'NOUN'), ('ঘুরে', 'VERB'), ('গিয়েছিলেন', 'VERB'), ('৷', '.')], [('তখন', 'ADV'), ('দেখি', 'VERB'), ('পুতলি', 'NOUN'), ('পথের', 'NOUN'), ('মাঝে', 'NOUN'), ('থমকে', 'ADV'), ('দাঁড়িয়ে', 'VERB'), ('আছে', 'VERB'), ('৷', '.')], [('টেবিল', 'NOUN'), ('অনুনাদী', 'ADJ'), ('বস্তুর', 'NOUN'), ('কাজ', 'NOUN'), ('করে', 'VERB'), ('৷', '.')], [('বাবার', 'NOUN'), ('শেষকৃত্য', 'NOUN'), ('সম্পন্ন', 'NOUN'), ('করেই', 'VERB'), ('সীমা', 'NOUN'), ('ফিরে', 'VERB'), ('এসেছিল', 'VERB'), ('কলকাতায়', 'NOUN'), ('৷', '.')], [('রিচার্ডসের', 'NOUN'), ('তাই', 'OTHER'), ('মন', 'NOUN'), ('খারাপ', 'ADJ'), ('হয়ে', 'VERB'), ('গেছে', 'VERB'), ('৷', '.')], [('মূল্য', 'NOUN'), ('উহা', 'PRON'), ('অপেক্ষা', 'PSP'), ('অধিক', 'VERB'), ('হইলে', 'ADV'), ('পণ্য', 'NOUN'), ('আদৌ', 'ADV'), ('বিক্রয়', 'NOUN'), ('হইবে', 'VERB'), ('না', 'OTHER'), ('৷', '.')], [('উপস্থিত', 'ADJ'), ('শ্রোতারা', 'NOUN'), ('বুঝতেই', 'VERB'), ('পারেননি', 'VERB'), ('তখন', 'ADV'), ('দু', 'VERB'), ('ঘণ্টা', 'NOUN'), ('সময়', 'NOUN'), ('অতিবাহিত', 'ADJ'), ('হয়ে', 'VERB'), ('গেছে', 'VERB'), ('৷', '.')], [('প্রদর্শনী', 'NOUN'), ('খেলা', 'NOUN'), ('দুটি', 'VERB'), ('-', '.'), ('ব্যাডমিণ্টন', 'NOUN'), ('ও', 'CONJ'), ('বোলিং', 'NOUN'), ('৷', '.')], [('সাধারণত', 'ADV'), ('নেতাজী', 'NOUN'), ('ডিনারটা', 'NOUN'), ('আনন্দ', 'NOUN'), ('করে', 'VERB'), ('খেতেন', 'VERB'), ('৷', '.')], [('কথায়', 'NOUN'), ('কথায়', 'NOUN'), ('একসময়', 'ADV'), ('তিনি', 'PRON'), ('পত্নীকে', 'NOUN'), ('প্রশ্ন', 'NOUN'), ('করলেন', 'VERB'), (':', '.'), ('আরতির', 'NOUN'), ('সময়', 'NOUN'), ('তোমার', 'PRON'), ('পাশে', 'NOUN'), ('দাঁড়িয়ে', 'VERB'), ('কে', 'PRON'), ('দেবীকে', 'NOUN'), ('চামর', 'NOUN'), ('করছিলেন', 'VERB'), ('?', '.')], [('আয়নাটির', 'NOUN'), ('নাম', 'NOUN'), ('ভালবাসা', 'NOUN'), ('৷', '.')], [('সুতরাং', 'CONJ'), ('বিভিন্ন', 'VERB'), ('বর্ণের', 'NOUN'), ('মিশ্রণে', 'NOUN'), ('কোন', 'VERB'), ('যৌগিক', 'ADJ'), ('আলোকরশ্মি', 'NOUN'), ('কোন', 'VERB'), ('প্রতিসারক', 'ADJ'), ('মাধ্যম', 'NOUN'), ('দ্বারা', 'PSP'), ('প্রতিসৃত', 'ADJ'), ('হইলে', 'ADV'), ('উহা', 'PRON'), ('বিভিন্ন', 'ADJ'), ('বর্ণে', 'NOUN'), ('বিভক্ত', 'ADJ'), ('হইয়া', 'VERB'), ('পড়িবে', 'VERB'), ('৷', '.')], [('যা', 'VERB'), ('বেরিয়ে', 'VERB'), ('যা', 'VERB'), ('৷', '.')], [('//', 'OTHER'), ('বিংশ', 'VERB'), ('শতাব্দীর', 'NOUN'), ('বিশের', 'NOUN'), ('দশকে', 'NOUN'), ('উচ্চ', 'ADJ'), ('বিভব', 'NOUN'), ('সম্পন্ন', 'NOUN'), ('প্রতি', 'ADJ'), ('প্রভব', 'ADJ'), ('বাতি', 'NOUN'), ('ব্যবহার', 'NOUN'), ('হত', 'VERB'), ('৷', '.')], [('এমন', 'PRON'), ('কি', 'OTHER'), ('কোন', 'VERB'), ('উত্তেজনাপূর্ণ', 'ADJ'), ('মুহূর্তকেও', 'NOUN'), ('ধরে', 'VERB'), ('রাখতে', 'VERB'), ('পারেন', 'VERB'), ('৷', '.')], [('স্ত্রী', 'NOUN'), ('-', '.'), ('শিক্ষার', 'NOUN'), ('বিষয়েও', 'NOUN'), ('এই', 'VERB'), ('পত্রিকায়', 'NOUN'), ('নির্লজ্জ', 'ADJ'), ('রক্ষণশীলতা', 'NOUN'), ('প্রকাশ', 'NOUN'), ('পেতো', 'VERB'), ('৷', '.')], [('রাজ্য', 'NOUN'), ('শাখার', 'NOUN'), ('এক', 'VERB'), ('বিবৃতিতে', 'NOUN'), ('বলা', 'NOUN'), ('হয়েছে', 'VERB'), ('\",\"', '.'), ('`', '.'), ('সি', 'NOUN'), ('পি', 'NOUN'), ('আই', 'NOUN'), ('(', 'OTHER'), ('এম', 'NOUN'), (')', 'OTHER'), ('দেশের', 'NOUN'), ('একটি', 'VERB'), ('স্বীকৃত', 'ADJ'), ('রাজনৈতিক', 'ADJ'), ('দল', 'NOUN'), ('৷', '.')], [('আজ', 'ADV'), ('শিরুয়া', 'NOUN'), ('\",\"', '.'), ('কাল', 'ADV'), ('ছিল', 'VERB'), ('বিষুয়া', 'NOUN'), ('৷', '.')], [('তিনি', 'PRON'), ('এ', 'VERB'), ('-', '.'), ('সবের', 'PRON'), ('বিন্দু', 'NOUN'), ('বিসর্গও', 'NOUN'), ('জানেন', 'VERB'), ('না', 'OTHER'), ('৷', '.')], [('কিছু', 'VERB'), ('দুর্বোধ্যতা', 'NOUN'), ('আছে', 'VERB'), ('ডালিমের', 'NOUN'), ('স্বভাবে', 'NOUN'), ('\",\"', '.'), ('অনেকটা', 'VERB'), ('উদাসীনতা', 'NOUN'), ('\",\"', '.'), ('অনেকটা', 'VERB'), ('স্বার্থপরতা', 'NOUN'), ('\",\"', '.'), ('সুযোগ', 'NOUN'), ('বিশেষে', 'OTHER'), ('নির্দয়তা', 'NOUN'), ('আর', 'CONJ'), ('মানুষের', 'NOUN'), ('প্রতি', 'PSP'), ('অগাধ', 'ADJ'), ('বিশ্বাস', 'NOUN'), ('নিয়ে', 'PSP'), ('গড়ে', 'VERB'), ('উঠেছে', 'VERB'), ('তার', 'PRON'), ('চরিত্র', 'NOUN'), ('৷', '.')], [('চিত্র', 'NOUN'), ('নং', 'NOUN'), ('6', 'OTHER'), ('-', '.'), ('গোল', 'ADJ'), ('চোখ', 'NOUN'), (':', '.'), ('ওপরে', 'NOUN'), ('মোটা', 'ADJ'), ('করে', 'PSP'), ('আইলাইনার', 'NOUN'), ('লাগানো', 'NOUN'), ('৷', '.')], [('স্রষ্টার', 'NOUN'), ('কল্পনায়', 'NOUN'), ('যা', 'PRON'), ('থাকে', 'VERB'), ('\",\"', '.'), ('তার', 'PRON'), ('রূপায়ণের', 'NOUN'), ('দায়িত্ব', 'NOUN'), ('তো', 'OTHER'), ('শিল্পীর', 'NOUN'), ('অর্থাত্', 'CONJ'), (\"প্রোডাকশন'এর\", 'NOUN'), ('ওপরেই', 'NOUN'), ('নির্ভর', 'NOUN'), ('করছে', 'VERB'), ('স্রষ্টার', 'NOUN'), ('সৃষ্টির', 'NOUN'), ('সার্থকতা', 'NOUN'), ('৷', '.')], [('এই', 'VERB'), ('পথ', 'NOUN'), ('ধরেই', 'VERB'), ('এগিয়ে', 'VERB'), ('যাও', 'VERB'), ('৷', '.')], [('এর', 'PRON'), ('ফলে', 'NOUN'), ('মরু', 'NOUN'), ('অঞ্চলে', 'NOUN'), ('তীব্র', 'ADJ'), ('নিম্নচাপ', 'NOUN'), ('সৃষ্টি', 'NOUN'), ('হয়', 'VERB'), ('৷', '.')], [('আপাত', 'ADJ'), ('অনুসন্ধানে', 'NOUN'), ('তাদের', 'PRON'), ('প্রতারক', 'NOUN'), ('মনে', 'NOUN'), ('হলেও', 'ADV'), ('তাদের', 'PRON'), ('ব্যাপারে', 'NOUN'), ('পুলিস', 'NOUN'), ('সন্দেহমুক্ত', 'NOUN'), ('নয়', 'VERB'), ('৷', '.')], [('আর', 'CONJ'), ('হাতে', 'NOUN'), ('সময়', 'NOUN'), ('থাকলে', 'ADV'), ('সব', 'VERB'), ('কাজ', 'NOUN'), ('ফেলে', 'VERB'), ('পুনেতে', 'NOUN'), ('গিয়ে', 'VERB'), ('নিশ্চয়ই', 'ADV'), ('শিখে', 'VERB'), ('আসতাম', 'VERB'), ('৷', '.')], [('ব্রাহ্মণগণের', 'NOUN'), ('জন্মাবধি', 'ADV'), ('যে', 'ADJ'), ('যে', 'ADJ'), ('কার্যের', 'NOUN'), ('অনুষ্ঠান', 'NOUN'), ('করা', 'NOUN'), ('কর্ত্তব্য', 'NOUN'), ('তাহা', 'PRON'), ('কীর্ত্তন', 'NOUN'), ('করিতেছি', 'VERB'), ('শ্রবণ', 'NOUN'), ('করুন', 'VERB'), ('৷', '.')], [('যে', 'ADJ'), ('হ্যাণ্ডনোটে', 'NOUN'), ('উপরিউক্ত', 'ADJ'), ('উপাদানগুলি', 'NOUN'), ('বর্তমান', 'NOUN'), ('থাকে', 'VERB'), ('তাহা', 'PRON'), ('বৈধ', 'ADJ'), ('৷', '.')], [('এই', 'VERB'), ('পথে', 'NOUN'), ('আসতে', 'VERB'), ('চায়', 'VERB'), ('এমন', 'VERB'), ('নতুন', 'ADJ'), ('মেয়েরা', 'NOUN'), ('কী', 'PRON'), ('করবেন', 'VERB'), ('?', '.')], [('কলেজ', 'NOUN'), ('ছুটি', 'NOUN'), ('হলে', 'ADV'), ('কলেজ', 'NOUN'), ('মোড়ে', 'NOUN'), ('সবই', 'NOUN'), ('নজরে', 'NOUN'), ('পড়ে', 'VERB'), ('৷', '.')], [('মালদহ', 'NOUN'), ('জেলার', 'NOUN'), ('একটি', 'VERB'), ('জায়গা', 'NOUN'), ('থেকে', 'PSP'), ('রাজা', 'NOUN'), ('শশাঙ্কের', 'NOUN'), ('একটি', 'VERB'), ('স্বর্ণমুদ্রাও', 'NOUN'), ('তাঁরা', 'PRON'), ('সংগ্রহ', 'NOUN'), ('করতে', 'VERB'), ('পেরেছেন', 'VERB'), ('৷', '.')], [('আগামী', 'ADJ'), ('বছর', 'NOUN'), ('1990', 'OTHER'), ('সালকে', 'NOUN'), ('বিশ্ব', 'NOUN'), ('সাক্ষরতা', 'NOUN'), ('দিবস', 'NOUN'), ('হিসাবে', 'PSP'), ('পালন', 'NOUN'), ('করা', 'NOUN'), ('হবে', 'VERB'), ('৷', '.')], [('শিল্প', 'NOUN'), ('শিল্পীর', 'NOUN'), ('অন্তরেই', 'NOUN'), ('প্রকাশিত', 'ADJ'), ('৷', '.')], [('কাজেই', 'CONJ'), ('দেখা', 'NOUN'), ('যাচ্ছে', 'VERB'), ('\",\"', '.'), ('সময়ের', 'NOUN'), ('পরিবর্তনের', 'NOUN'), ('ফলে', 'NOUN'), ('সম্পদের', 'NOUN'), ('স্বরূপ', 'NOUN'), ('পরিবর্তিত', 'ADJ'), ('হয়ে', 'VERB'), ('থাকে', 'VERB'), ('৷', '.')], [('এরই', 'PRON'), ('নাম', 'NOUN'), ('মায়া', 'NOUN'), ('!', '.')], [('বা', 'CONJ'), ('আদৌ', 'ADV'), ('বিয়ে', 'NOUN'), ('করব', 'VERB'), ('৷', '.')], [('তারপর', 'CONJ'), ('সে', 'PRON'), ('একটি', 'VERB'), ('সোনার', 'NOUN'), ('বালা', 'NOUN'), ('মণিবাবার', 'NOUN'), ('হাতে', 'NOUN'), ('পরিয়ে', 'VERB'), ('তার', 'PRON'), ('অন্তিম', 'ADJ'), ('বাসনা', 'NOUN'), ('পুর্ণ', 'ADJ'), ('করল', 'VERB'), ('৷', '.')], [('এঁদের', 'PRON'), ('পরিচয়', 'NOUN'), ('এখনও', 'ADV'), ('জানা', 'NOUN'), ('যায়নি', 'VERB'), ('বলে', 'CONJ'), ('পুলিশ', 'NOUN'), ('জানায়', 'VERB'), ('৷', '.')], [('তারাও', 'PRON'), ('তাঁকে', 'PRON'), ('বরণ', 'NOUN'), ('করে', 'VERB'), ('নিল', 'VERB'), ('প্রিয়', 'ADJ'), ('নেতাজী', 'NOUN'), ('রূপে', 'NOUN'), ('৷', '.')], [('.', '.'), ('যত', 'ADJ'), ('সব', 'VERB'), ('বাজে', 'ADJ'), ('কথা', 'NOUN'), ('৷', '.')], [('শ্রদ্ধা', 'NOUN'), ('\",\"', '.'), ('ভালবাসা', 'NOUN'), ('ও', 'CONJ'), ('নিরুপায়', 'ADJ'), ('ব্যথার', 'NOUN'), ('এক', 'VERB'), ('অব্যক্ত', 'ADJ'), ('মিলিত', 'ADJ'), ('অনুভূতিতে', 'NOUN'), ('দিব্যেন্দুর', 'NOUN'), ('মন', 'NOUN'), ('ভার', 'NOUN'), ('হয়ে', 'VERB'), ('ওঠে', 'VERB'), ('৷', '.')], [('এ', 'VERB'), ('পদে', 'NOUN'), ('অধিষ্ঠিত', 'ADJ'), ('থাকলেনও', 'VERB'), ('তিন', 'VERB'), ('বছর', 'NOUN'), ('৷', '.')], [('কিন্তু', 'CONJ'), ('দিদিমা', 'NOUN'), ('আরও', 'VERB'), ('বাঁচিতে', 'VERB'), ('চান', 'VERB'), ('\",\"', '.'), ('গঙ্গায়', 'NOUN'), ('যাইতে', 'VERB'), ('তাঁহার', 'PRON'), ('মত', 'NOUN'), ('নাই', 'VERB'), ('৷', '.')], [('সুউচ্চ', 'ADJ'), ('মান', 'NOUN'), ('\",\"', '.'), ('না', 'OTHER'), ('সমমান', 'ADJ'), ('স্বল্পসংখ্যক', 'ADJ'), ('মডেল', 'ADJ'), ('স্কুল', 'NOUN'), ('নয়', 'VERB'), ('\",\"', '.'), ('প্রয়োজন', 'NOUN'), ('বহুসংখ্যক', 'ADJ'), ('সমমানের', 'NOUN'), ('বিদ্যালয়', 'NOUN'), ('৷', '.')], [('কথা', 'NOUN'), ('শেষ', 'NOUN'), ('করে', 'VERB'), ('তিনি', 'PRON'), ('আর', 'VERB'), ('এক', 'VERB'), ('মুহূর্ত', 'NOUN'), ('দাঁড়ালেন', 'VERB'), ('না', 'OTHER'), ('\",\"', '.'), ('মুখ', 'NOUN'), ('ফিরিয়ে', 'VERB'), ('হাঁটা', 'NOUN'), ('দিলেন', 'VERB'), ('বাড়ির', 'NOUN'), ('দিকে', 'NOUN'), ('৷', '.')], [('সুতরাং', 'CONJ'), ('\",\"', '.'), ('নিষ্ক্রিয়', 'ADJ'), ('গ্যাসগুলির', 'NOUN'), ('স্থায়িত্ব', 'NOUN'), ('হইবে', 'VERB'), ('সর্বাধিক', 'VERB'), ('৷', '.')], [(\"'\", '.'), ('`', '.'), ('সে', 'PRON'), ('কি', 'PRON'), ('কথা', 'NOUN'), ('৷', '.')], [('বিহারীলালের', 'NOUN'), ('বিবাহ', 'NOUN'), ('হয়', 'VERB'), ('19', 'OTHER'), ('বছর', 'NOUN'), ('বয়সে', 'NOUN'), ('৷', '.')], [('অকুস্থল', 'NOUN'), ('চীনের', 'NOUN'), ('একটি', 'VERB'), ('শহর', 'NOUN'), ('৷', '.')], [('দেখলাম', 'VERB'), ('\",\"', '.'), ('সেকেণ্ড', 'VERB'), ('মেটের', 'NOUN'), ('নৌকাটা', 'NOUN'), ('আমার', 'PRON'), ('পাশে', 'NOUN'), ('এসে', 'VERB'), ('দাঁড়িয়েছে', 'VERB'), ('৷', '.')], [('তার', 'PRON'), ('বেঁচে', 'VERB'), ('থাকাই', 'NOUN'), ('কঠিন', 'ADJ'), ('হয়', 'VERB'), ('৷', '.')], [('পছন্দসইটি', 'NOUN'), ('বেছে', 'VERB'), ('নিন', 'VERB'), ('-', '.'), ('আজই', 'ADV'), ('!', '.')], [('.', '.'), ('ওরা', 'PRON'), ('যে', 'ADJ'), ('স্তরের', 'NOUN'), ('লোক', 'NOUN'), ('সেখানে', 'ADV'), ('আমাদের', 'PRON'), ('সঙ্গে', 'PSP'), ('চেনাজানা', 'NOUN'), ('হয়', 'VERB'), ('না', 'OTHER'), ('৷', '.')], [('হাইকোর্টের', 'NOUN'), ('অন্তর্নিহিত', 'ADJ'), ('ক্ষমতা', 'NOUN'), ('আছে', 'VERB'), ('কোন', 'VERB'), ('নিম্ন', 'ADJ'), ('বা', 'CONJ'), ('অধীনস্থ', 'ADJ'), ('আদালতের', 'NOUN'), ('রেকর্ড', 'NOUN'), ('পত্র', 'NOUN'), ('সংশোধনের', 'NOUN'), ('জন্য', 'PSP'), ('তলব', 'NOUN'), ('করা', 'NOUN'), ('৷', '.')], [('1939', 'OTHER'), ('সালে', 'NOUN'), ('ব্রিটেনে', 'NOUN'), ('চার', 'VERB'), ('হাজার', 'VERB'), ('টিভি', 'NOUN'), ('সেট', 'NOUN'), ('বিক্রি', 'NOUN'), ('হয়', 'VERB'), ('৷', '.')], [('এদের', 'PRON'), ('প্রতিরোধ', 'NOUN'), ('এবং', 'CONJ'), ('প্রতিকারের', 'NOUN'), ('জন্য', 'PSP'), ('বিভিন্ন', 'VERB'), ('ধরণের', 'NOUN'), ('ব্যবস্থার', 'NOUN'), ('মধ্যে', 'NOUN'), ('একটি', 'NOUN'), ('হচ্ছে', 'VERB'), ('বিষাক্ত', 'ADJ'), ('রাসায়নিক', 'NOUN'), ('প্রয়োগে', 'NOUN'), ('এদের', 'PRON'), ('ধ্বংস', 'NOUN'), ('করা', 'NOUN'), ('৷', '.')], [('6টি', 'NOUN'), ('নয়', 'VERB'), ('এবার', 'ADV'), ('7টি', 'VERB'), ('উপন্যাস', 'NOUN'), ('৷', '.')], [('মোজায়', 'NOUN'), ('নেই', 'VERB'), ('ফুটো', 'NOUN'), ('৷', '.')], [('এবং', 'CONJ'), ('তাদের', 'PRON'), ('বিরুদ্ধে', 'NOUN'), ('কোনও', 'VERB'), ('অভিযোগ', 'NOUN'), ('পাওয়া', 'NOUN'), ('গিয়েছিল', 'VERB'), ('বলে', 'CONJ'), ('শুনিনি', 'VERB'), ('৷', '.')], [('স্বামীজী', 'NOUN'), ('কেন', 'PRON'), ('পত্রিকা', 'NOUN'), ('-', '.'), ('প্রকাশের', 'NOUN'), ('ব্যাপারে', 'NOUN'), ('তাঁর', 'PRON'), ('উপর', 'NOUN'), ('বিশেষভাবে', 'ADV'), ('নির্ভর', 'NOUN'), ('করেছিলেন', 'VERB'), ('\",\"', '.'), ('তা', 'PRON'), ('এই', 'VERB'), ('জীবনতথ্যের', 'NOUN'), ('দ্বারা', 'PSP'), ('উদ্ঘাটিত', 'ADJ'), ('হবে', 'VERB'), ('৷', '.')], [('এমন', 'VERB'), ('গণনায়', 'NOUN'), ('ভুল', 'NOUN'), ('থাকা', 'NOUN'), ('কিছু', 'VERB'), ('মাত্র', 'OTHER'), ('অঘটন', 'NOUN'), ('নয়', 'VERB'), ('এবং', 'CONJ'), ('সেটাই', 'PRON'), ('ঘটেছিল', 'VERB'), ('৷', '.')], [('চিত্রতারকার', 'NOUN'), ('বুশশার্টখানা', 'NOUN'), ('মদনা', 'NOUN'), ('সন্ধানী', 'ADJ'), ('চোখে', 'NOUN'), ('দেখে', 'VERB'), ('নিয়েছিল', 'VERB'), ('৷', '.')], [('কয়েকটি', 'VERB'), ('দেশ', 'NOUN'), ('তাদের', 'PRON'), ('প্রতি', 'PSP'), ('অবিচারের', 'NOUN'), ('এবং', 'CONJ'), ('অনাদরেরও', 'NOUN'), ('যেসব', 'ADJ'), ('অনুযোগ', 'NOUN'), ('করেছে', 'VERB'), ('তাও', 'PRON'), ('আমাদের', 'PRON'), ('গৌরব', 'NOUN'), ('বৃদ্ধি', 'NOUN'), ('করে', 'VERB'), ('না', 'OTHER'), ('৷', '.')], [('সলভিন', 'NOUN'), ('বলেছেন', 'VERB'), ('\",\"', '.'), ('এই', 'VERB'), ('পালকির', 'NOUN'), ('সাজসজ্জা', 'NOUN'), ('এমন', 'VERB'), ('চমত্কার', 'ADJ'), ('যে', 'CONJ'), ('যখন', 'ADV'), ('কলকাতায়', 'NOUN'), ('ছিলাম', 'VERB'), ('তখনই', 'ADV'), ('দেখেছি', 'VERB'), ('এর', 'PRON'), ('এক', 'VERB'), ('একটি', 'VERB'), ('তৈরি', 'NOUN'), ('করতে', 'VERB'), ('খরচ', 'NOUN'), ('পড়ে', 'VERB'), ('আট', 'VERB'), ('শত', 'VERB'), ('থেকে', 'PSP'), ('বার', 'VERB'), ('শত', 'VERB'), ('পাউণ্ড', 'NOUN'), ('৷', '.')], [('বোয়ার', 'NOUN'), ('যুদ্ধের', 'NOUN'), ('সময়', 'NOUN'), ('চিকিত্সকরা', 'NOUN'), ('ভেসলিনের', 'NOUN'), ('সঙ্গে', 'PSP'), ('প্রপোলিস', 'NOUN'), ('মিশিয়ে', 'VERB'), ('এক', 'VERB'), ('ধরনের', 'NOUN'), ('মলম', 'NOUN'), ('তৈরি', 'NOUN'), ('করতেন', 'VERB'), ('৷', '.')], [('ইহা', 'PRON'), ('গোড়ার', 'NOUN'), ('দিক', 'NOUN'), ('হইতে', 'PSP'), ('অধোমেণ্টাম', 'NOUN'), ('(', 'OTHER'), ('Wubmentum', 'OTHER'), (')', 'OTHER'), ('এবং', 'CONJ'), ('মেণ্টাম', 'NOUN'), ('(', 'OTHER'), ('mentum', 'OTHER'), (')', 'OTHER'), ('নামক', 'OTHER'), ('দুইটি', 'VERB'), ('খণ্ড', 'NOUN'), ('লইয়া', 'VERB'), ('গঠিত', 'ADJ'), ('৷', '.')], [('বদমেজাজী', 'ADJ'), ('মার্টিন', 'NOUN'), ('সাহেবের', 'NOUN'), ('কাছে', 'NOUN'), ('কে', 'PRON'), ('এই', 'VERB'), ('পূজো', 'NOUN'), ('-', '.'), ('আচ্চার', 'NOUN'), ('প্রস্তাব', 'NOUN'), ('তুলবে', 'VERB'), ('?', '.')], [('তা', 'PRON'), ('সত্ত্বেও', 'OTHER'), ('অবশ্য', 'OTHER'), ('ওদেশে', 'NOUN'), ('মাঠে', 'NOUN'), ('পুলিশ', 'NOUN'), ('রাখা', 'NOUN'), ('হয়', 'VERB'), ('৷', '.')], [('চার', 'VERB'), ('বছরে', 'NOUN'), ('পঞ্চম', 'VERB'), ('মুদ্রণ', 'NOUN'), ('ভ্রমণ', 'NOUN'), ('সাহিত্যে', 'NOUN'), ('সত্যিই', 'ADV'), ('অভাবনীয়', 'ADJ'), ('এবং', 'CONJ'), ('আনন্দের', 'NOUN'), ('৷', '.')], [('আরও', 'VERB'), ('বড়', 'ADJ'), ('কিছু', 'VERB'), ('\",\"', '.'), ('বেশী', 'VERB'), ('কিছু', 'VERB'), ('৷', '.')], [('বিংশ', 'VERB'), ('শতাব্দীর', 'NOUN'), ('তৃতীয়', 'VERB'), ('দশকে', 'NOUN'), ('মার্কিন', 'NOUN'), ('যুক্তরাষ্ট্র', 'NOUN'), ('এবং', 'CONJ'), ('পৃথিবীব্যাপী', 'ADJ'), ('মন্দা', 'ADJ'), ('বাজারের', 'NOUN'), ('(', 'OTHER'), ('Great', 'OTHER'), ('DepreWWion', 'OTHER'), (')', 'OTHER'), ('সমস্যায়', 'NOUN'), ('রাষ্ট্রপতি', 'NOUN'), ('রুজভেল্ট', 'NOUN'), ('(', 'OTHER'), ('RooWevelt', 'OTHER'), (')', 'OTHER'), ('এক', 'VERB'), ('অর্থনৈতিক', 'ADJ'), ('পরিকল্পনা', 'NOUN'), ('(', 'OTHER'), ('New', 'OTHER'), ('Deal', 'OTHER'), (')', 'OTHER'), ('গ্রহণ', 'NOUN'), ('করেন', 'VERB'), ('৷', '.')], [('আর', 'CONJ'), ('ছিয়াশিতে', 'NOUN'), ('21', 'OTHER'), ('বছরের', 'NOUN'), ('কমবয়েসীদের', 'NOUN'), ('ইউরোপিয়ান', 'NOUN'), ('কাপ', 'NOUN'), ('জয়ী', 'NOUN'), ('স্পেনের', 'NOUN'), ('ম্যানেজার', 'NOUN'), ('ছিলেন', 'VERB'), ('সুয়ারেজ', 'NOUN'), ('৷', '.')], [('চণ্ডীবাবুর', 'NOUN'), ('মৃত্যুতেই', 'NOUN'), ('রাজকমলবাবুর', 'NOUN'), ('দুর্ভাগ্যের', 'NOUN'), ('শেষ', 'NOUN'), ('হলো', 'VERB'), ('না', 'OTHER'), ('৷', '.')], [('সারা', 'ADJ'), ('হায়দ্রাবদ', 'NOUN'), ('শহরে', 'NOUN'), ('উত্সবের', 'NOUN'), ('হাওয়া', 'NOUN'), ('৷', '.')], [('শীতকাল', 'NOUN'), ('বড়', 'ADJ'), ('প্রবঞ্চক', 'NOUN'), ('৷', '.')], [('তা', 'PRON'), ('কেবলমাত্র', 'ADV'), ('সমাজগত', 'ADJ'), ('এক', 'VERB'), ('সার্বিক', 'ADJ'), ('প্রচেষ্টাতেই', 'NOUN'), ('অর্জন', 'NOUN'), ('করা', 'NOUN'), ('সম্ভব', 'ADJ'), ('৷', '.')], [('তেলকালিবাবু', 'NOUN'), ('একটু', 'VERB'), ('হেসে', 'VERB'), ('বলেছিলেন', 'VERB'), ('\",\"', '.'), ('প্রপার্টি', 'NOUN'), ('থাকলেই', 'ADV'), ('ক্যালকাটার', 'NOUN'), ('ব্রহ্মা', 'NOUN'), ('বিষ্ণু', 'NOUN'), ('মহেশ্বরকে', 'NOUN'), ('রেগুলার', 'ADJ'), ('পেন্নাম', 'NOUN'), ('ঠুকতেই', 'VERB'), ('হবে', 'VERB'), ('৷', '.')], [('শিল্পগুলি', 'NOUN'), ('দরকারমত', 'ADJ'), ('বিদ্যুত্্', 'NOUN'), ('পাচ্ছে', 'VERB'), ('না', 'OTHER'), ('\",\"', '.'), ('অথচ', 'CONJ'), ('রাজ্য', 'NOUN'), ('সরকার', 'NOUN'), ('তাঁদের', 'PRON'), ('বললেন', 'VERB'), ('-', '.'), ('লে', 'NOUN'), ('অফ', 'NOUN'), ('কোরো', 'VERB'), ('না', 'OTHER'), ('৷', '.')], [('পরে', 'NOUN'), ('আনা', 'NOUN'), ('যাবে', 'VERB'), ('৷', '.')], [('প্রবীরও', 'NOUN'), ('রাধার', 'NOUN'), ('কথায়', 'NOUN'), ('বিশ্বাস', 'NOUN'), ('করে', 'VERB'), ('ছুটে', 'VERB'), ('আসবে', 'VERB'), ('রমেনকে', 'NOUN'), ('বাঁচাতে', 'VERB'), ('৷', '.')], [('এই', 'VERB'), ('দুই', 'VERB'), ('প্রভাবের', 'NOUN'), ('সম্মিলিত', 'ADJ'), ('ফলস্বরূপ', 'NOUN'), ('দ্রব্যটির', 'NOUN'), ('দাম', 'NOUN'), ('হ্রাস', 'NOUN'), ('পাওয়ায়', 'NOUN'), ('উহার', 'PRON'), ('চাহিদা', 'NOUN'), ('10', 'OTHER'), ('শতাংশ', 'NOUN'), ('হ্রাস', 'NOUN'), ('পাইল', 'VERB'), ('৷', '.')], [('সেসব', 'VERB'), ('দিনের', 'NOUN'), ('কথা', 'NOUN'), ('লক্ষ', 'VERB'), ('লক্ষ', 'VERB'), ('মানুষ', 'NOUN'), ('ভুলে', 'VERB'), ('যেতে', 'VERB'), ('চান', 'VERB'), ('আজ', 'ADV'), ('৷', '.')], [('দুজনেই', 'NOUN'), ('ইঙ্গিতটা', 'NOUN'), ('ধরতে', 'VERB'), ('পেরেছেন', 'VERB'), ('৷', '.')], [('বল্লারশাহ', 'NOUN'), ('এবং', 'CONJ'), ('ওয়ারধা', 'NOUN'), ('থেকে', 'PSP'), ('য়্যামবুলেনস', 'NOUN'), ('নিয়ে', 'VERB'), ('ছুটে', 'VERB'), ('গিয়েছেন', 'VERB'), ('চিকিত্্সকরা', 'NOUN'), ('৷', '.')], [('যাঁহারা', 'PRON'), ('ধীশক্তিসম্পন্ন', 'NOUN'), ('\",\"', '.'), ('সূক্ষ্মদর্শী', 'NOUN'), ('\",\"', '.'), ('চিন্তাশীল', 'ADJ'), ('কবি', 'NOUN'), ('ও', 'CONJ'), ('রসিক', 'NOUN'), ('\",\"', '.'), ('তাঁহারাই', 'PRON'), ('প্রবাদের', 'NOUN'), ('সৃষ্টিকর্তা', 'NOUN'), ('৷', '.')], [('কিন্তু', 'CONJ'), ('প্রকাশ্যে', 'NOUN'), ('তা', 'PRON'), ('তারা', 'PRON'), ('স্বীকার', 'NOUN'), ('করে', 'VERB'), ('না', 'OTHER'), ('৷', '.')], [('চাঁদে', 'NOUN'), ('ঠিক', 'ADV'), ('এর', 'PRON'), ('উল্টোটা', 'NOUN'), ('খাটে', 'VERB'), (':', '.'), ('মহাকর্ষ', 'NOUN'), ('যথাকিঞ্চিত', 'ADJ'), ('\",\"', '.'), ('ওখানে', 'ADV'), ('থাকতে', 'VERB'), ('পারে', 'VERB'), ('অতিকায়', 'ADJ'), ('লোক', 'NOUN'), ('৷', '.')], [('টোয়ের', 'NOUN'), ('দল', 'NOUN'), ('বলতে', 'ADV'), ('স্রেফ', 'VERB'), (':', '.'), ('দুটো', 'NOUN'), ('৷', '.')], [('এটুকু', 'PRON'), ('ভেবে', 'VERB'), ('দেখলেই', 'ADV'), ('\",\"', '.'), ('বিশ্লেষণ', 'NOUN'), ('করলেই', 'ADV'), ('বোঝা', 'NOUN'), ('যাবে', 'VERB'), ('বাংলা', 'NOUN'), ('ভাষার', 'NOUN'), ('আন্তর', 'ADJ'), ('-', '.'), ('চরিত্রে', 'NOUN'), ('আছে', 'VERB'), ('বহুমাত্রিক', 'ADJ'), ('নির্মাণ', 'NOUN'), ('৷', '.')], [('এ', 'VERB'), ('কোথায়', 'ADV'), ('এলুম', 'VERB'), ('রে', 'OTHER'), ('বাবা', 'NOUN'), ('!', '.')], [('মাধু', 'NOUN'), ('!', '.')], [('কিন্তু', 'CONJ'), ('ইদানিং', 'ADV'), ('গদাধরকে', 'NOUN'), ('নিয়ে', 'PSP'), ('তার', 'PRON'), ('মায়ের', 'NOUN'), ('বড়', 'ADJ'), ('ভাবনা', 'NOUN'), ('৷', '.')], [('গুরুজনের', 'NOUN'), ('সামনে', 'NOUN'), ('বসে', 'VERB'), ('পর্যায়ক্রমে', 'ADV'), ('তার', 'PRON'), ('দুটি', 'VERB'), ('পা', 'NOUN'), ('তুলে', 'VERB'), ('নিয়ে', 'VERB'), ('সে', 'PRON'), ('নিজের', 'PRON'), ('মাথায়', 'NOUN'), ('ঠেকায়', 'VERB'), ('এবং', 'CONJ'), ('নিজের', 'PRON'), ('ইচ্ছা', 'NOUN'), ('জানায়', 'VERB'), ('৷', '.')], [('একমাত্র', 'VERB'), ('শ্রমই', 'NOUN'), ('পণ্য', 'NOUN'), ('-', '.'), ('মূল্য', 'NOUN'), ('সৃষ্টি', 'NOUN'), ('করে', 'VERB'), ('এবং', 'CONJ'), ('শ্রমই', 'NOUN'), ('মূল্যের', 'NOUN'), ('মাপকাঠি', 'NOUN'), ('(', '.'), ('অর্থাত্', 'CONJ'), ('একটি', 'VERB'), ('পণ্যের', 'NOUN'), ('মূল্য', 'NOUN'), ('জানতে', 'VERB'), ('হলে', 'ADV'), ('জানতে', 'VERB'), ('হবে', 'VERB'), ('পণ্যটি', 'NOUN'), ('তৈরি', 'NOUN'), ('করতে', 'VERB'), ('কি', 'ADJ'), ('পরিমাণ', 'NOUN'), ('প্রয়োজনীয়', 'ADJ'), ('-', '.'), ('সামাজিক', 'ADJ'), ('-', '.'), ('শ্রম', 'NOUN'), ('ব্যয়', 'NOUN'), ('হয়েছে', 'VERB'), (')', 'OTHER'), ('৷', '.')], [('ও', 'PRON'), ('কোনদিন', 'ADV'), ('গাইতে', 'VERB'), ('পারবে', 'VERB'), ('না', 'OTHER'), ('\",\"', '.'), ('ওর', 'PRON'), ('চেয়ে', 'PSP'), ('সত্য', 'NOUN'), ('ভালো', 'ADV'), ('গায়', 'VERB'), ('৷', '.')], [(\"'\", '.'), ('আসলে', 'ADV'), ('মেয়েরা', 'NOUN'), ('বিয়ের', 'NOUN'), ('আগে', 'NOUN'), ('সাধারণত', 'ADV'), ('সেক্সের', 'NOUN'), ('ব্যাপারে', 'NOUN'), ('একটু', 'VERB'), ('সংকুচিত', 'ADJ'), ('হয়েই', 'VERB'), ('থাকে', 'VERB'), ('৷', '.')], [('ভোর', 'NOUN'), ('পাঁচটা', 'NOUN'), ('বাজলে', 'ADV'), ('লোকের', 'NOUN'), ('ঘুম', 'NOUN'), ('ভাঙে', 'VERB'), ('বালতির', 'NOUN'), ('আওয়াজে', 'NOUN'), ('৷', '.')], [('পুরো', 'VERB'), ('ব্যাটালিয়ান', 'NOUN'), ('নিয়ে', 'PSP'), ('পাঁচটার', 'NOUN'), ('সময়', 'NOUN'), ('গিয়ে', 'VERB'), ('দেখি', 'VERB'), ('তিন', 'VERB'), ('-', '.'), ('চারদিনের', 'NOUN'), ('জন্য', 'PSP'), ('হাউসফুল', 'ADJ'), ('-', '.'), ('কোনো', 'VERB'), ('টিকিট', 'NOUN'), ('নেই', 'VERB'), ('৷', '.')], [('এই', 'VERB'), ('বৈঠকে', 'NOUN'), ('পর্য্যবেক্ষক', 'NOUN'), ('হিসাবে', 'PSP'), ('কেন্দ্রীয়', 'ADJ'), ('প্রতিমন্ত্রী', 'NOUN'), ('কল্পনাথ', 'NOUN'), ('রাই', 'NOUN'), ('এবং', 'CONJ'), ('এ', 'NOUN'), ('আই', 'NOUN'), ('সি', 'NOUN'), ('বি', 'NOUN'), ('#NAME?', 'PSP'), ('সাধারণ', 'ADJ'), ('সম্পাদক', 'NOUN'), ('ও', 'NOUN'), ('আর', 'NOUN'), ('মাল্লু', 'NOUN'), ('যোগ', 'NOUN'), ('দেবেন', 'VERB'), ('৷', '.')], [('দুই', 'VERB'), ('বাংলা', 'NOUN'), ('আলাদা', 'ADJ'), ('হবার', 'NOUN'), ('আগে', 'NOUN'), ('বাঙালির', 'NOUN'), ('মধ্যে', 'NOUN'), ('জাতিভেদ', 'NOUN'), ('ছিল', 'VERB'), ('ঠিকই', 'ADV'), ('কিন্তু', 'CONJ'), ('বাঙালির', 'NOUN'), ('সংস্কৃতি', 'NOUN'), ('\",\"', '.'), ('ভাষা', 'NOUN'), ('\",\"', '.'), ('সবই', 'PRON'), ('তো', 'OTHER'), ('এক', 'ADJ'), ('ছিল', 'VERB'), ('৷', '.')], [('এতে', 'PRON'), ('সিধুর', 'NOUN'), ('অবশ্য', 'CONJ'), ('ক্ষোভ', 'NOUN'), ('নেই', 'VERB'), ('৷', '.')], [('অতএব', 'CONJ'), ('হোসেনুর', 'NOUN'), ('রহমান', 'NOUN'), ('মুসলিম', 'NOUN'), ('নারী', 'NOUN'), ('নির্যাতনের', 'NOUN'), ('কথা', 'NOUN'), ('আপাতত', 'ADV'), ('না', 'OTHER'), ('লিখে', 'VERB'), ('হিন্দু', 'NOUN'), ('সমাজের', 'NOUN'), ('লক্ষ', 'VERB'), ('লক্ষ', 'VERB'), ('নির্যাতিত', 'ADJ'), ('মা', 'NOUN'), ('বোনেদের', 'NOUN'), ('কথা', 'NOUN'), ('কিছু', 'VERB'), ('লিখুন', 'VERB'), ('৷', '.')], [('কিন্তু', 'CONJ'), ('মানুষ', 'NOUN'), ('যেমন', 'PRON'), ('কোন', 'VERB'), ('অভূতপূর্ব', 'ADJ'), ('অভিজ্ঞতার', 'NOUN'), ('সম্মুখীন', 'ADJ'), ('হলে', 'ADV'), ('বুদ্ধি', 'NOUN'), ('দ্বারা', 'PSP'), ('ঠিক', 'ADV'), ('করে', 'VERB'), ('নিতে', 'VERB'), ('পারে', 'VERB'), ('কিংকর্তব্যম', 'NOUN'), (';', '.'), ('কিন্তু', 'CONJ'), ('প্রাণীর', 'NOUN'), ('নতুন', 'ADJ'), ('পরিস্থিতিতে', 'NOUN'), ('নতুন', 'ADJ'), ('সিদ্ধান্ত', 'NOUN'), ('নেবার', 'NOUN'), ('ক্ষমতা', 'NOUN'), ('নেই', 'VERB'), ('৷', '.')], [('প্রয়োজনে', 'NOUN'), ('আমরাও', 'PRON'), ('এমন', 'VERB'), ('আওয়াজ', 'NOUN'), ('তুলে', 'VERB'), ('থাকি', 'VERB'), ('৷', '.')], [('বলতো', 'VERB'), ('ওদের', 'PRON'), ('ফ্ল্যাটের', 'NOUN'), ('দামী', 'ADJ'), ('দামী', 'ADJ'), ('জিনিস', 'NOUN'), ('চুরি', 'NOUN'), ('হয়ে', 'VERB'), ('গেছে', 'VERB'), ('তোমার', 'PRON'), ('দোষে', 'NOUN'), ('৷', '.')], [('দুদিন', 'NOUN'), ('সবুর', 'NOUN'), ('করো', 'VERB'), ('মশাই', 'NOUN'), ('৷', '.')], [('তুমিই', 'PRON'), ('কি', 'PRON'), ('সেই', 'PRON'), ('-', '.'), (\"'\", '.'), ('তার', 'PRON'), ('মুখের', 'NOUN'), ('কথা', 'NOUN'), ('কেড়ে', 'VERB'), ('নিয়ে', 'VERB'), ('চার্লি', 'NOUN'), ('ছোট্ট', 'ADJ'), ('করে', 'PSP'), ('হাসলেন', 'VERB'), ('৷', '.')], [('রাহু', 'NOUN'), ('ও', 'CONJ'), ('কেতুর', 'NOUN'), ('কল্পনা', 'NOUN'), ('বৈদিক', 'ADJ'), ('যুগে', 'NOUN'), ('৷', '.')], [('শ্রীমতী', 'NOUN'), ('ডাইসনের', 'NOUN'), ('আদর্শ', 'ADJ'), ('মেয়েকে', 'NOUN'), ('গুলতিতে', 'NOUN'), ('ঢুকিয়ে', 'VERB'), ('ছুঁড়লে', 'ADV'), ('\",\"', '.'), ('সেই', 'VERB'), ('মেয়ে', 'NOUN'), ('হবে', 'VERB'), ('স্বস্থানচ্যূত', 'ADJ'), ('নিবাসী', 'NOUN'), ('৷', '.')], [('সেই', 'VERB'), ('ছবিটি', 'NOUN'), ('পরে', 'NOUN'), ('তৈরি', 'NOUN'), ('হয়েছে', 'VERB'), ('`', '.'), ('এক', 'NOUN'), ('চাদর', 'NOUN'), ('মৈলী', 'NOUN'), ('সী', 'NOUN'), (\"'\", '.'), ('নামে', 'NOUN'), ('৷', '.')], [('ম্যাগাজিন', 'NOUN'), ('ডিমাই', 'NOUN'), ('\",\"', '.'), ('ডবল', 'ADJ'), ('ডিমাই', 'NOUN'), ('বা', 'CONJ'), ('ক্রাউন', 'NOUN'), ('যে', 'ADJ'), ('কোন', 'VERB'), ('সাইজের', 'NOUN'), ('হতে', 'VERB'), ('পারে', 'VERB'), ('৷', '.')], [('এই', 'VERB'), ('মাথা', 'NOUN'), ('নাড়ার', 'NOUN'), ('মানে', 'NOUN'), ('হ্যাঁ', 'OTHER'), ('-', '.'), ('ও', 'OTHER'), ('হতে', 'VERB'), ('পারে', 'VERB'), ('\",\"', '.'), ('আবার', 'ADV'), ('অনিশ্চিত', 'ADJ'), ('হতেও', 'VERB'), ('পারে', 'VERB'), ('৷', '.')], [('পরে', 'NOUN'), ('অবশ্য', 'CONJ'), ('আমার', 'PRON'), ('অভিনয়', 'NOUN'), ('রীতিকে', 'NOUN'), ('দর্শক', 'NOUN'), ('মেনে', 'VERB'), ('নিয়েছে', 'VERB'), ('৷', '.')], [('কয়েকজন', 'VERB'), ('মন্ত্রীকে', 'NOUN'), ('সরিয়ে', 'VERB'), ('দেবার', 'NOUN'), ('পর', 'NOUN'), ('বিহার', 'NOUN'), ('মন্ত্রিসভা', 'NOUN'), ('কি', 'PRON'), ('এবার', 'ADV'), ('ভ্রষ্টাচার', 'NOUN'), ('মুক্ত', 'ADJ'), ('হবে', 'VERB'), ('?', '.')], [('এমন', 'PRON'), ('কি', 'OTHER'), ('পশ্চিমবঙ্গেও', 'NOUN'), ('৷', '.')], [('রিপু', 'NOUN'), ('সকলও', 'PRON'), ('তদ্রুপ', 'ADJ'), ('৷', '.')], [('এখানে', 'ADV'), ('একদিকে', 'ADV'), ('যেমন', 'PRON'), ('দুঃখ', 'NOUN'), ('কষ্ট', 'NOUN'), ('\",\"', '.'), ('কদর্য্য', 'ADJ'), ('গ্বানি', 'NOUN'), (';', '.'), ('আবার', 'ADV'), ('ছিল', 'VERB'), ('পাখির', 'NOUN'), ('কাকলি', 'NOUN'), ('\",\"', '.'), ('ফুলের', 'NOUN'), ('সৌরভ', 'NOUN'), ('\",\"', '.'), ('কচি', 'ADJ'), ('পাতার', 'NOUN'), ('মাধুর্য্য', 'NOUN'), ('৷', '.')], [('.', '.'), ('আবার', 'ADV'), ('সর্বমঙ্গলা', 'NOUN'), ('দেবীকে', 'NOUN'), ('প্রণাম', 'NOUN'), ('করিয়া', 'VERB'), ('তাহার', 'PRON'), ('পরদিন', 'ADV'), ('সকালে', 'NOUN'), ('আসিবে', 'VERB'), ('\",\"', '.'), ('এই', 'VERB'), ('প্রতিশ্রূতি', 'NOUN'), ('দিয়া', 'VERB'), ('চলিয়া', 'VERB'), ('গেল', 'VERB'), ('৷', '.')], [('লেখকদের', 'NOUN'), ('যুক্তি', 'NOUN'), ('প্রায়ই', 'ADV'), ('উচ্চারণের', 'NOUN'), ('কাছাকাছি', 'ADJ'), ('থাকা', 'NOUN'), ('\",\"', '.'), ('ভাষাবিদরা', 'NOUN'), ('তত্ত্বগত', 'ADJ'), ('কারণ', 'NOUN'), ('দেখান', 'VERB'), ('৷', '.')], [('তাই', 'CONJ'), ('যতই', 'VERB'), ('তামাসা', 'NOUN'), ('থাকুক', 'VERB'), ('না', 'OTHER'), ('কেন', 'PRON'), ('\",\"', '.'), ('মোটামুটিভাবে', 'ADV'), ('এইসব', 'VERB'), ('লেখাতে', 'NOUN'), ('সত্যই', 'NOUN'), ('থাকে', 'VERB'), ('৷', '.')], [('কোন', 'VERB'), ('কোন', 'VERB'), ('সময়', 'NOUN'), ('বিভিন্ন', 'ADJ'), ('গ্রামের', 'NOUN'), ('গ্রাম-দেবীরা', 'NOUN'), ('পরস্পর', 'ADJ'), ('ভগিনীর', 'NOUN'), ('সম্পর্কে', 'NOUN'), ('আবদ্ধা', 'ADJ'), ('৷', '.')], [('এই', 'VERB'), ('বেদীর', 'NOUN'), ('উচ্চতা', 'NOUN'), ('সূর্য্যমন্দিরের', 'NOUN'), ('বেদীর', 'NOUN'), ('উচ্চতার', 'NOUN'), ('প্রায়', 'ADV'), ('সমান', 'ADJ'), ('৷', '.')], [('সংযোজক', 'ADJ'), ('হিসেবে', 'PSP'), ('আলোচনা', 'NOUN'), ('পরিচালনার', 'NOUN'), ('দায়িত্বে', 'NOUN'), ('ছিলেন', 'VERB'), ('অমিতাভ', 'NOUN'), ('চৌধুরি', 'NOUN'), ('৷', '.')], [('অর্থাত্', 'CONJ'), ('মাটির', 'NOUN'), ('ওপর', 'NOUN'), ('থেকে', 'PSP'), ('যেন', 'OTHER'), ('দুদিকে', 'ADV'), ('দুটো', 'VERB'), ('গাছ', 'NOUN'), ('সমান', 'ADJ'), ('ভাবে', 'PSP'), ('থাকে', 'VERB'), ('৷', '.')], [('গ্রন্থাগারের', 'NOUN'), ('কোন', 'VERB'), ('সক্রিয়', 'ADJ'), ('ভূমিকা', 'NOUN'), ('ছিল', 'VERB'), ('না', 'OTHER'), ('৷', '.')], [('ডাইনে', 'NOUN'), ('বাঁয়ে', 'NOUN'), ('সামনে', 'NOUN'), ('ঠুকেই', 'VERB'), ('চলেছে', 'VERB'), ('৷', '.')], [('ঊনবিংশ', 'VERB'), ('শতাব্দীতে', 'NOUN'), ('ভারতের', 'NOUN'), ('অর্থনৈতিক', 'ADJ'), ('রূপান্তর', 'NOUN'), ('বহুল', 'ADJ'), ('পরিমাণে', 'NOUN'), ('বিদেশীয়', 'ADJ'), ('(', 'OTHER'), ('বিশেষতঃ', 'ADV'), ('ইংল্যাণ্ডে', 'NOUN'), ('সংগঠিত', 'ADJ'), (')', 'OTHER'), ('ম্যানেজিং', 'NOUN'), ('এজেন্সী', 'NOUN'), ('হাউসগুলির', 'NOUN'), ('মূলধন', 'NOUN'), ('সংগ্রহে', 'NOUN'), ('দক্ষতা', 'NOUN'), ('ও', 'CONJ'), ('ব্যবসায়ে', 'NOUN'), ('নৈপুণ্যের', 'NOUN'), ('উপর', 'NOUN'), ('নির্ভরশীল', 'ADJ'), ('ছিল', 'VERB'), ('৷', '.')], [('গ্রন্থকার', 'NOUN'), ('ভাস্করাচার্য্য', 'NOUN'), ('৷', '.')], [('নীট', 'ADJ'), ('লাভ', 'NOUN'), ('ব্যবসায়ের', 'NOUN'), ('উপর', 'NOUN'), ('মালিকের', 'NOUN'), ('দাবি', 'NOUN'), ('বৃদ্ধি', 'NOUN'), ('করে', 'VERB'), ('বলিয়া', 'CONJ'), ('ইহাকে', 'PRON'), ('মালিকের', 'NOUN'), ('মূলধন', 'NOUN'), ('হিসাবে', 'PSP'), ('ক্রেডিট', 'NOUN'), ('করা', 'NOUN'), ('হয়', 'VERB'), ('৷', '.')], [('নবীন', 'NOUN'), ('বাধা', 'NOUN'), ('পেয়ে', 'VERB'), ('গর্জে', 'VERB'), ('ওঠে', 'VERB'), ('\",\"', '.'), ('তুমার', 'PRON'), ('বুকে', 'NOUN'), ('মান', 'NOUN'), ('নাই', 'OTHER'), ('থাকত্যে', 'VERB'), ('পারে', 'VERB'), ('৷', '.')], [('দাম', 'NOUN'), (':', '.'), ('20', 'OTHER'), ('৷', '.')], [('বিধান', 'NOUN'), ('সভা', 'NOUN'), ('/', '.'), ('সংসদ', 'NOUN'), ('(', 'OTHER'), ('AWWembly', 'OTHER'), ('/', '.'), ('Parliament', 'OTHER'), (')', 'OTHER'), (':', '.'), ('বিধান', 'NOUN'), ('সভার', 'NOUN'), ('সদস্য', 'NOUN'), ('হইতে', 'VERB'), ('হইলে', 'ADV'), ('ন্যুনতম', 'ADJ'), ('25', 'OTHER'), ('বত্সর', 'NOUN'), ('বয়স', 'NOUN'), ('হওয়া', 'NOUN'), ('দরকার', 'NOUN'), ('৷', '.')], [('আমার', 'PRON'), ('তো', 'OTHER'), ('আর', 'OTHER'), ('কোন', 'VERB'), ('পরিচয়', 'NOUN'), ('নেই', 'VERB'), ('\",\"', '.'), ('তাই', 'CONJ'), ('আমি', 'PRON'), ('অফিসের', 'NOUN'), ('কথা', 'NOUN'), ('বলেছি', 'VERB'), ('৷', '.')], [('সাধারণভাবে', 'ADV'), ('উত্পাদনমূলক', 'ADJ'), ('প্রক্রিয়ার', 'NOUN'), ('সঙ্গে', 'PSP'), ('পরিচিত', 'ADJ'), ('করাই', 'NOUN'), ('এই', 'VERB'), ('কর্মমূলক', 'ADJ'), ('শিক্ষার', 'NOUN'), ('আসল', 'ADJ'), ('উদ্দেশ্য', 'NOUN'), ('৷', '.')], [('যে', 'ADJ'), ('সকল', 'VERB'), ('দ্রব্যের', 'NOUN'), ('জন্য', 'PSP'), ('আয়ের', 'NOUN'), ('এক', 'VERB'), ('বিরাট', 'ADJ'), ('অংশ', 'NOUN'), ('ব্যয়', 'NOUN'), ('করা', 'NOUN'), ('হয়', 'VERB'), ('\",\"', '.'), ('সেই', 'VERB'), ('সকল', 'VERB'), ('দ্রব্যের', 'NOUN'), ('ক্ষেত্রে', 'PSP'), ('এইরূপ', 'VERB'), ('পরিস্থিতির', 'NOUN'), ('উদ্ভব', 'NOUN'), ('হয়', 'VERB'), ('৷', '.')], [('কবিরা', 'NOUN'), ('অথবা', 'CONJ'), ('যাঁরা', 'PRON'), ('চারু', 'ADJ'), ('সাহিত্যসেবী', 'NOUN'), ('রূপে', 'NOUN'), ('নিজেদের', 'PRON'), ('মূল্যারোপণে', 'NOUN'), ('অভ্যস্ত', 'ADJ'), ('তাঁদের', 'PRON'), ('ক্ষেত্রে', 'PSP'), ('সব', 'VERB'), ('সময়ই', 'NOUN'), ('এরূপ', 'NOUN'), ('হয়', 'VERB'), ('না', 'OTHER'), ('৷', '.')], [('.', '.'), ('বিস্মিতা', 'ADJ'), ('এলিজাবেথ', 'NOUN'), ('চোখ', 'NOUN'), ('দুটি', 'VERB'), ('ক্রমশ', 'ADV'), ('বড়', 'ADJ'), ('হয়ে', 'VERB'), ('উঠছে', 'VERB'), ('৷', '.')], [('পুস্তক', 'NOUN'), ('মহল', 'NOUN'), ('৷', '.')], [('তাড', 'NOUN'), ('মিউজিয়াম', 'NOUN'), ('-', '.'), ('আগ্রা', 'NOUN'), ('৷', '.')], [('এবার', 'ADV'), ('বলুন', 'VERB'), ('\",\"', '.'), ('ঐ', 'VERB'), ('পাথর', 'NOUN'), ('বাছাই-এর', 'NOUN'), ('কাজ', 'NOUN'), ('কি', 'PRON'), ('রোবট', 'NOUN'), ('বা', 'CONJ'), ('যন্ত্রমগজ', 'NOUN'), ('করতে', 'VERB'), ('পারত', 'VERB'), ('?', '.')], [('বাড়ির', 'NOUN'), ('সবাই', 'PRON'), ('কেমন', 'PRON'), ('যেন', 'OTHER'), ('পাথরের', 'NOUN'), ('মতো', 'OTHER'), ('চুপ', 'ADJ'), ('৷', '.')], [('প্রেমের', 'NOUN'), ('দাড়ি', 'NOUN'), ('৷', '.')], [('যুবক', 'NOUN'), ('যাত্রীরা', 'NOUN'), ('লোহার', 'NOUN'), ('জয়েণ্ট', 'NOUN'), ('নামিয়ে', 'VERB'), ('ঠেকা', 'NOUN'), ('দিয়ে', 'VERB'), ('ইঞ্জিন', 'NOUN'), ('তুলতে', 'VERB'), ('রাজি', 'NOUN'), ('হল', 'VERB'), ('৷', '.')], [('এই', 'VERB'), ('প্রথম', 'VERB'), ('প্রযোজকেরা', 'NOUN'), ('লাফ', 'NOUN'), ('দিয়ে', 'PSP'), ('উঠলেন', 'VERB'), ('না', 'OTHER'), ('কোনও', 'VERB'), ('বিবাদের', 'NOUN'), ('গন্ধ', 'NOUN'), ('পেয়েও', 'VERB'), ('৷', '.')], [('সামাজিক', 'ADJ'), ('বিচারের', 'NOUN'), ('প্রশ্ন', 'NOUN'), ('জড়িত', 'ADJ'), ('এমন', 'VERB'), ('সব', 'VERB'), ('বিষয়', 'NOUN'), ('তারা', 'PRON'), ('পরিবেশন', 'NOUN'), ('করবে', 'VERB'), ('৷', '.')], [('না', 'OTHER'), ('হলে', 'ADV'), ('সেটা', 'PRON'), ('হবে', 'VERB'), ('তাঁর', 'PRON'), ('তৈরি', 'NOUN'), ('খড়ির', 'NOUN'), ('দণ্ডি', 'NOUN'), ('৷', '.')], [('মানুষ', 'NOUN'), ('অপহরণ', 'NOUN'), ('-', '.'), ('18', 'OTHER'), ('বত্সরের', 'NOUN'), ('নীচে', 'NOUN'), ('কোন', 'VERB'), ('মেয়েকে', 'NOUN'), ('এবং', 'CONJ'), ('16', 'OTHER'), ('বত্সরের', 'NOUN'), ('নীচে', 'NOUN'), ('কোন', 'VERB'), ('পুরুষকে', 'NOUN'), ('\",\"', '.'), ('তাহার', 'PRON'), ('আইনগত', 'ADJ'), ('অভিভাবকের', 'NOUN'), ('আশ্রয়', 'NOUN'), ('হইতে', 'PSP'), ('প্রলুব্ধ', 'ADJ'), ('করিয়া', 'VERB'), ('লইয়া', 'VERB'), ('যাওয়াকে', 'NOUN'), ('kidnaPSPing', 'OTHER'), ('বা', 'CONJ'), ('অপহরণ', 'NOUN'), ('বলা', 'NOUN'), ('হয়', 'VERB'), ('এবং', 'CONJ'), ('ইহা', 'PRON'), ('আইনতঃ', 'ADJ'), ('দণ্ডনীয়', 'ADJ'), ('অপরাধ', 'NOUN'), ('বলিয়া', 'PSP'), ('বিবেচিত', 'ADJ'), ('৷', '.')], [('//', 'OTHER'), ('অধিশোষণ', 'NOUN'), ('এবং', 'CONJ'), ('অন্যান্য', 'ADJ'), ('আন্তঃতলীয়', 'ADJ'), ('ঘটনা', 'NOUN'), ('(', 'OTHER'), ('AdWorption', 'OTHER'), ('and', 'OTHER'), ('Other', 'OTHER'), ('Interfacial', 'OTHER'), ('Phenomenon', 'OTHER'), (')', 'OTHER'), (':', '.'), ('সূচনা', 'NOUN'), (':', '.'), ('য়্যামোনিয়া', 'NOUN'), ('গ্যাসপূর্ণ', 'NOUN'), ('কোন', 'VERB'), ('আবদ্ধ', 'ADJ'), ('পাত্রে', 'NOUN'), ('একখণ্ড', 'VERB'), ('নারিকোল', 'NOUN'), ('-', '.'), ('চারকোল', 'NOUN'), ('প্রবেশ', 'NOUN'), ('করাইলে', 'ADV'), ('দেখা', 'NOUN'), ('যায়', 'VERB'), ('\",\"', '.'), ('চারকোল', 'NOUN'), ('খণ্ডটি', 'NOUN'), ('যথেষ্ট', 'ADJ'), ('পরিমাণ', 'NOUN'), ('য়্যামোনিয়া', 'NOUN'), ('দ্রুত', 'ADJ'), ('টানিয়া', 'VERB'), ('লয়', 'VERB'), ('৷', '.')], [('বিকাশ', 'NOUN'), ('বউ', 'NOUN'), ('নিয়ে', 'PSP'), ('বেরিয়ে', 'VERB'), ('যাবে', 'VERB'), ('৷', '.')], [('ইতর', 'ADJ'), ('জানোয়ার', 'NOUN'), ('কোথাকার', 'ADV'), ('৷', '.')], [('গঙ্গ', 'NOUN'), ('রাজবংশের', 'NOUN'), ('প্রতিষ্ঠাতা', 'NOUN'), ('সম্ভবত', 'ADV'), ('কঙ্গুনি', 'NOUN'), ('বর্মন', 'NOUN'), ('বা', 'CONJ'), ('প্রথম', 'VERB'), ('মাধব', 'NOUN'), ('সম্ভবত', 'ADV'), ('খ্রীষ্টীয়', 'ADJ'), ('350', 'OTHER'), ('-', '.'), ('400', 'OTHER'), ('শতক', 'NOUN'), ('পর্যন্ত', 'PSP'), ('রাজত্ব', 'NOUN'), ('করেন', 'VERB'), ('৷', '.')], [('বহুদিন', 'NOUN'), ('আছেন', 'VERB'), ('এই', 'VERB'), ('পেশায়', 'NOUN'), ('৷', '.')], [('বাকিটা', 'NOUN'), ('শিলাদিত্যের', 'NOUN'), ('দিকে', 'NOUN'), ('বাড়িয়ে', 'VERB'), ('দিয়ে', 'VERB'), ('মেখলা', 'NOUN'), ('অভিযোগের', 'NOUN'), ('গলায়', 'NOUN'), ('বলে', 'VERB'), ('ওঠে', 'VERB'), ('\",\"', '.'), ('তুই', 'PRON'), ('এমন', 'VERB'), ('জোর', 'NOUN'), ('দিয়ে', 'PSP'), ('`', '.'), ('শুধু', 'ADJ'), ('চা', 'NOUN'), ('আর', 'CONJ'), ('কিছু', 'VERB'), ('না', 'OTHER'), (\"'\", '.'), ('বলে', 'VERB'), ('এলি', 'VERB'), ('ছোড়দা', 'NOUN'), ('যে', 'CONJ'), ('\",\"', '.'), ('ভয়ে', 'NOUN'), ('ভয়ে', 'NOUN'), ('সত্যিই', 'ADJ'), ('কিছু', 'VERB'), ('আনলাম', 'VERB'), ('না', 'OTHER'), ('৷', '.')], [('তার', 'PRON'), ('আগে', 'NOUN'), ('ভারতীয়', 'ADJ'), ('ডেভিস', 'NOUN'), ('কাপ', 'NOUN'), ('দলের', 'NOUN'), ('সদস্যদের', 'NOUN'), ('একটু', 'VERB'), ('খুঁটিয়ে', 'VERB'), ('বিচার', 'NOUN'), ('করা', 'NOUN'), ('যাক', 'VERB'), ('৷', '.')], [('অন্তত', 'CONJ'), ('মারকিন', 'NOUN'), ('যুক্তরাষ্ট্র', 'NOUN'), ('তাই', 'PRON'), ('বলছে', 'VERB'), ('৷', '.')], [('না', 'OTHER'), ('\",\"', '.'), ('আর', 'CONJ'), ('কোন', 'VERB'), ('ভুল', 'NOUN'), ('নেই', 'VERB'), ('৷', '.')], [('এ', 'VERB'), ('অভিযোগে', 'NOUN'), ('গলা', 'NOUN'), ('মিলিয়েছেন', 'VERB'), ('পশ্চিমবঙ্গের', 'NOUN'), ('অসামরিক', 'ADJ'), ('প্রতিরক্ষা', 'NOUN'), ('দপ্তরের', 'NOUN'), ('রাষ্ট্রমন্ত্রী', 'NOUN'), ('রাম', 'NOUN'), ('চ্যাটার্জী', 'NOUN'), ('স্বয়ং', 'ADJ'), ('৷', '.')], [('কিন্তু', 'CONJ'), ('প্রত্যেক', 'VERB'), ('যুগকে', 'NOUN'), ('তারই', 'PRON'), ('মানদণ্ডে', 'NOUN'), ('বিচার', 'NOUN'), ('করতে', 'VERB'), ('হবে', 'VERB'), ('এমন', 'VERB'), ('চিন্তা', 'NOUN'), ('রক্ষণশীলতার', 'NOUN'), ('জনক', 'NOUN'), ('৷', '.')], [('দেহের', 'NOUN'), ('ভূমিকা', 'NOUN'), ('গৌণ', 'ADJ'), ('৷', '.')], [('ফটকা', 'ADJ'), ('বাজারে', 'NOUN'), ('লেনদেনের', 'NOUN'), ('জন্য', 'PSP'), ('পাটের', 'NOUN'), ('যে', 'ADJ'), ('দাম', 'NOUN'), ('নির্ধারিত', 'ADJ'), ('হয়', 'VERB'), ('তাহাই', 'PRON'), ('প্রকৃতপক্ষে', 'ADV'), ('লেনদেনের', 'NOUN'), ('বাজার', 'NOUN'), ('দামের', 'NOUN'), ('উপর', 'NOUN'), ('প্রভাব', 'NOUN'), ('বিস্তার', 'NOUN'), ('করে', 'VERB'), ('৷', '.')], [('কথা', 'NOUN'), ('ছিল', 'VERB'), ('তারা', 'PRON'), ('কাজের', 'NOUN'), ('ছুতোয়', 'NOUN'), ('স্ত্রীর', 'NOUN'), ('সঙ্গে', 'PSP'), ('যাবে', 'VERB'), ('আর', 'CONJ'), ('আসবে', 'VERB'), ('হোটেলে', 'NOUN'), ('৷', '.')], [('কংগ্রেসের', 'NOUN'), ('ওয়ার্কিং', 'NOUN'), ('কমিটির', 'NOUN'), ('সাম্প্রতিক', 'ADJ'), ('বৈঠকে', 'NOUN'), ('নাকি', 'OTHER'), ('সীতারাম', 'NOUN'), ('কেশরী', 'NOUN'), ('বলেছেন', 'VERB'), ('\",\"', '.'), ('হিন্দুদের', 'NOUN'), ('মন', 'NOUN'), ('জয়', 'NOUN'), ('করার', 'NOUN'), ('জন্য', 'PSP'), ('এক', 'VERB'), ('ব্যাপক', 'ADJ'), ('প্রচারে', 'NOUN'), ('নামার', 'NOUN'), ('জন্য', 'PSP'), ('যাবতীয়', 'VERB'), ('প্রস্তুতি', 'NOUN'), ('নিতে', 'VERB'), ('হবে', 'VERB'), ('কংগ্রেসকে', 'NOUN'), ('৷', '.')], [('সুলেখা', 'NOUN'), ('বলেছে', 'VERB'), ('\",\"', '.'), ('আজ', 'ADV'), ('আপনার', 'PRON'), ('মাথা', 'NOUN'), ('ধরেছে', 'VERB'), ('-', '.'), ('বদ্ধ', 'ADJ'), ('হলে', 'NOUN'), ('বসে', 'VERB'), ('সিনেমা', 'NOUN'), ('দেখার', 'NOUN'), ('কোন', 'VERB'), ('দরকার', 'NOUN'), ('নেই', 'VERB'), ('৷', '.')], [('16', 'OTHER'), ('৷', '.')], [('এইবার', '.'), ('দম', 'NOUN'), ('ছেড়ে', 'VERB'), ('দিয়ে', 'VERB'), ('নাভিদেশ', 'NOUN'), ('ও', 'CONJ'), ('পেটের', 'NOUN'), ('পেশী', 'NOUN'), ('এবং', 'CONJ'), ('আমাদের', 'PRON'), ('মধ্যচ্ছদাকে', 'NOUN'), ('71', 'OTHER'), ('নং', 'NOUN'), ('ছবির', 'NOUN'), ('মত', 'OTHER'), ('যতদূর', '.'), ('সম্ভব', 'ADJ'), ('ভিতরে', 'NOUN'), ('টেনে', 'VERB'), ('মেরুদণ্ডের', 'NOUN'), ('সঙ্গে', 'PSP'), ('লাগাতে', 'VERB'), ('চেষ্টা', 'NOUN'), ('কর', 'VERB'), ('এবং', 'CONJ'), ('বুকের', 'NOUN'), ('পেশী', 'NOUN'), ('উপর', 'NOUN'), ('দিকে', 'NOUN'), ('তোল', 'VERB'), ('৷', '.')], [('ওদিকে', 'ADV'), ('তখন', 'ADV'), ('জিওলজিক্যাল', 'NOUN'), ('সার্ভে', 'NOUN'), ('অব', 'NOUN'), ('ইণ্ডিয়ার', 'NOUN'), ('ভূবিজ্ঞানী', 'NOUN'), ('টি', 'NOUN'), ('এইচ', 'NOUN'), ('হল্যাণ্ড', 'NOUN'), ('মাদ্রাজের', 'NOUN'), ('দশ', 'VERB'), ('মাইল', 'NOUN'), ('দক্ষিণে', 'NOUN'), ('পল্লব', 'NOUN'), ('অঞ্চলে', 'NOUN'), ('সেণ্ট', 'NOUN'), ('টমাস', 'NOUN'), ('পাহাড়ে', 'NOUN'), ('আবিষ্কার', 'NOUN'), ('করলেন', 'VERB'), ('এক', 'VERB'), ('নতুন', 'ADJ'), ('শিলা', 'NOUN'), ('-', '.'), ('হাইপারস্টোন', 'NOUN'), ('গ্রানাইট', 'NOUN'), ('জাতীয়', 'ADJ'), ('পাথর', 'NOUN'), ('৷', '.')], [('দ্রব্যাটির', 'NOUN'), ('যোগান', 'NOUN'), ('বৃদ্ধি', 'NOUN'), ('করিলে', 'ADV'), ('বাজারে', 'NOUN'), ('উহার', 'PRON'), ('যোগান', 'NOUN'), ('বৃদ্ধি', 'NOUN'), ('পায়', 'VERB'), ('এবং', 'CONJ'), ('উহার', 'PRON'), ('ফলে', 'NOUN'), ('দ্রব্যটির', 'NOUN'), ('দাম', 'NOUN'), ('হ্রাস', 'NOUN'), ('পায়', 'VERB'), ('৷', '.')], [('প্রকাশ', 'NOUN'), ('তখন', 'ADV'), ('তার', 'PRON'), ('বস্তু', 'NOUN'), ('পরিচয়কে', 'NOUN'), ('গুপ্ত', 'ADJ'), ('রেখে', 'VERB'), ('নতুন', 'ADJ'), ('পরিচয়ে', 'NOUN'), ('\",\"', '.'), ('রূপান্তরে', 'NOUN'), ('\",\"', '.'), ('সৃষ্টি', 'NOUN'), ('হয়ে', 'VERB'), ('ওঠে', 'VERB'), ('৷', '.')], [('হিসাবরক্ষণের', 'NOUN'), ('নগদ', 'NOUN'), ('ও', 'CONJ'), ('জমানো', 'NOUN'), ('(', 'OTHER'), ('বা', 'CONJ'), ('বাণিজ্যিক', 'ADJ'), (')', 'OTHER'), ('পদ্ধতি', 'NOUN'), ('-', '.'), ('ব্যবসায়ীর', 'NOUN'), ('লাভ', 'NOUN'), ('-', '.'), ('লোকসান', 'NOUN'), ('নিরূপণ', 'NOUN'), ('করিবার', 'NOUN'), ('সময়', 'NOUN'), ('সাধারণতঃ', 'ADV'), ('নিম্নলিখিত', 'ADJ'), ('দুইটি', 'VERB'), ('পদ্ধতির', 'NOUN'), ('মধ্যে', 'NOUN'), ('একটি', 'VERB'), ('পদ্ধতি', 'NOUN'), ('অবলম্বিত', 'ADJ'), ('হয়', 'VERB'), ('-', '.'), ('(', 'OTHER'), ('1', 'OTHER'), (')', 'OTHER'), ('নগদ', 'NOUN'), ('নামেও', 'NOUN'), ('অভিহিত', 'ADJ'), ('করা', 'NOUN'), ('হয়', 'VERB'), ('৷', '.')], [('বই', 'NOUN'), ('এর', 'PSP'), ('কম্পোজিং', 'NOUN'), ('খুব', 'VERB'), ('সহজ', 'ADJ'), ('৷', '.')], [('পা', 'NOUN'), ('দুখানাকে', 'NOUN'), ('যেন', 'CONJ'), ('কুকুরে', 'NOUN'), ('চিবুচ্ছে', 'VERB'), ('!', '.')], [('প্রথমেই', 'ADV'), ('এসে', 'VERB'), ('হাজির', 'NOUN'), ('হলেন', 'VERB'), ('মার্গারেট', 'NOUN'), ('লো', 'NOUN'), ('যে', 'ADJ'), ('পতিতালয়ে', 'NOUN'), ('নিহত', 'ADJ'), ('হয়েছিলেন', 'VERB'), ('\",\"', '.'), ('সেখানে', 'ADV'), ('৷', '.')], [('এভাবে', 'ADV'), ('দশনছেদ্য', 'ADJ'), ('করতে', 'VERB'), ('হবে', 'VERB'), ('৷', '.')], [('প্রবাসের', 'NOUN'), ('ক্ষণস্থায়ী', 'ADJ'), ('আবাসের', 'NOUN'), ('উপর', 'NOUN'), ('কখন', 'ADV'), ('যেন', 'CONJ'), ('নিজের', 'PRON'), ('অজান্তে', 'NOUN'), ('মায়া', 'NOUN'), ('পড়ে', 'VERB'), ('যায়', 'VERB'), ('৷', '.')], [('কলকালি', 'NOUN'), ('হঠাত্', 'ADV'), ('আমাকে', 'PRON'), ('না', 'OTHER'), ('জানিয়ে', 'VERB'), ('কী', 'PRON'), ('করে', 'VERB'), ('বসলো', 'VERB'), ('?', '.')], [('কিন্তু', 'CONJ'), ('তা', 'PRON'), ('বলে', 'OTHER'), ('দক্ষতায়', 'NOUN'), ('বা', '.'), ('কঠোরতায়', 'NOUN'), ('এরা', 'PRON'), ('কিছু', 'VERB'), ('কম', 'ADJ'), ('যায়', 'VERB'), ('না', 'OTHER'), ('৷', '.')], [('তবে', 'CONJ'), ('ডিজেলের', 'NOUN'), ('বিষয়ে', 'NOUN'), ('প্রতিদিনই', 'ADV'), ('বৈঠক', 'NOUN'), ('চলছে', 'VERB'), ('৷', '.')], [('সুস্থ', 'ADJ'), ('\",\"', '.'), ('আত্মদীপিত', 'ADJ'), ('জ্ঞানচর্চার', 'NOUN'), ('মধ্য', 'NOUN'), ('দিয়েও', 'VERB'), ('তো', 'OTHER'), ('সমাজ', 'NOUN'), ('ও', 'CONJ'), ('রাজনীতির', 'NOUN'), ('বৃহত্তর', 'ADJ'), ('পরিমণ্ডলকে', 'NOUN'), ('পরিপুষ্ট', 'ADJ'), ('করা', 'NOUN'), ('সম্ভব', 'ADJ'), ('৷', '.')], [('হয়ত', 'ADV'), ('মায়ের', 'NOUN'), ('উদাসীনতা', 'NOUN'), ('অভিমানী', 'ADJ'), ('মেয়ের', 'NOUN'), ('বুকে', 'NOUN'), ('একটা', 'VERB'), ('চাপা', 'ADJ'), ('দীর্ঘশ্বাস', 'NOUN'), ('সৃষ্টি', 'NOUN'), ('করেছিল', 'VERB'), ('\",\"', '.'), ('তাই', 'OTHER'), ('সরলা', 'NOUN'), ('মন', 'NOUN'), ('দিয়েছিলেন', 'VERB'), ('লেখাপড়ার', 'NOUN'), ('দিকে', 'NOUN'), ('৷', '.')], [('উপপাতালিকা', 'NOUN'), ('শিলা', 'NOUN'), ('(', 'OTHER'), ('HypabyWWal', 'OTHER'), ('Rock', 'OTHER'), (')', 'OTHER'), ('-', '.'), ('ভূগর্ভের', 'NOUN'), ('অত', 'VERB'), ('নীচে', 'NOUN'), ('নয়', 'VERB'), ('\",\"', '.'), ('ভূপৃষ্ঠের', 'NOUN'), ('প্রায়', 'VERB'), ('কাছাকাছি', 'ADV'), ('কোন', 'VERB'), ('ফাটলের', 'NOUN'), ('মধ্যে', 'NOUN'), ('উত্তপ্ত', 'ADJ'), ('গলিত', 'ADJ'), ('পদার্থ', 'NOUN'), ('ঠাণ্ডা', 'ADJ'), ('হয়ে', 'VERB'), ('যে', 'ADJ'), ('উদবেধী', 'NOUN'), ('শিলা', 'NOUN'), ('সৃষ্টি', 'NOUN'), ('হয়', 'VERB'), ('তাকে', 'PRON'), ('বলে', 'VERB'), ('উপপাতালিকা', 'NOUN'), ('শিলা', 'NOUN'), ('৷', '.')], [('ভদ্রমহিলা', 'NOUN'), ('হাতের', 'NOUN'), ('ব্যাণ্ডেজটার', 'NOUN'), ('ওপর', 'NOUN'), ('হাত', 'NOUN'), ('বুলিয়ে', 'VERB'), ('অন্যমনস্কভাবে', 'ADV'), ('বললেন', 'VERB'), ('-', '.'), ('না', 'OTHER'), ('ঠিক', 'ADV'), ('-', '.'), ('ডেলি', 'ADV'), ('কমসে', 'VERB'), ('কম', 'ADJ'), ('পঞ্চাশ', 'NOUN'), ('৷', '.')], [('পর', 'NOUN'), ('পর', 'NOUN'), ('কয়েকদিন', 'ADV'), ('স্যাম্পু', 'NOUN'), ('করা', 'NOUN'), ('\",\"', '.'), ('তেল', 'NOUN'), ('না', 'OTHER'), ('মাখা', 'NOUN'), ('ইত্যাদি', 'NOUN'), ('প্রাথমিক', 'ADJ'), ('প্রস্তুতির', 'NOUN'), ('পর', 'NOUN'), ('রোগীকে', 'NOUN'), ('বিশেষভাবে', 'ADV'), ('তৈরী', 'NOUN'), ('এক', 'VERB'), ('খাঁচার', 'NOUN'), ('মধ্যের', 'NOUN'), ('বিছানায়', 'NOUN'), ('শোয়ান', 'NOUN'), ('হয়', 'VERB'), ('৷', '.')], [('ক্যানসার', 'NOUN'), ('বিশেষজ্ঞরা', 'NOUN'), ('সাতটি', 'VERB'), ('সূচক', 'ADJ'), ('লক্ষণ', 'NOUN'), ('সম্পর্কে', 'NOUN'), ('সমস্ত', 'VERB'), ('বয়স্ক', 'ADJ'), ('মহিলা', 'NOUN'), ('ও', 'CONJ'), ('পুরুষকে', 'NOUN'), ('অবহিত', 'ADJ'), ('থাকতে', 'VERB'), ('বলেন', 'VERB'), ('৷', '.')], [('তাই', 'CONJ'), ('ঢের', 'VERB'), ('কম', 'ADJ'), ('বিপ্লববাদী', 'NOUN'), ('৷', '.')], [('যখন', 'ADV'), ('সেরকম', 'NOUN'), ('নয়', 'VERB'), ('\",\"', '.'), ('তখন', 'ADV'), ('আর', 'VERB'), ('সে', 'VERB'), ('প্রসঙ্গ', 'NOUN'), ('উথ্থাপন', 'NOUN'), ('করা', 'NOUN'), ('বুদ্ধিমত্তার', 'NOUN'), ('পরিচায়ক', 'ADJ'), ('কি', 'PRON'), ('করে', 'PSP'), ('বলি', 'VERB'), ('?', '.')], [('যেমন', 'PRON'), ('\",\"', '.'), ('সাইকেল', 'NOUN'), ('চালানো', 'NOUN'), ('\",\"', '.'), ('সাঁতার', 'NOUN'), ('\",\"', '.'), ('খেলাধূলার', 'NOUN'), ('প্রশিক্ষণ', 'NOUN'), ('\",\"', '.'), ('বাড়ীর', 'NOUN'), ('ছোটখাট', 'ADJ'), ('কাজকর্ম', 'NOUN'), ('ইত্যাদি', 'NOUN'), ('৷', '.')], [('রাধাকৃষ্ণের', 'NOUN'), ('লীলাকথাই', 'NOUN'), ('পদাবলী', 'NOUN'), ('সাহিত্যের', 'NOUN'), ('একমাত্র', 'VERB'), ('উপজীব্য', 'ADJ'), ('ছিল', 'VERB'), ('\",\"', '.'), ('কিন্তু', 'CONJ'), ('চৈতন্যের', 'NOUN'), ('যুগে', 'NOUN'), ('এর', 'PRON'), ('সঙ্গে', 'PSP'), ('যুক্ত', 'ADJ'), ('হয়', 'VERB'), ('গৌরলীলা', 'NOUN'), ('৷', '.')], [('বর্তমান', 'ADJ'), ('কালে', 'NOUN'), ('রাষ্ট্র', 'NOUN'), ('নানা', 'VERB'), ('ভাবে', 'PSP'), ('শিল্প', 'NOUN'), ('প্রতিষ্ঠানকে', 'NOUN'), ('সাহায্য', 'NOUN'), ('করিতেছে', 'VERB'), ('৷', '.')], [('জনতা', 'NOUN'), ('দলের', 'NOUN'), ('গোপাল', 'NOUN'), ('বরবরা', 'NOUN'), ('\",\"', '.'), ('দুলালচন্দ্র', 'NOUN'), ('বরুয়া', 'NOUN'), ('এবং', 'CONJ'), ('নগেনচন্দ্র', 'NOUN'), ('বরুয়া', 'NOUN'), ('\",\"', '.'), ('কংগ্রেস', 'NOUN'), ('(', 'OTHER'), ('আ', 'OTHER'), (')', 'OTHER'), ('#NAME?', 'OTHER'), ('শরত্্চন্দ্র', 'NOUN'), ('সিংহ', 'NOUN'), ('\",\"', '.'), ('পি', 'NOUN'), ('টি', 'NOUN'), ('সি', 'NOUN'), ('এঁর', 'PRON'), ('সময়', 'NOUN'), ('ব্রহ্ম', 'NOUN'), ('চৌধুরী', 'NOUN'), ('এবং', 'CONJ'), ('নির্দল', 'NOUN'), ('সদস্য', 'NOUN'), ('প্রেমধর', 'NOUN'), ('বরা', 'NOUN'), ('ওই', 'VERB'), ('অভিযোগ', 'NOUN'), ('করেন', 'VERB'), ('৷', '.')], [('তবে', 'CONJ'), ('এভাবে', 'ADV'), ('বিধবা', 'NOUN'), ('সমস্যার', 'NOUN'), ('সমাধান', 'NOUN'), ('সত্যিই', 'ADV'), ('হয়', 'VERB'), ('কিনা', 'CONJ'), ('সে', 'PRON'), ('নিয়েও', 'VERB'), ('চিন্তা', 'NOUN'), ('করেছিলেন', 'VERB'), ('৷', '.')], [('সহসা', 'ADV'), ('তাঁর', 'PRON'), ('সম্বিত', 'NOUN'), ('ফিরে', 'VERB'), ('এসেছিল', 'VERB'), ('৷', '.')], [('এটি', 'PRON'), ('অবশ্য', 'ADV'), ('খুব', 'VERB'), ('সহজ', 'ADJ'), ('ক্যাচ', 'NOUN'), ('ছিল', 'VERB'), ('না', 'OTHER'), ('৷', '.')], [('একটু', 'VERB'), ('দূরে', 'NOUN'), ('কয়েকজনকে', 'NOUN'), ('দেখা', 'NOUN'), ('গেলো', 'VERB'), ('-', '.'), ('যাদের', 'PRON'), ('সামনে', 'NOUN'), ('কাঠের', 'NOUN'), ('যন্ত্রপাতি', 'NOUN'), ('৷', '.')], [('মিয়াকোর', 'NOUN'), ('লাউঞ্জে', 'NOUN'), ('ঢুকতে', 'VERB'), ('পাশের', 'NOUN'), ('একটা', 'VERB'), ('কাঁচের', 'NOUN'), ('ঘর', 'NOUN'), ('থেকে', 'PSP'), ('এক', 'VERB'), ('জাপানী', 'ADJ'), ('ভদ্রলোক', 'NOUN'), ('বেরিয়ে', 'VERB'), ('এসে', 'VERB'), ('আমাদের', 'PRON'), ('দিকে', 'NOUN'), ('এগিয়ে', 'VERB'), ('এলেন', 'VERB'), ('৷', '.')], [('তার', 'PRON'), ('যোগসব', 'NOUN'), ('অবলম্বন', 'NOUN'), ('করলে', 'ADV'), ('বালিকা', 'NOUN'), ('তো', 'OTHER'), ('অকালে', 'NOUN'), ('যৌবন', 'NOUN'), ('প্রাপ্তা', 'ADJ'), ('হয়ে', 'VERB'), ('থাকে', 'VERB'), ('\",\"', '.'), ('বৃদ্ধাও', 'NOUN'), ('লুপ্ত', 'ADJ'), ('যৌবন', 'NOUN'), ('পুনর্লাভ', 'NOUN'), ('করতে', 'VERB'), ('সমর্থ', 'ADJ'), ('হয়', 'VERB'), ('৷', '.')], [('কার্বন', 'NOUN'), ('এবং', 'CONJ'), ('এর', 'PRON'), ('যৌগগুলির', 'NOUN'), ('অধ্যয়ন', 'NOUN'), ('রসায়নশাস্ত্রের', 'NOUN'), ('বিরাট', 'ADJ'), ('ক্ষেত্রে', 'NOUN'), ('ভিত্তি', 'NOUN'), ('প্রস্তর', 'NOUN'), ('স্থাপন', 'NOUN'), ('করে', 'VERB'), ('-', '.'), ('যাকে', 'PRON'), ('জৈবরসায়ন', 'NOUN'), ('বলে', 'VERB'), ('৷', '.')], [('এর', 'PRON'), ('জন্য', 'PSP'), ('চাই', 'VERB'), ('সাহস', 'NOUN'), ('\",\"', '.'), ('চরিত্রের', 'NOUN'), ('দৃঢ়তা', 'NOUN'), ('ও', 'CONJ'), ('ত্যাগ', 'NOUN'), ('স্বীকার', 'NOUN'), ('করার', 'NOUN'), ('মানসিকতা', 'NOUN'), ('৷', '.')], [('তাই', 'CONJ'), ('ইংরেজের', 'NOUN'), ('চিত্রিত', 'ADJ'), ('মজনুশাহ', 'NOUN'), ('অথবা', 'CONJ'), ('গাথা', 'NOUN'), ('চিত্রের', 'NOUN'), ('মজনুশাহকে', 'NOUN'), ('আমরা', 'PRON'), ('ডাকাত', 'NOUN'), ('হিসাবে', 'PSP'), ('দেখি', 'VERB'), ('৷', '.')], [('অর্জিত', 'ADJ'), ('উপদংশের', 'NOUN'), ('প্রথম', 'VERB'), ('অবস্থায়', 'NOUN'), ('পুরুষদের', 'NOUN'), ('পুরুষাঙ্গে', 'NOUN'), ('ও', 'CONJ'), ('লিঙ্গচর্ম', 'NOUN'), ('জোড়ের', 'NOUN'), ('কাছে', 'NOUN'), ('এবং', 'CONJ'), ('নারীদের', 'NOUN'), ('যোনি', 'NOUN'), ('\",\"', '.'), ('মূত্রনালী', 'NOUN'), ('\",\"', '.'), ('স্তন', 'NOUN'), ('\",\"', '.'), ('ওষ্ঠ', 'NOUN'), ('প্রভৃতিতে', 'NOUN'), ('ক্ষত', 'NOUN'), ('দেখা', 'NOUN'), ('দেয়', 'VERB'), ('৷', '.')], [('সে', 'PRON'), ('প্রায়ই', 'ADV'), ('সম্পাদকের', 'NOUN'), ('দপ্তরে', 'NOUN'), ('গিয়ে', 'VERB'), ('অনুরোধ', 'NOUN'), ('করত', 'VERB'), ('৷', '.')], [('এই', 'VERB'), ('পরিবর্তনে', 'NOUN'), ('সকলেই', 'PRON'), ('আনন্দিত', 'ADJ'), ('হলেন', 'VERB'), ('৷', '.')], [('`', '.'), ('আমি', 'PRON'), ('চাকরি', 'NOUN'), ('কোন', 'ADJ'), ('দিন', 'NOUN'), ('ছেড়েছি', 'VERB'), ('\",\"', '.'), ('তোমরা', 'PRON'), ('\",\"', '.'), ('জানলে', 'VERB'), ('কী', 'PRON'), ('করে', 'PSP'), ('?', '.')], [('বাবা', 'NOUN'), ('\",\"', '.'), ('তাই', 'PRON'), ('হোক', 'VERB'), ('৷', '.')], [('কালাজ্বর', 'NOUN'), ('(', 'OTHER'), ('kala', 'OTHER'), ('-', '.'), ('Azar', 'OTHER'), (')', 'OTHER'), ('ইতিহাস', 'NOUN'), ('-', '.'), ('1903', 'OTHER'), ('সালে', 'NOUN'), ('একজন', 'VERB'), ('বৃটিশ', 'ADJ'), ('সৈনিকের', 'NOUN'), ('Spleen', 'OTHER'), ('-', '.'), ('এর', 'PSP'), ('Pulp', 'OTHER'), ('পরীক্ষা', 'NOUN'), ('করে', 'VERB'), ('Dr', '.'), ('DonoVERBn', 'OTHER'), ('এই', 'VERB'), ('রোগের', 'NOUN'), ('বীজাণু', 'NOUN'), ('আবিষ্কার', 'NOUN'), ('করেন', 'VERB'), ('এবং', 'CONJ'), ('তার', 'PRON'), ('নাম', 'NOUN'), ('দেন', 'VERB'), ('LeiWhman', 'OTHER'), ('DonoVERBn', 'OTHER'), ('BodieW', 'OTHER'), ('বা', 'CONJ'), ('L', '.'), ('D', '.'), ('BodieW', 'OTHER'), ('-', '.'), ('এগুলি', 'PRON'), ('এক', 'VERB'), ('ধরনের', 'NOUN'), ('প্রোটোজোয়া', 'NOUN'), ('শ্রেণীভুক্ত', 'ADJ'), ('৷', '.')], [('দক্ষিণ', 'NOUN'), ('আমেরিকার', 'NOUN'), ('প্রাচীন', 'ADJ'), ('য়্যাজটেক', 'NOUN'), ('সভ্যতার', 'NOUN'), ('অনেক', 'VERB'), ('ভাস্কর্য্যের', 'NOUN'), ('সঙ্গে', 'PSP'), ('এই', 'VERB'), ('বিশেষ', 'ADJ'), ('ক্যাকটাসের', 'NOUN'), ('চেহারার', 'NOUN'), ('সাদৃশ্য', 'NOUN'), ('আছে', 'VERB'), ('৷', '.')], [('যত', 'VERB'), ('ঝামেলা', 'NOUN'), ('এই', 'VERB'), ('পালকবিহীন', 'ADJ'), (\"দু'পেয়ে\", 'ADJ'), ('প্রাণীটির', 'NOUN'), ('বেলায়', 'NOUN'), ('৷', '.')], [('আপনাকে', 'PRON'), ('তো', 'OTHER'), ('কখনো', 'ADV'), ('ওকালতি', 'NOUN'), ('করতে', 'VERB'), ('হয়নি', 'VERB'), ('৷', '.')], [('না', 'OTHER'), ('ওকে', 'PRON'), ('কিছুতেই', 'ADV'), ('রেহাই', 'NOUN'), ('দেওয়া', 'NOUN'), ('যায়', 'VERB'), ('না', 'OTHER'), ('৷', '.')], [('তবে', 'CONJ'), ('তাদের', 'PRON'), ('জন্মলগ্নটি', 'NOUN'), ('কিন্তু', 'CONJ'), ('এক', 'ADJ'), ('নয়', 'VERB'), ('\",\"', '.'), ('ভিন্নতর', 'ADJ'), ('৷', '.')], [('প্রতিটি', 'VERB'), ('ঔষধ', 'NOUN'), ('ও', 'CONJ'), ('তার', 'PRON'), ('প্রয়োগ', 'NOUN'), ('সম্পর্কে', 'PSP'), ('এবারে', 'ADV'), ('বিস্তৃত', 'ADJ'), ('আলোচনা', 'NOUN'), ('করা', 'NOUN'), ('হচ্ছে', 'VERB'), ('৷', '.')], [('বনের', 'NOUN'), ('বাইরে', 'NOUN'), ('যেতেই', 'VERB'), ('হয়', 'VERB'), ('৷', '.')], [('পরন্তু', 'CONJ'), ('নিজেরই', 'PRON'), ('গুরুর', 'NOUN'), ('থেকে', 'PSP'), ('এমনই', 'VERB'), ('শাপ', 'NOUN'), ('পেলেন', 'VERB'), ('যার', 'PRON'), ('দরুণ', 'NOUN'), ('কুরুক্ষেত্রের', 'NOUN'), ('যুদ্ধের', 'NOUN'), ('অন্যায়', 'ADJ'), ('সমরে', 'NOUN'), ('অর্জুন', 'NOUN'), ('তাকে', 'PRON'), ('নিধন', 'NOUN'), ('করতে', 'VERB'), ('সমর্থ', 'ADJ'), ('হলেন', 'VERB'), ('৷', '.')], [('পরস্ত্রী', 'NOUN'), ('দেখার', 'NOUN'), ('পর', 'NOUN'), ('\",\"', '.'), ('সংযোগের', 'NOUN'), ('ইচ্ছা', 'NOUN'), ('রূপে', 'NOUN'), ('কামোদয়ের', 'NOUN'), ('পর', 'NOUN'), ('তার', 'PRON'), ('চোখদুটি', 'NOUN'), ('স্নিগ্ধভাব', 'NOUN'), ('ধারণ', 'NOUN'), ('করে', 'VERB'), ('৷', '.')], [('বস্তুতঃ', 'ADV'), ('\",\"', '.'), ('অভ্যাস', 'NOUN'), ('সহজাত', 'ADJ'), ('প্রবৃত্তির', 'NOUN'), ('অধীন', 'ADJ'), ('৷', '.')], [('বললেন', 'VERB'), ('\",\"', '.'), ('ঐ', 'VERB'), ('মিষ্টার', 'NOUN'), ('আচারিয়া', 'NOUN'), ('তখনো', 'ADV'), ('চৌত্রিশ', 'VERB'), ('নম্বরের', 'NOUN'), ('কথা', 'NOUN'), ('ভুলতে', 'VERB'), ('পারেননি', 'VERB'), ('৷', '.')], [('গতকাল', 'ADV'), ('থেকে', 'PSP'), ('অসমাপ্ত', 'ADJ'), ('তৃতীয়', 'VERB'), ('উইকেটে', 'NOUN'), ('এই', 'VERB'), ('দুজনে', 'NOUN'), ('যোগ', 'NOUN'), ('করল', 'VERB'), ('245', 'OTHER'), ('রান', 'NOUN'), ('-', '.'), ('এটা', 'PRON'), ('যে', 'ADJ'), ('কোন', 'VERB'), ('দেশের', 'NOUN'), ('বিরুদ্ধে', 'OTHER'), ('ভারতের', 'NOUN'), ('রেকর্ড', 'NOUN'), ('৷', '.')], [('-', '.'), ('দ্যাখো', 'VERB'), ('এটা', 'PRON'), ('তোমার', 'PRON'), ('বাড়ি', 'NOUN'), ('৷', '.')], [('মোটামুটি', 'ADV'), ('এটুকু', 'PRON'), ('বলা', 'NOUN'), ('যায়', 'VERB'), ('\",\"', '.'), ('যতক্ষণ', 'ADV'), ('না', 'OTHER'), ('কোন', 'VERB'), ('সাংবাদিক', 'NOUN'), ('কোন', 'VERB'), ('মিথ্যে', 'ADJ'), ('বা', 'CONJ'), ('ভ্রান্ত', 'ADJ'), ('খবর', 'NOUN'), ('লিখছেন', 'VERB'), ('ততক্ষণ', 'ADV'), ('তিনি', 'PRON'), ('যাই', 'PRON'), ('করুন', 'VERB'), ('না', 'OTHER'), ('কেন', 'PRON'), ('\",\"', '.'), ('তা', 'PRON'), ('নীতিবহির্ভূত', 'ADJ'), ('নয়', 'VERB'), ('৷', '.')], [('(v)', 'OTHER'), ('অণু', 'NOUN'), ('কেলাসজল', 'NOUN'), ('চলে', 'VERB'), ('যায়', 'VERB'), ('\",\"', '.'), ('অবশিষ্ট', 'ADJ'), ('এক', 'VERB'), ('অণু', 'NOUN'), ('কেলাসজল', 'NOUN'), ('পড়', 'VERB'), ('থাকে', 'VERB'), ('৷', '.')], [('ওর', 'PRON'), ('মধ্য', 'NOUN'), ('থেকেই', 'PSP'), ('সিংহমশাই', 'NOUN'), ('একেবারেই', 'ADV'), ('বেরোননি', 'VERB'), ('এটাই', 'PRON'), ('ওর', 'PRON'), ('ধারণা', 'NOUN'), ('৷', '.')], [('পুজোর', 'NOUN'), ('ভীড়ে', 'NOUN'), ('নজর', 'NOUN'), ('কাড়ে', 'VERB'), ('মঞ্জুষা', 'NOUN'), ('৷', '.')], [('ঔপনিবেশিক', 'ADJ'), ('শাসন', 'NOUN'), ('ছিন্ন', 'ADJ'), ('করা', 'NOUN'), ('ছাড়া', 'PSP'), ('বিশ্বের', 'NOUN'), ('আধুনিক', 'ADJ'), ('কাঠামোতে', 'NOUN'), ('এরকম', 'VERB'), ('চিন্তাধারা', 'NOUN'), ('উপযোগী', 'ADJ'), ('নয়', 'VERB'), ('৷', '.')], [('নতুন', 'ADJ'), ('প্রমিস', 'NOUN'), ('15', 'OTHER'), ('\",\"', '.'), ('এমন', 'VERB'), ('এক', 'VERB'), ('টুথব্রাশ', 'NOUN'), ('\",\"', '.'), ('যা', 'PRON'), ('দাঁতের', 'NOUN'), ('পেছনের', 'NOUN'), ('দিকট', 'NOUN'), ('পরিস্কার', 'ADJ'), ('করতে', 'VERB'), ('পারে', 'VERB'), ('৷', '.')], [('তিনি', 'PRON'), ('আরও', 'ADV'), ('জানালেন', 'VERB'), ('\",\"', '.'), ('উত্পলবাবুর', 'NOUN'), ('মত', 'OTHER'), ('এই', 'VERB'), ('ছবিতে', 'NOUN'), ('সন্ধ্যাকেও', 'NOUN'), ('দেখা', 'NOUN'), ('যাবে', 'VERB'), ('ভিন্ন', 'ADJ'), ('চরিত্রে', 'NOUN'), ('৷', '.')], [('এই', 'PRON'), ('নিন', 'VERB'), ('-', '.'), ('এক', 'VERB'), ('নতুন', 'ADJ'), ('পামোলিভ', 'NOUN'), ('য়্যাণ্টি-ড্যানড্রাফ', 'NOUN'), ('শ্যাম্পু', 'NOUN'), ('৷', '.')], [('ইহার', 'PRON'), ('আয়তন', 'NOUN'), ('প্রায়', 'VERB'), ('6', 'OTHER'), ('বর্গ', 'NOUN'), ('কিলোমিটার', 'NOUN'), ('এবং', 'CONJ'), ('লোকসংখ্যা', 'NOUN'), ('প্রায়', 'VERB'), ('3', 'OTHER'), ('কোটি', 'NOUN'), ('৷', '.')], [('সে', 'PRON'), ('আর', 'CONJ'), ('হয়ে', 'VERB'), ('ওঠেনি', 'VERB'), ('৷', '.')], [('যক্ষ', 'NOUN'), ('মেঘের', 'NOUN'), ('কাছে', 'NOUN'), ('বিদিশা', 'NOUN'), ('এবং', 'CONJ'), ('উজ্জয়িনীর', 'NOUN'), ('বর্ণনা', 'NOUN'), ('প্রসঙ্গে', 'NOUN'), (':', '.'), ('সংস্কৃত', 'NOUN'), ('শ্লোক', 'NOUN'), ('-', '.'), ('দশার্ণ', 'NOUN'), ('দেশের', 'NOUN'), ('প্রখ্যাত', 'ADJ'), ('রাজধানী', 'NOUN'), ('বিদিশা', 'NOUN'), (';', '.'), ('সেখানে', 'ADV'), ('গিয়ে', 'VERB'), ('তোমার', 'PRON'), ('বিলাসী', 'ADJ'), ('হৃদয়ের', 'NOUN'), ('কামনা', 'NOUN'), ('মেটাতে', 'VERB'), ('পারবে', 'VERB'), ('!', '.')], [('ভেতরে', 'NOUN'), ('বিশ্বকবির', 'NOUN'), ('একখানা', 'VERB'), ('চিঠি', 'NOUN'), ('এবং', 'CONJ'), ('`', '.'), ('পথের', 'NOUN'), ('সাথী', 'NOUN'), (\"'\", '.'), ('নামে', 'NOUN'), ('একটি', 'VERB'), ('কবিতা', 'NOUN'), ('৷', '.')], [('কেমন', 'PRON'), ('আছেন', 'VERB'), ('?', '.')], [('না', 'OTHER'), ('করার', 'NOUN'), ('ফলে', 'NOUN'), ('অতীতে', 'NOUN'), ('কে', 'PRON'), ('কি', 'PRON'), ('উল্লেখযোগ্য', 'ADJ'), ('কাজ', 'NOUN'), ('করেছেন', 'VERB'), ('তা', 'PRON'), ('আমাদের', 'PRON'), ('দৃষ্টির', 'NOUN'), ('আড়ালে', 'NOUN'), ('থেকে', 'VERB'), ('গেল', 'VERB'), ('৷', '.')], [('তাই', 'PRON'), ('বলা', 'NOUN'), ('হয়েছে', 'VERB'), ('\",\"', '.'), ('শাস্ত্রার্থ', 'NOUN'), ('ব্যাপী', 'OTHER'), ('\",\"', '.'), ('অর্থাত্', 'CONJ'), ('কামশাস্ত্র', 'NOUN'), ('ব্যাখ্যার', 'NOUN'), ('সময়', 'NOUN'), ('\",\"', '.'), ('যা', 'PRON'), ('কিছু', 'VERB'), ('তার', 'PRON'), ('অঙ্গ', 'NOUN'), ('বলে', 'CONJ'), ('যেখানে', 'ADV'), ('প্রসিদ্ধ', 'ADJ'), ('পাওয়া', 'NOUN'), ('গেছে', 'VERB'), ('\",\"', '.'), ('তার', 'PRON'), ('প্রয়োগ', 'NOUN'), ('পরিশুদ্ধির', 'NOUN'), ('জন্য', 'PSP'), ('বিবেচনা', 'NOUN'), ('করা', 'NOUN'), ('হইয়াছে', 'VERB'), ('৷', '.')], [('সেই', 'VERB'), ('জনগণকে', 'NOUN'), ('তাঁরা', 'PRON'), ('স্থূল', 'ADJ'), ('বলেন', 'VERB'), ('না', 'OTHER'), ('যে', 'ADJ'), ('জনগণের', 'NOUN'), ('উন্নত', 'ADJ'), ('অংশটি', 'NOUN'), ('ক্রমেই', 'ADV'), ('সচেতন', 'ADJ'), ('হয়ে', 'VERB'), ('উঠেছে', 'VERB'), ('৷', '.')], [('এ', 'VERB'), ('ঘটনায়', 'NOUN'), ('পাঁচজন', 'NOUN'), ('আহত', 'ADJ'), ('হয়েছে', 'VERB'), ('৷', '.')], [('কৃষকরাই', 'NOUN'), ('জাতির', 'NOUN'), ('প্রাণ', 'NOUN'), ('-', '.'), ('এই', 'VERB'), ('কথার', 'NOUN'), ('উপরেই', 'NOUN'), ('আমার', 'PRON'), ('এই', 'VERB'), ('নাটক', 'NOUN'), ('রচনা', 'NOUN'), ('৷', '.')], [('ফোন', 'NOUN'), ('অচল', 'ADJ'), ('৷', '.')], [('যথা', 'OTHER'), ('\",\"', '.'), ('-1', 'OTHER'), ('কঠিন', 'ADJ'), ('\",\"', '.'), ('-2', 'OTHER'), ('তরল', 'NOUN'), ('ও', 'CONJ'), ('-3', 'OTHER'), ('বায়বীয়', 'ADJ'), ('৷', '.')], [('সিঁড়ি', 'NOUN'), ('দিয়ে', 'PSP'), ('ওপরে', 'NOUN'), ('উঠলে', 'ADV'), ('মন্দির', 'NOUN'), ('৷', '.')], [('জড়বুদ্ধির', 'NOUN'), ('মতন', 'OTHER'), ('এই', 'VERB'), ('রোগ', 'NOUN'), ('সম্পূর্ণ', 'VERB'), ('দুরারোগ্য', 'ADJ'), ('নহে', 'VERB'), ('৷', '.')], [('সীতাসাল', 'NOUN'), ('\",\"', '.'), ('ঝিঙাসাল', 'NOUN'), ('\",\"', '.'), ('চামরমণি', 'NOUN'), ('\",\"', '.'), ('এখন', 'ADV'), ('ওই', 'VERB'), ('এক', 'VERB'), ('বাসমতী', 'NOUN'), ('\",\"', '.'), ('তাও', 'PRON'), ('রোজ', 'ADV'), ('নয়', 'VERB'), ('\",\"', '.'), ('বিশেষ', 'ADJ'), ('অনুষ্ঠানের', 'NOUN'), ('দিন', 'NOUN'), ('বাজেট', 'NOUN'), ('বুঝে', 'VERB'), ('৷', '.')], [('প্রুফ', 'NOUN'), ('থেকে', 'PSP'), ('চোখ', 'NOUN'), ('তুললেন', 'VERB'), ('ভদ্রমহিলা', 'NOUN'), ('৷', '.')], [('একজন', 'NOUN'), ('উচ্ছল', 'ADJ'), ('আনন্দে', 'NOUN'), ('\",\"', '.'), ('অপরজন', 'NOUN'), ('নীরব', 'ADJ'), ('আন্তরিকতায়', 'NOUN'), ('৷', '.')], [('শাসন', 'NOUN'), ('বিভাগ', 'NOUN'), ('-', '.'), ('প্রত্যেক', 'VERB'), ('প্রদেশের', 'NOUN'), ('জন্য', 'PSP'), ('একজন', 'VERB'), ('গভর্ণর', 'NOUN'), ('রাষ্ট্রপতি', 'NOUN'), ('নিযুক্ত', 'ADJ'), ('করিবেন', 'VERB'), ('৷', '.')], [('শিকারী', 'NOUN'), ('নিজে', 'PRON'), ('একেবারে', 'ADV'), ('না', 'OTHER'), ('নড়েচড়ে', 'ADV'), ('বসে', 'VERB'), ('আগুনের', 'NOUN'), ('পাশে', 'NOUN'), ('\",\"', '.'), ('তার', 'PRON'), ('ঘড়ির', 'NOUN'), ('কাঁটা', 'NOUN'), ('গতিহীন', 'ADJ'), ('\",\"', '.'), ('ঝোপঝাড়ে', 'NOUN'), ('ইঁদুর', 'NOUN'), ('ধরার', 'NOUN'), ('জন্য', 'PSP'), ('থাবা', 'NOUN'), ('বাগিয়ে', 'VERB'), ('যেন', 'CONJ'), ('জমে', 'VERB'), ('গিয়ে', 'VERB'), ('শেয়ালটা', 'NOUN'), ('দাঁড়িয়ে', 'VERB'), ('আর', 'CONJ'), ('গর্তের', 'NOUN'), ('মধ্যে', 'NOUN'), ('ইঁদুরটারও', 'NOUN'), ('একই', 'VERB'), ('দশা', 'NOUN'), ('এটা', 'PRON'), ('কি', 'PRON'), ('রূপকথা', 'NOUN'), ('?', '.')], [('আজ', 'ADV'), ('মুক্তি', 'NOUN'), ('বিজয়', 'NOUN'), ('বসু', 'NOUN'), ('পরিচালিত', 'ADJ'), ('`', '.'), ('উত্তরলিপি', 'NOUN'), (\"'\", '.'), ('(', 'OTHER'), ('কাহিনী', 'NOUN'), (':', '.'), ('ডঃ', 'NOUN'), ('নীহাররঞ্জন', 'NOUN'), ('গুপ্ত', 'NOUN'), (')', 'OTHER'), ('প্রদর্শিত', 'ADJ'), ('হবে', 'VERB'), ('রাধা', 'NOUN'), ('\",\"', '.'), ('প্রাচী', 'NOUN'), ('\",\"', '.'), ('পূর্ণ', 'NOUN'), ('\",\"', '.'), ('পদ্মশ্রী', 'NOUN'), ('প্রভৃতি', 'NOUN'), ('প্রেক্ষাগৃহে', 'NOUN'), ('৷', '.')], [('দশজন', 'VERB'), ('জুরিদের', 'NOUN'), ('ভেতর', 'NOUN'), (\"দু'জন\", 'VERB'), ('ভারতীয়', 'ADJ'), ('ছিলেন', 'VERB'), ('চোপড়া', 'NOUN'), ('এবং', 'CONJ'), ('শর্মিলা', 'NOUN'), ('ঠাকুর', 'NOUN'), ('মঞ্চে', 'NOUN'), ('উপস্থিত', 'ADJ'), ('হয়েছিলেন', 'VERB'), ('কিছু', 'ADJ'), ('বছর', 'NOUN'), ('৷', '.')], [('(xii)', 'OTHER'), ('ঘূর্ণনের', 'NOUN'), ('ফলে', 'NOUN'), ('দুটি', 'VERB'), ('বিন্দুর', 'NOUN'), ('পারস্পরিক', 'ADJ'), ('দূরত্ব', 'NOUN'), ('অপরিবর্তিত', 'ADJ'), ('থাকে', 'VERB'), ('৷', '.')], [('তিনি', 'PRON'), ('চান', 'VERB'), ('কবিতার', 'NOUN'), ('বিশ্বজনীনতায়', 'NOUN'), ('উত্তরণ', 'NOUN'), ('\",\"', '.'), ('যেখানে', 'ADV'), ('ভাষাবাকরীতির', 'NOUN'), ('বাধা', 'NOUN'), ('কোনো', 'VERB'), ('বাধাই', 'NOUN'), ('নয়', 'VERB'), ('আর', 'OTHER'), ('৷', '.')], [('দায়িত্ব', 'NOUN'), ('যথাযথ', 'ADV'), ('পালন', 'NOUN'), ('করিতে', 'VERB'), ('পারিলে', 'ADV'), ('বা', 'CONJ'), ('জনকল্যাণের', 'NOUN'), ('জন্য', 'PSP'), ('প্রতিশ্রুতি', 'NOUN'), ('রক্ষা', 'NOUN'), ('করিতে', 'VERB'), ('পারিলে', 'ADV'), ('পরবর্তী', 'ADJ'), ('PA', 'OTHER'), ('নির্বাচনে', 'NOUN'), ('সাফল্যের', 'NOUN'), ('সম্ভাবনা', 'NOUN'), ('থাকিবে', 'VERB'), ('বলিয়া', 'CONJ'), ('দলগুলি', 'NOUN'), ('আশা', 'NOUN'), ('রাখে', 'VERB'), ('৷', '.')], [('এবারে', 'ADV'), ('রাজাকে', 'NOUN'), ('কিস্তি', 'NOUN'), ('দেওয়া', 'NOUN'), ('হয়েছে', 'VERB'), ('-', '.'), ('এবং', 'CONJ'), ('রাজা', 'NOUN'), ('মারতে', 'VERB'), ('পারছে', 'VERB'), ('না', 'OTHER'), ('এবং', 'CONJ'), ('আক্রমণকারী', 'NOUN'), ('বল', 'NOUN'), ('এবং', 'CONJ'), ('রাজার', 'NOUN'), ('মধ্যে', 'NOUN'), ('কোন', 'VERB'), ('বল', 'NOUN'), ('নিয়ে', 'PSP'), ('ঢাকতে', 'VERB'), ('পারছে', 'VERB'), ('না', 'OTHER'), ('৷', '.')], [('বাস্তব', 'ADJ'), ('পরিস্থিতির', 'NOUN'), ('বস্থুনিষ্ঠ', 'ADJ'), ('পর্য্যালোচনা', 'NOUN'), ('থেকে', 'PSP'), ('এই', 'VERB'), ('সিদ্ধান্তেই', 'NOUN'), ('উপনীত', 'ADJ'), ('হতে', 'VERB'), ('হয়', 'VERB'), ('যে', 'CONJ'), ('\",\"', '.'), ('কেন্দ্রীয়', 'ADJ'), ('সরকার', 'NOUN'), ('যে', 'ADJ'), ('দৃষ্টিভঙ্গি', 'NOUN'), ('থেকে', 'PSP'), ('`', '.'), ('জাতীয়', 'ADJ'), (\"'\", '.'), ('শব্দটিকে', 'NOUN'), ('তুলে', 'VERB'), ('ধরতে', 'VERB'), ('চাইছেন', 'VERB'), ('তার', 'PRON'), ('সঙ্গে', 'PSP'), ('অসমীয়াদের', 'NOUN'), ('দৃষ্টিভঙ্গীর', 'NOUN'), ('একটা', 'VERB'), ('মৌলিক', 'ADJ'), ('পার্থক্য', 'NOUN'), ('রয়েছে', 'VERB'), ('৷', '.')], [('তাই', 'CONJ'), ('এবং', 'CONJ'), ('সেখানে', 'PSP'), ('বোয়কিকে', 'NOUN'), ('বললাম', 'VERB'), ('\",\"', '.'), ('এ', 'PRON'), ('পর্য্যন্ত', 'PSP'), ('যা', 'PRON'), ('সংগৃহীত', 'ADJ'), ('হয়েছে', 'VERB'), ('তাতে', 'PRON'), ('লণ্ডনে', 'NOUN'), ('পৌঁছাবো', 'VERB'), ('ঠিকই', 'ADV'), ('কিন্তু', 'CONJ'), ('তারপর', 'CONJ'), ('তো', 'OTHER'), ('অনাহারে', 'NOUN'), ('মরতে', 'VERB'), ('হবে', 'VERB'), ('৷', '.')], [('অবহেলা', 'NOUN'), ('করবেন', 'VERB'), ('না', 'OTHER'), ('৷', '.')], [('নিমের', 'NOUN'), ('ফেনা', 'NOUN'), ('মাড়ির', 'NOUN'), ('নানা', 'VERB'), ('উপসর্গ', 'NOUN'), ('দূর', 'NOUN'), ('করে', 'VERB'), ('৷', '.')], [('অন্যদিকে', 'ADV'), ('নিকোটিন', 'NOUN'), ('এই', 'VERB'), ('বিষ', 'NOUN'), ('ক্রিয়াকে', 'NOUN'), ('বাড়ায়', 'VERB'), ('৷', '.')], [('এবারই', 'ADV'), ('অবসর', 'NOUN'), ('৷', '.')], [('রাণি', 'NOUN'), ('শাপেনাপিট', 'NOUN'), ('-', '.'), ('এর', 'PSP'), ('সমাধিতে', 'NOUN'), ('(', 'OTHER'), ('খ্রীষ্টপূর্ব', 'ADJ'), ('সপ্তম', 'VERB'), ('শতাব্দী', 'NOUN'), (')', 'OTHER'), ('প্ল্যাটিনামের', 'NOUN'), ('তৈরি', 'NOUN'), ('একটি', 'VERB'), ('বাক্স', 'NOUN'), ('পাওয়া', 'NOUN'), ('গিয়েছিল', 'VERB'), ('৷', '.')], [('মুক্তহস্তে', 'NOUN'), ('দান', 'NOUN'), ('করতেন', 'VERB'), ('-', '.'), ('পাত্রাপাত্র', 'NOUN'), ('বিচার', 'NOUN'), ('করতেন', 'VERB'), ('না', 'OTHER'), ('৷', '.')], [('এতে', 'PRON'), ('নাকি', 'OTHER'), ('শিশু', 'NOUN'), ('নিরাময়', 'ADJ'), ('হয়ে', 'VERB'), ('ওঠে', 'VERB'), ('৷', '.')], [('এর', 'PRON'), ('ব্যতিক্রমেরও', 'NOUN'), ('ব্যবস্থা', 'NOUN'), ('ছিল', 'VERB'), ('\",\"', '.'), ('যদি', 'CONJ'), ('উত্পাদনের', 'NOUN'), ('40', 'OTHER'), ('শতাংশ', 'NOUN'), ('রপ্তানি', 'NOUN'), ('করা', 'NOUN'), ('হয়', 'VERB'), ('বা', 'CONJ'), ('60', 'OTHER'), ('থেকে', 'PSP'), ('75', 'OTHER'), ('শতাংশ', 'NOUN'), ('আধুনিক', 'ADJ'), ('প্রযুক্তি', 'NOUN'), ('দিয়ে', 'PSP'), ('উত্পন্ন', 'NOUN'), ('করা', 'NOUN'), ('হয়', 'VERB'), ('\",\"', '.'), ('তাহলে', 'CONJ'), ('বিদেশী', 'ADJ'), ('মালিকানার', 'NOUN'), ('74', 'OTHER'), ('শতাংশ', 'NOUN'), ('পর্যন্ত', 'PSP'), ('রাখবার', 'NOUN'), ('অনুমতি', 'NOUN'), ('দেওয়া', 'NOUN'), ('হবে', 'VERB'), ('৷', '.')], [('সেজন্য', 'CONJ'), ('গ্যাসীয়', 'ADJ'), ('পদার্থের', 'NOUN'), ('ঘনত্ব', 'NOUN'), ('স্বাভাবিক', 'ADJ'), ('চাপে', 'NOUN'), ('(', 'OTHER'), ('76', 'OTHER'), ('সেমি', 'NOUN'), ('পারদের', 'NOUN'), ('উচ্চতায়', 'NOUN'), (')', 'OTHER'), ('ও', 'CONJ'), ('273', 'OTHER'), ('ডিগ্রী', 'NOUN'), ('K', 'OTHER'), ('তাপমাত্রায়', 'NOUN'), ('নির্ণয়', 'NOUN'), ('করা', 'NOUN'), ('হয়', 'VERB'), ('৷', '.')], [('আর', 'VERB'), ('শুনতে', 'VERB'), ('পারিনে', 'VERB'), ('এ', 'VERB'), ('কথা', 'NOUN'), ('৷', '.')], [('এরপর', 'CONJ'), ('প্রজাবর্গ', 'NOUN'), ('এবং', 'CONJ'), ('বয়োজ্যেষ্ঠরা', 'NOUN'), ('একে', 'PRON'), ('একে', 'PRON'), ('এসে', 'VERB'), ('রাজা', 'NOUN'), ('-', '.'), ('রাণীকে', 'NOUN'), ('প্রণাম', 'NOUN'), ('বা', 'CONJ'), ('আশীর্বাদ', 'NOUN'), ('করেন', 'VERB'), ('৷', '.')], [('তোমার', 'PRON'), ('ফ্ল্যাটটা', 'NOUN'), ('পেলে', 'ADV'), ('আমার', 'PRON'), ('খুব', 'VERB'), ('সুবিধে', 'NOUN'), ('হয়', 'VERB'), ('৷', '.')], [('এই', 'PRON'), ('হল', 'VERB'), ('বিশ্বশ্বরাইয়ার', 'NOUN'), ('পরামর্শ', 'NOUN'), ('৷', '.')], [('দিনে', 'NOUN'), ('দিনে', 'NOUN'), ('কতো', 'VERB'), ('সহজেই', 'ADJ'), ('তিনি', 'PRON'), ('একাত্ম', 'ADJ'), ('হয়েছেন', 'VERB'), ('এই', 'VERB'), ('প্রতিষ্ঠানের', 'NOUN'), ('সঙ্গে', 'PSP'), ('৷', '.')], [('সাত', 'VERB'), ('বছর', 'NOUN'), ('বয়েস', 'NOUN'), ('থেকে', 'PSP'), ('গোপীকৃষ্ণের', 'NOUN'), ('হাতে', 'NOUN'), ('প্রথম', 'VERB'), ('তালিম', 'NOUN'), ('৷', '.')], [('ত্যেন্দ্রনাথ', 'NOUN'), ('প্রথম', 'ADV'), ('বিলেত', 'NOUN'), ('থেকে', 'PSP'), ('ফিরলেন', 'VERB'), ('৷', '.')], [('আমি', 'PRON'), (',', '.'), ('তাকে ', 'PRON'), ('আসলে', 'ADJ'), ('কাজ', 'VERB'), ('করা', 'VERB'), ('কমিয়ে', 'ADV'), ('দিয়েছি', 'VERB'), ('.', '.')], [('এ', 'PRON'), ('সময়', 'NOUN'), ('লোকজনের', 'NOUN'), ('মধ্যে', 'PSP'), ('আতঙ্ক', 'NOUN'), ('ছড়িয়ে', 'VERB'), ('পড়ে', 'VERB'), ('.', '.')], [('তবে', 'CONJ'), ('এ', 'PRON'), ('আগুনে', 'NOUN'), ('কেউ', 'PRON'), ('হতাহত', 'NOUN'), ('হয়নি', 'VERB'), ('.', '.')], [('বৈদ্যুতিক', 'ADJ'), ('শর্টসার্কিট', 'NOUN'), ('থেকে', 'PSP'), ('আগুনের', 'NOUN'), ('সূত্রপাত', 'ADV'), ('হয়েছে', 'VERB'), ('বলে', 'VERB'), ('ফায়ার', 'NOUN'), ('সার্ভিসের', 'NOUN'), ('সদস্যরা', 'NOUN'), ('জানিয়েছে', 'VERB'), ('.', '.')], [('আমি', 'PRON'), ('এবং ', 'CONJ'), ('তুমি', 'PRON'), ('দ্বিতীয়', 'ADJ'), ('.', '.')], [('দ্বিতীয়', 'ADJ'), ('খেলাটি', 'NOUN'), ('বৃষ্টির', 'NOUN'), ('জন্য', 'PSP'), ('মাঠে', 'NOUN'), ('গড়াতে', 'VERB'), ('পারেনি', 'VERB'), ('.', '.')], [('আমি', 'PRON'), ('ওকে', 'PRON'), ('অনেক', 'ADV'), ('ভালবাসি', 'VERB'), ('.', '.')], [('তাই', 'CONJ'), ('তৃতীয়', 'ADJ'), ('ম্যাচটি', 'NOUN'), ('ছিল', 'VERB'), ('সিরিজ', 'NOUN'), ('নির্ধারণী', 'ADJ'), ('.', '.')], [('অবশ্য', 'CONJ'), ('শ্রীলঙ্কা', 'NOUN'), ('আগেই', 'PSP'), ('এক', 'ADJ'), ('ম্যাচ', 'NOUN'), ('জিতে', 'VERB'), ('সিরিজ', 'NOUN'), ('হেরে', 'VERB'), ('গিয়েছিল', 'VERB'), ('.', '.')], [('তিনি', 'PRON'), ('গড়তে', 'VERB'), ('চান', 'VERB'), ('নতুন', 'ADJ'), ('নিয়মও', 'NOUN'), ('.', '.')], [('বিতর্ক', 'ADJ'), ('তার', 'PRON'), ('ছায়াসঙ্গী', 'NOUN'), ('.', '.')], [('তিনি', 'PRON'), ('নিজেই', 'ADV'), ('তৈরি', 'VERB'), ('করেন', 'VERB'), ('বিতর্ক', 'ADJ'), ('.', '.')], [('সেই', 'ADV'), ('তুমি', 'PRON'), ('কেন', 'ADV'), ('এত', 'CONJ'), ('অচেনা', 'NOUN'), ('হলে', 'VERB'), ('.', '.')], [('ভারতের', 'NOUN'), ('বিখ্যাত', 'ADJ'), ('নাট্যকার', 'NOUN'), ('গিরিশ', 'NOUN'), ('কারনাড', 'NOUN'), ('রবীন্দ্রনাথকে', 'NOUN'), ('দ্বিতীয়', 'ADJ'), ('শ্রেণীর', 'ADJ'), ('নাট্যকার', 'NOUN'), ('বললেও', 'VERB'), ('বাংলাদেশে', 'NOUN'), ('রবীন্দ্রনাথই', 'NOUN'), ('যেন', 'PSP'), ('একমাত্র', 'ADJ'), ('নাট্যকার', 'NOUN'), ('তিনি', 'PRON'), ('এবং', 'CONJ'), ('থেকে', 'PSP'), (',', '.'), ('থেকে', 'PSP'), ('এবং', 'CONJ'), ('.', '.')], [('থেকে', 'PSP'), ('অনেক', 'ADV'), ('থেকে', 'PSP'), ('তিনি', 'PRON'), ('এবং', 'CONJ'), ('থেকে', 'PSP'), ('অনেক', 'ADV'), ('.', '.')], [('এরই', 'PRON'), ('দৃষ্টান্ত', 'NOUN'), ('দেখা', 'VERB'), ('গেছে', 'VERB'), ('২০১১', 'ADJ'), ('সালের', 'NOUN'), ('মতো', 'PSP'), ('২০১২', 'ADJ'), ('.', '.')], [('২০১২', 'ADJ'), ('সালেই', 'NOUN'), ('প্রথম', 'ADJ'), ('কলকাতার', 'NOUN'), ('নাট্যোত্সব', 'NOUN'), ('আমদানি', 'VERB'), ('করা', 'VERB'), ('হয়েছে', 'VERB'), ('ঢাকায়', 'NOUN'), ('.', '.')], [('গোলের', 'ADJ'), ('স্থপতি', 'NOUN'), ('পেদ্রো', 'NOUN'), ('রদ্রিগুয়েজ', 'NOUN'), ('.', '.')], [('তার', 'PRON'), ('পাস', 'NOUN'), ('মেসিকে', 'NOUN'), ('খোঁজে', 'VERB'), ('পাওয়ার', 'VERB'), ('পর', 'PSP'), ('বাকি', 'ADJ'), ('কাজ', 'VERB'), ('সহজেই', 'ADJ'), ('সেরেছেন', 'VERB'), ('টানা', 'ADJ'), ('বারবারের', 'ADJ'), ('বিশ্ব', 'NOUN'), ('সেরা', 'ADJ'), ('ফুটবলার', 'NOUN'), ('.', '.')], [('ভেরানেকে', 'NOUN'), ('এক', 'ADJ'), ('ঝটকায়', 'NOUN'), ('পেছনে', 'ADJ'), ('ফেলে', 'VERB'), ('মেসির', 'NOUN'), ('বাঁ', 'ADJ'), ('পায়ের', 'NOUN'), ('জোরালো', 'ADJ'), ('ফেরানোর', 'VERB'), ('কোনা', 'PSP'), ('সুযোগই', 'NOUN'), (',', '.'), ('পান', 'VERB'), ('নি', 'ADV'), ('লোপেজ', 'NOUN'), ('.', '.')], [('আমি', 'PRON'), ('এবং ', 'CONJ'), ('তুমি', 'ADV'), ('.', '.')], [('তবে', 'CONJ'), ('আইএমএফের', 'NOUN'), ('শর্তানুযায়ী', 'ADJ'), ('সংস্থাটির', 'NOUN'), ('ঋণ', 'NOUN'), ('ঝুঁকিমুক্ত', 'ADJ'), ('করতে', 'VERB'), ('মুরসিকে', 'NOUN'), ('কঠোর', 'ADJ'), ('অর্থনৈতিক', 'ADJ'), ('সংস্কারের', 'ADJ'), ('মধ্য', 'PSP'), ('দিয়ে', 'PSP'), ('যেতে', 'VERB'), ('হবে', 'VERB'), ('.', '.')], [('গত', 'ADJ'), ('নভেম্বরে', 'NOUN'), ('আইএমএফের', 'NOUN'), ('সঙ্গে', 'CONJ'), ('সমঝোতা', 'CONJ'), ('হওয়া', 'VERB'), ('৪৮০', 'ADJ'), ('কোটি', 'ADJ'), ('ডলারের', 'NOUN'), ('ঋণ', 'NOUN'), ('নিয়ে', 'PSP'), ('আলোচনা', 'VERB'), ('আবার', 'ADV'), ('শুরু', 'VERB'), ('করতে', 'VERB'), ('চায়', 'VERB'), ('বলে', 'VERB'), ('জানিয়েছে', 'VERB'), ('কায়রো', 'NOUN'), ('.', '.')], [('নভেম্বরের', 'NOUN'), ('পর', 'ADJ'), ('থেকে', 'PSP'), ('কায়রোজুড়ে', 'ADV'), ('শুরু', 'VERB'), ('হওয়া', 'VERB'), ('সহিংস', 'ADJ'), ('প্রতিবাদের', 'VERB'), ('কারণে', 'PSP'), ('ঋণ', 'NOUN'), ('নিয়ে', 'VERB'), ('ওই', 'CONJ'), (',', '.'), ('আলোচনা', 'VERB'), ('মিসর', 'NOUN'), ('সরকারের', 'NOUN'), ('অনুরোধে', 'VERB'), ('স্থগিত', 'VERB'), ('করা', 'VERB'), ('হয়েছিল', 'VERB'), ('.', '.')], [('আগের', 'ADJ'), ('দিন', 'NOUN'), ('বিনা', 'ADJ'), ('উইকেটে', 'NOUN'), ('২৩', 'ADJ'), ('রান', 'NOUN'), (',', '.'), ('নিয়ে', 'PSP'), ('প্রথম', 'ADJ'), ('ইনিংসে', 'NOUN'), (',', '.'), ('গতকাল', 'ADV'), ('এবং', 'CONJ'), ('দ্বিতীয়', 'ADJ'), ('দিনের', 'NOUN'), ('মতো', 'ADV'), ('ব্যাট', 'NOUN'), ('করতে', 'VERB'), ('নামে', 'VERB'), ('বিসিবি', 'NOUN'), ('নর্থ', 'NOUN'), ('জোন', 'NOUN'), ('.', '.')], [(',', '.'), (',', '.'), ('সবকটি', 'ADJ'), ('উইকেট', 'NOUN'), ('হারিয়ে', 'VERB'), ('দলীয়', 'ADJ'), ('স্কোরে', 'NOUN'), ('আর', 'CONJ'), ('২৫১', 'ADJ'), ('রান', 'NOUN'), ('জমা', 'ADV'), ('পড়তেই', 'VERB'), ('দ্বিতীয়', 'ADJ'), ('দিনের', 'NOUN'), ('খেলা', 'NOUN'), ('শেষ', 'ADV'), ('হওয়ার', 'VERB'), ('আগেই', 'ADV'), ('গুঁড়িয়ে', 'ADV'), ('যায়', 'VERB'), ('.', '.')], [('বোলিং', 'NOUN'), ('নৈপুণ্যে', 'ADJ'), ('প্রথম', 'ADJ'), ('ইনিংসে', 'NOUN'), ('৩', 'ADJ'), ('রানের', 'NOUN'), ('লিড', 'NOUN'), ('পায়', 'VERB'), ('সেন্ট্রাল', 'NOUN'), ('জোন', 'NOUN'), ('.', '.')], [('চল', 'VERB'), ('আমরা', 'PRON'), ('এবং', 'CONJ'), ('তুমি', 'PRON'), ('খারাপ', 'ADJ'), ('তবে', 'CONJ'), ('.', '.')], [('দেশের', 'ADJ'), ('জনগণের', 'ADJ'), ('আবেগকে', 'NOUN'), ('পুঁজি', 'NOUN'), ('করে', 'PSP'), ('গণমাধ্যমগুলোর', 'NOUN'), ('সহযোগিতায়', 'NOUN'), ('তারা', 'PRON'), ('জনগণকে', 'NOUN'), ('বিভ্রান্ত', 'ADJ'), ('করার', 'VERB'), ('অপচেষ্টা', 'NOUN'), ('চালায়', 'VERB'), ('আমরা', 'PRON'), ('এবং', 'CONJ'), ('.', '.')], [('আমি', 'PRON'), ('এবং', 'CONJ'), ('তাকে ', 'PRON'), ('অনেক', 'ADV'), ('.', '.')], [('আমি', 'PRON'), ('তাকে ', 'PRON'), ('অনেক', 'ADV'), ('.', '.')], [('তিনি', 'PRON'), ('তপু ', 'NOUN'), ('অনেক', 'ADV'), ('ভাল', 'ADJ'), ('এবং', 'CONJ'), ('সৎ', 'ADJ'), ('তিনি', 'PRON'), ('এত', 'ADV'), ('এবং', 'CONJ'), ('খুব', 'ADV'), ('মধ্যে', 'PSP'), ('তিনি', 'PRON'), ('এবং', 'CONJ'), ('থেকে', 'PSP'), ('.', '.')], [('তিনি', 'PRON'), ('ভাল', 'ADJ'), ('খায় ', 'PRON'), ('অনেক', 'ADV'), ('.', '.')], [('দেশপ্রেমী', 'ADJ'), ('বিপ্লবী', 'ADJ'), ('তরুণরা', 'NOUN'), ('এই', 'ADJ'), ('অপচেষ্টাকে', 'NOUN'), ('রুখে', 'VERB'), ('দিতে', 'VERB'), ('\"ফেসবুক,\"', 'NOUN'), ('ব্লগ', 'NOUN'), ('ও', 'CONJ'), ('অনলাইন', 'NOUN'), ('মাধ্যমে', 'PSP'), ('সে', 'PRON'), ('ব্যাপক', 'ADJ'), ('তার', 'PRON'), ('তত্পরতা', 'NOUN'), ('পরিচালনা', 'VERB'), ('করে', 'VERB'), ('.', '.')], [('এতে', 'CONJ'), ('ভীত', 'ADJ'), ('হয়ে', 'PSP'), ('পড়ে', 'VERB'), ('শাহবাগ', 'NOUN'), ('আন্দোলনকারীরাও', 'NOUN'), ('.', '.')], [('সে', 'PRON'), ('আমরা', 'PRON'), ('এবং ', 'CONJ'), ('তুমি', 'PRON'), ('খাবো', 'VERB'), ('অনেক', 'ADV'), ('আমরা', 'PRON'), ('.', '.')], [('নিজেদের', 'ADJ'), ('চেয়ে', 'PSP'), ('শক্তির', 'NOUN'), ('বিচারে', 'NOUN'), ('এগিয়ে', 'ADV'), ('থাকা', 'VERB'), ('সেই', 'CONJ'), ('নেপালকেই', 'NOUN'), ('কাল', 'ADJ'), ('তাদের', 'PRON'), ('মাটিতেই', 'NOUN'), ('হারিয়ে', 'VERB'), ('এএফসি', 'NOUN'), ('চ্যালেঞ্জ', 'NOUN'), ('কাপের', 'ADJ'), ('বাছাই', 'NOUN'), ('পর্বে', 'NOUN'), ('নিজেদের', 'ADV'), ('টিকিয়ে', 'VERB'), ('রাখল', 'VERB'), ('লাল-সবুজরা', 'NOUN'), ('.', '.')], [('ম্যাচে', 'NOUN'), ('Feb-২০০০', 'ADJ'), ('গোলের', 'NOUN'), ('জয়', 'NOUN'), ('পায়', 'VERB'), ('লোড', 'NOUN'), ('উইক', 'NOUN'), ('ডি', 'NOUN'), ('ক্রুইফ', 'NOUN'), ('শিষ্যরা', 'NOUN'), ('.', '.')], [('দলের', 'NOUN'), ('হয়ে', 'VERB'), ('শাখাওয়াত', 'NOUN'), ('হোসেন', 'NOUN'), ('রনি', 'NOUN'), ('একাই', 'ADJ'), ('গোল', 'NOUN'), ('দুটি', 'ADJ'), ('করেন', 'VERB'), ('.', '.')], [('তার', 'PRON'), ('থেকে', 'PSP'), ('শিখো ', 'VERB'), ('.', '.')], [('রিয়ালের', 'ADJ'), ('মাঠ', 'NOUN'), ('সান্তিয়াগো', 'NOUN'), ('বার্নাব্যুতে', 'NOUN'), ('প্রথম', 'ADJ'), ('লেগের', 'NOUN'), ('ম্যাচে', 'NOUN'), ('গোল', 'NOUN'), ('পাওয়ায়', 'VERB'), ('শেষ', 'ADJ'), ('আটের', 'ADJ'), ('পথে', 'NOUN'), ('অনেকটাই', 'ADJ'), ('এগিয়ে', 'ADV'), ('রয়েছে', 'VERB'), ('কোচ', 'NOUN'), ('স্যার', 'NOUN'), ('অ্যালেক্স', 'NOUN'), ('ফার্গুসনের', 'NOUN'), ('দলটি', 'NOUN'), ('.', '.')], [('তবে', 'CONJ'), ('টানা', 'ADV'), ('দুটি', 'ADJ'), ('‘এল', 'NOUN'), ('ক্লাসিকো’', 'NOUN'), ('জিতে', 'VERB'), ('আত্মবিশ্বাসের', 'NOUN'), ('পারদটা', 'NOUN'), ('অনেক', 'ADJ'), ('উঁচুতে', 'ADJ'), ('রিয়ালের', 'NOUN'), ('.', '.')], [('চিরপ্রতিদ্বন্দ্বী', 'ADJ'), ('বার্সেলোনার', 'NOUN'), ('বিপক্ষে', 'PRON'), ('ওই', 'PSP'), ('দুটি', 'ADJ'), ('জয়', 'NOUN'), ('ওল্ড', 'NOUN'), ('ট্রাফোর্ডে', 'NOUN'), ('অনুপ্রেরণা', 'NOUN'), ('জোগাবে', 'VERB'), ('রিয়ালকে', 'NOUN'), ('.', '.')], [('চলতি', 'ADJ'), ('মৌসুমে', 'NOUN'), ('ছয়টি', 'ADJ'), ('এল', 'NOUN'), ('ক্লাসিকোর', 'NOUN'), ('মধ্যে', 'PSP'), ('এ', 'CONJ'), ('নিয়ে', 'PSP'), ('তিনটিতেই', 'ADJ'), ('জয়', 'NOUN'), ('পেয়েছে', 'VERB'), ('দলটি', 'NOUN'), ('.', '.')], [('বার্সা', 'NOUN'), ('জিতেছে', 'VERB'), ('মাত্র', 'ADV'), ('একটিতে', 'ADJ'), ('.', '.')], [('বাকি', 'ADV'), ('দুটি', 'ADJ'), ('এল', 'NOUN'), ('ক্লাসিকোতে', 'NOUN'), ('ড্র', 'NOUN'), ('করে', 'VERB'), ('দু’দল', 'ADJ'), ('.', '.')], [('২৬', 'ADJ'), ('মিনিটে', 'NOUN'), ('আচমকা', 'ADJ'), ('গোল', 'NOUN'), ('হজম', 'VERB'), ('করতে', 'VERB'), ('হয়', 'VERB'), ('তাদের', 'PRON'), ('.', '.')], [('কার্যত', 'NOUN'), ('প্রথম', 'ADJ'), ('আক্রমণেই', 'VERB'), ('গোল', 'NOUN'), ('পেয়ে', 'VERB'), ('যায়', 'VERB'), ('গ্রানাডা', 'NOUN'), ('.', '.')], [('নলিটোর', 'NOUN'), ('পাসে', 'VERB'), ('গোল', 'NOUN'), ('করে', 'VERB'), ('স্বাগতিকদের', 'NOUN'), ('এগিয়ে', 'ADV'), ('দেন', 'VERB'), ('নাইজেরিয়ান', 'NOUN'), ('স্ট্রাইকার', 'NOUN'), ('ওদিওন', 'NOUN'), ('ইগহালো', 'NOUN'), ('.', '.')], [('আসলে', 'ADJ'), ('এখন', 'NOUN'), ('আর', 'ADV'), ('আগের', 'ADJ'), ('মতো', 'ADJ'), ('এবং', 'CONJ'), ('সে', 'PRON'), ('খুব', 'ADV'), ('ভালো', 'ADJ'), ('.', '.')], [('টস', 'NOUN'), ('জিতে', 'VERB'), ('প্রথমে', 'ADJ'), ('ব্যাট', 'NOUN'), ('করতে', 'VERB'), ('নামে', 'VERB'), ('অস্ট্রেলিয়া', 'NOUN'), ('মহিলা', 'NOUN'), ('দলের', 'ADJ'), ('জডি', 'NOUN'), ('ফিল্ডস', 'NOUN'), ('.', '.')], [('রাসেল', 'NOUN'), ('হাইনেস', 'NOUN'), ('ও', 'CONJ'), ('জেস', 'NOUN'), ('ক্যামেরুনের', 'NOUN'), ('ব্যাটিং', 'NOUN'), ('নৈপুণ্যে', 'ADJ'), ('নির্ধারিত', 'ADJ'), ('৫০', 'ADJ'), ('ওভার', 'NOUN'), ('শেষে', 'ADJ'), ('৭', 'ADJ'), ('উইকেট', 'NOUN'), ('হারিয়ে', 'VERB'), ('২৫৯', 'ADJ'), ('রানের', 'NOUN'), ('ফাইটিং', 'ADJ'), ('স্কোর', 'NOUN'), ('দাঁড়', 'VERB'), ('করায়', 'VERB'), ('তার', 'PRON'), ('দল', 'NOUN'), ('.', '.')], [('প্রথম', 'ADJ'), ('উইকেট', 'NOUN'), ('পড়ার', 'VERB'), ('পর', 'PSP'), ('স্কোর', 'NOUN'), ('.', '.')], [('ওপেনিং', 'NOUN'), ('জুটিতে', 'NOUN'), ('৫২', 'ADJ'), ('রানের', 'NOUN'), ('পার্টনারশিপ', 'NOUN'), ('গড়ে', 'VERB'), ('অস্ট্রেলিয়াকে', 'NOUN'), ('দারুণ', 'ADJ'), ('একটি', 'ADJ'), ('সূচনা', 'NOUN'), ('এনে', 'VERB'), ('দেন', 'VERB'), ('মেগ', 'NOUN'), ('ল্যানিং', 'NOUN'), ('ও', 'CONJ'), ('হাইনেস', 'NOUN'), ('.', '.')], [('তিনি', 'PRON'), ('অনেক', 'ADV'), ('ভাল', 'ADJ'), ('খায় ', 'VERB'), ('অনেক', 'ADV'), ('ভাল', 'ADJ'), ('এবং ', 'CONJ'), ('সে', 'PRON'), ('মোটা ', 'ADJ'), ('অনেক', 'ADV'), ('.', '.')], [('আমি', 'PRON'), ('অনেক', 'ADV'), ('ভাল', 'ADJ'), ('.', '.')], [('এরপর', 'CONJ'), ('দ্বিতীয়', 'ADJ'), ('জুটিতে', 'NOUN'), ('৭৫', 'ADJ'), ('রানে', 'NOUN'), ('পৌঁছায়', 'VERB'), ('তারা', 'PRON'), ('.', '.')], [('প্রথম', 'ADJ'), ('উইকেট', 'NOUN'), ('পড়ার', 'VERB'), ('পর', 'PSP'), ('মাঠে', 'NOUN'), ('আসা', 'VERB'), ('উইলিয়ামসনই', 'NOUN'), ('দলের', 'NOUN'), ('ভিত', 'NOUN'), ('গড়ে', 'VERB'), ('যান', 'VERB'), ('.', '.')], [('৯৯', 'ADJ'), ('বলে', 'NOUN'), ('৭৪', 'ADJ'), ('রান', 'NOUN'), ('করে', 'VERB'), ('রানআউটে', 'NOUN'), ('কাটা', 'VERB'), ('পড়ে', 'VERB'), ('তার', 'PRON'), ('ইনিংস', 'NOUN'), ('.', '.')], [('লিগে', 'NOUN'), ('সর্বোচ্চ', 'ADJ'), ('উইকেট', 'NOUN'), ('শিকারির', 'NOUN'), ('তালিকায়', 'NOUN'), ('যৌথভাবে', 'ADJ'), ('শীর্ষেও', 'CONJ'), ('রয়েছেন', 'VERB'), ('লঙ্কান', 'NOUN'), ('এই', 'CONJ'), ('পেসার', 'NOUN'), ('.', '.')], [('ডেভিড', 'NOUN'), ('হাসির', 'NOUN'), ('\"মতে,\"', 'PRON'), ('কাল', 'NOUN'), ('থেকে', 'PSP'), ('শুরু', 'VERB'), ('হতে', 'PSP'), ('যাওয়া', 'VERB'), ('অস্ট্রেলিয়া-শ্রীলঙ্কার', 'NOUN'), ('পাঁচ', 'ADJ'), ('ওয়ানডে', 'NOUN'), ('ম্যাচ', 'NOUN'), ('সিরিজেও', 'NOUN'), ('গতির', 'NOUN'), ('ঝড়', 'NOUN'), ('তুলবেন', 'VERB'), ('মালিঙ্গা', 'NOUN'), ('.', '.')], [('মেলবোর্ন', 'NOUN'), ('স্টারসে', 'NOUN'), ('একসঙ্গে', 'ADV'), ('খেললেও', 'VERB'), ('ওয়ানডে', 'NOUN'), ('সিরিজে', 'NOUN'), ('মালিঙ্গার', 'NOUN'), ('প্রতিপক্ষ', 'VERB'), ('ডেভিড', 'NOUN'), ('হাসি', 'NOUN'), ('.', '.')], [('পালেকেল্লের', 'NOUN'), ('তৃতীয়', 'ADJ'), ('ওয়ানডেতে', 'NOUN'), ('দুই', 'ADJ'), ('ঘণ্টার', 'ADJ'), ('বেশি', 'ADJ'), ('সময়', 'NOUN'), ('টানা', 'ADJ'), ('বৃষ্টির', 'NOUN'), ('পর', 'ADJ'), ('বাংলাদেশের', 'NOUN'), ('সমীকরণ', 'NOUN'), ('দাঁড়ায়', 'VERB'), ('অবশিষ্ট', 'ADJ'), ('১৩.২', 'ADJ'), ('ওভারে', 'NOUN'), ('১০৫', 'ADJ'), ('রান', 'NOUN'), ('.', '.')], [('বৃষ্টি', 'NOUN'), ('শেষে', 'ADJ'), ('ম্যাচের', 'NOUN'), ('পরিসর', 'ADJ'), ('কমায়', 'VERB'), ('লক্ষ্য', 'NOUN'), ('কমে', 'VERB'), ('দাঁড়ানোকে', 'NOUN'), ('খুব', 'ADV'), ('বেশি', 'ADJ'), ('গুরুত্ব', 'NOUN'), ('দেননি', 'VERB'), ('বাংলাদেশ', 'NOUN'), ('অধিনায়ক', 'NOUN'), ('মুশফিকুর', 'NOUN'), ('রহীম', 'NOUN'), ('.', '.')], [('বৃষ্টির', 'NOUN'), ('সময়', 'NOUN'), ('ড্রেসিংরুমে', 'NOUN'), ('বসেই', 'VERB'), ('ম্যাচ', 'NOUN'), ('জয়ের', 'NOUN'), ('একটা', 'ADJ'), ('ছক', 'NOUN'), ('কষে', 'VERB'), ('ফেলেছিলেন', 'VERB'), ('মুশফিক', 'NOUN'), ('.', '.')], [('চুক্তি', 'NOUN'), ('শেষে', 'ADJ'), ('প্রাইম', 'NOUN'), ('ব্যাংকের', 'ADJ'), ('পক্ষ', 'PSP'), ('থেকে', 'PSP'), ('গেইম', 'NOUN'), ('অন', 'NOUN'), ('স্পোর্টসকে', 'NOUN'), ('অগ্রিম', 'ADJ'), ('সাড়ে', 'NOUN'), ('৪', 'ADJ'), ('কোটি', 'ADJ'), ('টাকার', 'NOUN'), ('একটি', 'ADJ'), ('ডামি', 'ADJ'), ('চেক', 'NOUN'), ('দেয়া', 'VERB'), ('হয়', 'VERB'), ('.', '.')], [('পরক্ষণেই', 'ADJ'), ('উন্মোচন', 'VERB'), ('করা', 'VERB'), ('হয়', 'VERB'), ('বিপিএলের', 'NOUN'), ('দ্বিতীয়', 'ADJ'), ('আসরের', 'NOUN'), ('আনুষ্ঠানিক', 'ADJ'), ('লগো', 'NOUN'), ('.', '.')], [('চুক্তিস্বাক্ষর', 'NOUN'), ('অনুষ্ঠানে', 'NOUN'), ('প্রাইম', 'NOUN'), ('ব্যাংকের', 'ADJ'), ('চেয়ারম্যান', 'NOUN'), ('সিরাজুল', 'NOUN'), ('ইসলাম', 'NOUN'), ('মোল্লা', 'NOUN'), ('বক্তব্য', 'NOUN'), ('দেন', 'VERB'), ('.', '.')], [('সিডনিতে', 'ADJ'), ('শ্রীলঙ্কাকে', 'ADJ'), ('হোয়াইটওয়াশ', 'NOUN'), ('করতেই', 'VERB'), ('মাঠে', 'NOUN'), ('নামবে', 'VERB'), ('অজিরা', 'NOUN'), ('.', '.')], [('ভালো', 'ADJ'), ('করে', 'PSP'), ('লেখ', 'ADJ'), ('.', '.')], [('সিডনি', 'NOUN'), ('টেস্টটা', 'NOUN'), ('বিশেষভাবে', 'ADJ'), ('গুরুত্বপূর্ণ', 'ADJ'), ('হয়ে', 'VERB'), ('উঠেছে', 'VERB'), ('মাইক', 'NOUN'), ('হাসির', 'NOUN'), ('জন্য', 'CONJ'), ('.', '.')], [('টেস্ট', 'NOUN'), ('ক্রিকেটকে', 'NOUN'), ('বিদায়', 'VERB'), ('বলে', 'VERB'), ('দেয়ায়', 'VERB'), ('এই', 'ADJ'), ('টেস্টই', 'NOUN'), ('তার', 'PRON'), ('ক্যারিয়ারের', 'NOUN'), ('শেষ', 'ADJ'), ('টেস্ট', 'NOUN'), ('.', '.')], [('রকিব', 'NOUN'), ('হোসেন', 'NOUN'), ('সিনেমার', 'NOUN'), ('মায়ায়', 'VERB'), ('অরিন', 'ADV'), ('কখনও', 'CONJ'), ('\"ভেবেছিলেন,\"', 'VERB'), ('এভাবে', 'ADV'), ('তার', 'PRON'), ('জীবন', 'NOUN'), ('সিনেমাময়', 'ADJ'), ('হয়ে', 'VERB'), ('উঠবে?', 'VERB'), ('সিনেমা', 'NOUN'), ('ছাড়া', 'PSP'), ('আর', 'CONJ'), ('কিছুই', 'CONJ'), ('তার', 'PRON'), ('মাথায়', 'NOUN'), ('ঢুকবে', 'VERB'), ('না', 'ADV'), ('সিনেমার', 'NOUN'), ('মায়ায়', 'ADJ'), ('অবস্থা', 'NOUN'), ('হবে', 'VERB'), ('তার', 'PRON'), ('পাগলপারা', 'ADJ'), ('.', '.')], [('আসলে', 'ADJ'), ('এখন', 'NOUN'), ('আর', 'ADV'), ('আগের', 'ADJ'), ('মতো', 'ADJ'), ('একের', 'ADJ'), ('পর', 'PSP'), ('এক', 'ADJ'), ('নাটকে', 'NOUN'), ('কাজ', 'VERB'), ('করার', 'VERB'), ('ইচ্ছে', 'ADJ'), ('নেই', 'ADV'), ('আমার', 'NOUN'), ('.', '.')], [('তাই', 'CONJ'), ('আগের', 'ADJ'), ('মতো', 'ADJ'), ('একের', 'ADJ'), ('পর', 'ADV'), ('এক', 'ADJ'), ('নাটকে', 'NOUN'), ('অভিনয়', 'NOUN'), ('করছি', 'VERB'), ('না', 'ADV'), ('.', '.')], [('নিজে', 'ADV'), ('থেকেই', 'PSP'), ('আসলে', 'ADJ'), ('কাজ', 'VERB'), ('করা', 'VERB'), ('কমিয়ে', 'ADV'), ('দিয়েছি', 'ADV'), ('.', '.')], [('আমি', 'PRON'), ('তাকে ', 'PRON'), ('আসলে', 'ADJ'), ('কাজ', 'VERB'), ('করা', 'VERB'), ('কমিয়ে', 'ADV'), ('দিয়েছি', 'ADV'), ('.', '.')], [('আমি', 'PRON'), ('তাকে ', 'PRON'), ('.', '.')]]\n"
          ]
        }
      ]
    },
    {
      "cell_type": "code",
      "metadata": {
        "colab": {
          "base_uri": "https://localhost:8080/"
        },
        "id": "NFnJP8ZZZZ_f",
        "outputId": "dd6dc798-6fdd-4921-cb6e-828f4d37dd47"
      },
      "source": [
        "import nltk\n",
        " \n",
        "tagged_sentences = sentence_list\n",
        "\n",
        "#print(\"tagged_sentences are: \", type(tagged_sentences[0]))\n",
        "#print(tagged_sentences)\n",
        "print(\"Tagged sentences: \", len(tagged_sentences))\n",
        "#print(\"Tagged words:\", len(nltk.corpus.treebank.tagged_words()))\n",
        " \n",
        "# [('Pierre', 'NNP'), ('Vinken', 'NNP'), (',', ','), ('61', 'CD'), ('years', 'NNS'), ('old', 'JJ'), (',', ','), ('will', 'MD'), ('join', 'VB'), ('the', 'DT'), ('board', 'NN'), ('as', 'IN'), ('a', 'DT'), ('nonexecutive', 'JJ'), ('director', 'NN'), ('Nov.', 'NNP'), ('29', 'CD'), ('.', '.')]\n",
        "# Tagged sentences:  3914\n",
        "# Tagged words: 100676\n",
        "\n",
        "import numpy as np\n",
        "sentences, sentence_tags =[], [] \n",
        "for tagged_sentence in tagged_sentences:\n",
        "    sentence, tags = zip(*tagged_sentence)\n",
        "    sentences.append(np.array(sentence))\n",
        "    sentence_tags.append(np.array(tags))\n",
        " \n",
        "# Let's see how a sequence looks\n",
        " \n",
        "print(sentences[5])\n",
        "print(sentence_tags[5])"
      ],
      "execution_count": null,
      "outputs": [
        {
          "output_type": "stream",
          "name": "stdout",
          "text": [
            "Tagged sentences:  457\n",
            "['মাটি' 'থেকে' 'বড়জোর' 'চার' 'পাঁচ' 'ফুট' 'উঁচু' 'হবে' '৷']\n",
            "['NOUN' 'PSP' 'VERB' 'VERB' 'VERB' 'NOUN' 'ADJ' 'VERB' '.']\n"
          ]
        }
      ]
    },
    {
      "cell_type": "code",
      "metadata": {
        "id": "nwZcm8E_9d9E"
      },
      "source": [
        "from sklearn.model_selection import train_test_split\n",
        "(train_sentences, test_sentences, train_tags, test_tags) = train_test_split(sentences, sentence_tags, test_size=0.2)\n",
        "#print(train_tags)"
      ],
      "execution_count": null,
      "outputs": []
    },
    {
      "cell_type": "code",
      "metadata": {
        "colab": {
          "base_uri": "https://localhost:8080/"
        },
        "id": "h7HDA_q9slqQ",
        "outputId": "3a99cf0b-725e-4d73-b064-63b3841f7d82"
      },
      "source": [
        "words, tags = set([]), set([])\n",
        " \n",
        "for s in train_sentences:\n",
        "    for w in s:\n",
        "        words.add(w)\n",
        " \n",
        "for ts in train_tags:\n",
        "    for t in ts:\n",
        "        tags.add(t)\n",
        " \n",
        "word2index = {w: i + 2 for i, w in enumerate(list(words))}\n",
        "word2index['-PAD-'] = 0  # The special value used for padding\n",
        "word2index['-OOV-'] = 1  # The special value used for OOVs\n",
        " \n",
        "tag2index = {t: i + 1 for i, t in enumerate(list(tags))}\n",
        "tag2index['-PAD-'] = 0  # The special value used to padding\n",
        " \n",
        "train_sentences_X, test_sentences_X, train_tags_y, test_tags_y = [], [], [], []\n",
        " \n",
        "for s in train_sentences:\n",
        "    s_int = []\n",
        "    for w in s:\n",
        "        try:\n",
        "            s_int.append(word2index[w])\n",
        "        except KeyError:\n",
        "            s_int.append(word2index['-OOV-'])\n",
        " \n",
        "    train_sentences_X.append(s_int)\n",
        " \n",
        "for s in test_sentences:\n",
        "    s_int = []\n",
        "    for w in s:\n",
        "        try:\n",
        "            s_int.append(word2index[w.lower()])\n",
        "        except KeyError:\n",
        "            s_int.append(word2index['-OOV-'])\n",
        " \n",
        "    test_sentences_X.append(s_int)\n",
        "print(test_sentences_X)\n",
        "for s in train_tags:\n",
        "    train_tags_y.append([tag2index[t] for t in s])\n",
        " \n",
        "for s in test_tags:\n",
        "    test_tags_y.append([tag2index[t] for t in s])\n",
        " \n",
        "print(train_sentences_X[0])\n",
        "print(test_sentences_X[0])\n",
        "print(train_tags_y[0])\n",
        "print(test_tags_y[0])\n"
      ],
      "execution_count": null,
      "outputs": [
        {
          "output_type": "stream",
          "name": "stdout",
          "text": [
            "[[1, 138, 1, 1512, 1, 2191, 2169, 1258, 1, 2400, 1, 1, 1512, 1132, 1170, 1, 1512, 210, 2437, 1, 429, 1, 1, 1642], [1, 1, 1, 1, 1727, 280, 1098, 1642], [1, 1, 1478, 245, 1512, 1, 1098, 1292, 1, 1292, 1, 126, 1, 1, 1, 1, 863, 1, 1140, 1098, 2399, 1512, 1118, 1, 655, 1642], [197, 305, 1, 811, 2437, 1499, 2358, 1, 1642], [1, 1964, 450, 1496, 1, 1, 1, 1, 1, 2359, 1642], [1148, 808, 1, 228, 1, 30, 1138], [91, 1153, 1, 1331, 71, 1, 1, 1, 1512, 361, 2458, 1, 1, 1512, 1, 1, 2004, 32, 2373, 1, 2044, 2291, 28, 1, 2191, 1, 2288, 740, 1364, 1642], [1, 1, 1, 2288, 1, 1, 835, 1642], [2318, 518, 431, 1, 1, 1, 921, 1010, 406, 498, 1, 1642], [1014, 1, 506, 59, 2037, 1606, 1642], [1450, 271, 1515, 176, 1, 815, 1578, 1, 1, 1, 1721, 1, 1, 2201, 1, 110, 1, 1721, 1, 2201, 2291, 1746, 1, 1721, 1, 1, 2201, 1, 1149, 1642], [584, 1, 1986, 1610, 619, 1, 212, 1, 2388, 737, 970, 1642], [1, 1402, 1104, 1512, 1, 95, 1196, 1, 1104, 2437, 1, 1, 957, 835, 1642], [1, 1, 1, 1, 1, 804, 1, 1, 1, 406, 1, 2147, 1, 2362, 1642], [1, 1, 1, 1342, 1, 283, 1, 1, 1417, 808, 1, 1512, 629, 2181, 1, 1, 1, 1, 498, 1642], [1, 1, 1, 1, 180, 1, 518, 1512, 197, 1, 1120, 2418, 921, 1, 1173, 1, 1642], [1, 1, 1, 1, 2461, 1, 1, 1, 2286, 1, 1138], [1, 1, 1, 1524, 1, 1642], [1104, 1104, 1, 1, 2117, 1512, 1, 1098, 1, 1350, 1, 1, 1104, 1, 1617, 1, 2291, 1, 1, 1, 1, 1173, 1642], [1, 2249, 1846, 668, 1, 1512, 1, 1512, 1, 126, 1569, 1, 775, 1918, 139, 2415, 1642], [1153, 1417, 1, 1, 1642], [1098, 2249, 1, 1606, 19, 358, 1, 1, 1642], [1, 1575, 2169, 1746, 1, 1, 1, 1, 1721, 1, 1, 1, 2201, 1, 1, 1, 924, 1, 1, 2191, 1, 1, 333, 1, 518, 1642], [1038, 1900, 283, 1354, 1, 2185, 1, 1536, 1, 74, 1138], [1, 1518, 1085, 1, 1, 1, 1, 348, 2437, 1, 1, 440, 1, 493, 415, 406, 1, 2437, 2296, 1, 1098, 1085, 1, 1, 1606, 2437, 1, 1138], [1, 1, 1, 1610, 1, 1, 1, 1, 1, 1, 279, 1, 1, 1, 400, 1, 2262, 614, 2216, 1642], [1, 50, 1, 2117, 1, 1, 2361, 1, 1478, 1173, 1098, 1642], [492, 1, 1, 1512, 1, 1, 811, 1642], [1153, 327, 1, 1, 1, 2044, 2191, 888, 2256, 1512, 492, 1, 1, 2256, 1642], [2418, 1865, 1, 1173, 1512, 1, 1153, 274, 1, 1642], [1138, 982, 1030, 1, 2318, 1642], [1, 1, 1, 1, 1, 1, 126, 283, 1, 1, 1, 1, 2044, 1, 1, 1, 1, 1149, 1642], [2088, 658, 1219, 1138], [1, 1, 2291, 1, 1478, 1817, 1512, 1258, 1392, 795, 2132, 1721, 1730, 2201, 2458, 425, 1, 1, 98, 1642], [1, 1660], [419, 2004, 1, 1642], [393, 326, 1, 1, 1135, 1, 1, 1642], [1, 1973, 1642], [863, 787, 2342, 1524, 1512, 393, 1292, 1820, 2318, 1, 19, 2296, 619, 1, 1, 1, 1642], [1, 562, 1, 1074, 2262, 2166, 1, 2154, 2428, 1, 1, 1138], [808, 1, 1, 1, 1, 435, 1642], [419, 1, 2212, 372, 1164, 2147, 1, 655, 1578, 1, 1, 1642], [863, 1678, 1867, 1019, 1138], [668, 1, 1, 137, 1, 2044, 1, 814, 1, 1, 1642], [492, 1, 1014, 921, 348, 137, 1606, 1642], [1258, 2410, 814, 91, 406, 1, 1915, 1033, 1642], [1, 1390, 1, 1642], [808, 71, 1, 1974, 1, 1, 2386, 1138], [1, 651, 1, 1512, 1, 1, 1, 1010, 432, 1, 1, 2044, 1568, 1033, 1, 1, 1642], [1, 1, 811, 1, 71, 1135, 396, 1, 2044, 1, 1793, 1, 2044, 2039, 1, 1390, 1642], [1, 286, 1905, 1642], [1, 1, 1, 1, 1098, 1512, 1, 1, 170, 429, 464, 2044, 1, 1, 1, 1098, 1642], [1892, 361, 1, 1, 1292, 1, 1, 1292, 1, 1, 1865, 1, 1128, 1893, 361, 1, 1, 1, 1, 1642], [28, 28, 1, 863, 1, 1143, 1, 459, 1, 71, 1014, 782, 1396, 1064, 1716, 1, 1, 77], [2002, 1, 1, 1705, 1, 1721, 1, 2201, 1578, 1, 1721, 1, 2201, 1, 1506, 1, 1, 1, 1642], [1, 1, 1, 921, 430, 1, 1153, 1, 482, 1, 1, 1642], [348, 1, 2262, 1606, 1642], [2418, 1, 263, 518, 1512, 552, 1, 1, 287, 2211, 2117, 1173, 126, 1, 1610, 1, 287, 1994, 1, 1729, 1, 2117, 1173, 1512, 353, 1, 1, 1, 287, 1, 1, 467, 2370, 1606, 1642], [1200, 1033, 1512, 1, 1, 1, 1, 1, 1642], [373, 1267, 833, 580, 2117, 285, 1288, 1138], [629, 1, 179, 358, 1817, 1258, 2291, 1, 1, 1, 2400, 2166, 1642], [1, 1512, 1, 1512, 1, 1512, 91, 1065, 2291, 1, 1512, 131, 1, 655, 1512, 2389, 1, 1761, 1, 1, 1642], [2400, 1258, 393, 2004, 2318, 1642], [2311, 1120, 1120, 379, 232, 1, 1, 1, 1170, 1974, 1, 1469, 1, 1, 1512, 629, 1, 1, 1, 429, 1, 1, 1, 1642], [629, 1219, 2399, 1, 1, 2249, 1138], [1, 1739, 1, 1, 826, 1, 1104, 1104, 1512, 406, 2423, 1, 1512, 1, 1512, 1, 2191, 1, 2068, 1, 1, 1, 2256, 1, 100, 100, 1642], [1, 360, 1153, 1, 1642], [1, 1, 811, 868, 1010, 1642], [197, 501, 1, 1, 1, 94, 2262, 1606, 419, 1269, 1, 1, 1642], [441, 1, 1512, 1101, 518, 1, 1642], [406, 2315, 197, 1, 1, 1, 1, 1720, 1234, 1, 1642], [505, 1, 1, 1, 1, 138, 2291, 1, 1, 1, 1, 618, 1, 2092, 1164, 655, 1642], [2088, 658, 1219, 1430, 1138], [1616, 706, 571, 1, 1, 274, 661, 953, 1642], [1148, 1, 1, 1, 1, 1833, 1642], [2088, 1578, 1916, 1019, 1138], [1, 1, 1, 1, 1347, 1, 1, 1610, 2291, 1, 1, 868, 2101, 2276, 1397, 911, 1, 1642], [863, 1, 1019, 1678, 1578, 1, 863, 1, 1578, 246, 1974, 863, 1578, 1610, 1138], [1, 1, 147, 1, 1, 1, 1, 1, 1, 1153, 1, 1138], [1, 2473, 1, 1, 1, 1, 1, 1052, 1, 1, 1, 1, 1, 1, 1, 1137, 1, 1, 1, 1874, 1, 2291, 150, 2447, 2044, 1, 1, 775, 1952, 1642], [2418, 1793, 1521, 1, 1512, 1, 1, 2191, 1, 2033, 1331, 1, 1642], [1, 435, 1, 1610, 1, 1846, 283, 1, 1642], [1556, 1, 2093, 879, 1536, 1, 1, 1, 1, 1, 1138], [1, 1, 429, 1, 1, 1729, 1, 842, 1, 1, 1063, 2401, 1642], [1, 1, 1, 2044, 1, 1, 1512, 1, 1, 1512, 1, 1, 1512, 1, 1642], [1, 1, 1, 1, 1, 2004, 1, 1, 177, 1042, 1660], [1, 483, 2001, 1, 655, 1512, 1, 1173, 1, 2044, 1, 1, 1, 1578, 1, 1642], [1, 1, 283, 1, 1, 1, 2191, 1, 1, 2413, 1578, 1, 1, 1512, 1, 1512, 1, 1512, 1, 1, 1, 137, 1, 1642], [406, 1, 1, 808, 2318, 1642], [2005, 1, 2044, 1, 1, 804, 1292, 1849, 1578, 40, 1, 804, 1292, 741, 1512, 306, 1, 1, 1, 1705, 1, 2174, 1, 1, 1, 126, 1, 1478, 1173, 1578, 2002, 1, 1, 1, 155, 1, 1642], [2423, 1, 1, 1, 1098, 2399, 1512, 1, 1, 1, 1, 970, 1642], [1174, 1512, 1, 1, 1512, 1, 1512, 1, 1, 1512, 1, 1, 1, 1350, 1642]]\n",
            "[1872, 1642]\n",
            "[1, 138, 1, 1512, 1, 2191, 2169, 1258, 1, 2400, 1, 1, 1512, 1132, 1170, 1, 1512, 210, 2437, 1, 429, 1, 1, 1642]\n",
            "[5, 6]\n",
            "[5, 5, 5, 6, 5, 4, 5, 6, 5, 6, 5, 5, 6, 8, 5, 5, 6, 3, 8, 5, 8, 5, 3, 6]\n"
          ]
        }
      ]
    },
    {
      "cell_type": "code",
      "metadata": {
        "colab": {
          "base_uri": "https://localhost:8080/",
          "height": 55
        },
        "id": "VWrcuSXB--kR",
        "outputId": "46ce9c92-ef6a-4dca-8ada-76d47f05870e"
      },
      "source": [
        "'''x = enumerate(list(words))\n",
        "print(list(x))\n",
        "y = enumerate(list(tags))\n",
        "print(list(y))\n",
        "word2index = {w: i + 2 for i, w in enumerate(list(words))}\n",
        "print(word2index)'''"
      ],
      "execution_count": null,
      "outputs": [
        {
          "output_type": "execute_result",
          "data": {
            "application/vnd.google.colaboratory.intrinsic+json": {
              "type": "string"
            },
            "text/plain": [
              "'x = enumerate(list(words))\\nprint(list(x))\\ny = enumerate(list(tags))\\nprint(list(y))\\nword2index = {w: i + 2 for i, w in enumerate(list(words))}\\nprint(word2index)'"
            ]
          },
          "metadata": {},
          "execution_count": 127
        }
      ]
    },
    {
      "cell_type": "code",
      "metadata": {
        "colab": {
          "base_uri": "https://localhost:8080/"
        },
        "id": "_ytqpruRspHQ",
        "outputId": "d0622f4f-b9fd-4833-c56c-f0a2ad36e300"
      },
      "source": [
        "\n",
        "MAX_LENGTH = len(max(train_sentences_X, key=len))\n",
        "print(MAX_LENGTH)  # 271"
      ],
      "execution_count": null,
      "outputs": [
        {
          "output_type": "stream",
          "name": "stdout",
          "text": [
            "55\n"
          ]
        }
      ]
    },
    {
      "cell_type": "code",
      "metadata": {
        "colab": {
          "base_uri": "https://localhost:8080/"
        },
        "id": "OGH_QD-ZswCj",
        "outputId": "1106e69d-0424-439d-f30b-ac04b13d2395"
      },
      "source": [
        "from keras.preprocessing.sequence import pad_sequences\n",
        " \n",
        "train_sentences_X = pad_sequences(train_sentences_X, maxlen=MAX_LENGTH, padding='post')\n",
        "test_sentences_X = pad_sequences(test_sentences_X, maxlen=MAX_LENGTH, padding='post')\n",
        "train_tags_y = pad_sequences(train_tags_y, maxlen=MAX_LENGTH, padding='post')\n",
        "test_tags_y = pad_sequences(test_tags_y, maxlen=MAX_LENGTH, padding='post')\n",
        " \n",
        "print(train_sentences_X[0])\n",
        "print(test_sentences_X[0])\n",
        "print(train_tags_y[0])\n",
        "print(test_tags_y[0])"
      ],
      "execution_count": null,
      "outputs": [
        {
          "output_type": "stream",
          "name": "stdout",
          "text": [
            "[1872 1642    0    0    0    0    0    0    0    0    0    0    0    0\n",
            "    0    0    0    0    0    0    0    0    0    0    0    0    0    0\n",
            "    0    0    0    0    0    0    0    0    0    0    0    0    0    0\n",
            "    0    0    0    0    0    0    0    0    0    0    0    0    0]\n",
            "[   1  138    1 1512    1 2191 2169 1258    1 2400    1    1 1512 1132\n",
            " 1170    1 1512  210 2437    1  429    1    1 1642    0    0    0    0\n",
            "    0    0    0    0    0    0    0    0    0    0    0    0    0    0\n",
            "    0    0    0    0    0    0    0    0    0    0    0    0    0]\n",
            "[5 6 0 0 0 0 0 0 0 0 0 0 0 0 0 0 0 0 0 0 0 0 0 0 0 0 0 0 0 0 0 0 0 0 0 0 0\n",
            " 0 0 0 0 0 0 0 0 0 0 0 0 0 0 0 0 0 0]\n",
            "[5 5 5 6 5 4 5 6 5 6 5 5 6 8 5 5 6 3 8 5 8 5 3 6 0 0 0 0 0 0 0 0 0 0 0 0 0\n",
            " 0 0 0 0 0 0 0 0 0 0 0 0 0 0 0 0 0 0]\n"
          ]
        }
      ]
    },
    {
      "cell_type": "code",
      "metadata": {
        "colab": {
          "base_uri": "https://localhost:8080/"
        },
        "id": "uOvXmziuswdT",
        "outputId": "2a03f96f-6162-4c30-9eed-e277b0d4b94b"
      },
      "source": [
        "from keras.models import Sequential\n",
        "from keras.layers import Dense, LSTM, InputLayer, Bidirectional, TimeDistributed, Embedding, Activation\n",
        "from tensorflow.keras.optimizers import Adam\n",
        " \n",
        " \n",
        "model = Sequential()\n",
        "model.add(InputLayer(input_shape=(MAX_LENGTH, )))\n",
        "model.add(Embedding(len(word2index), 128))\n",
        "model.add(Bidirectional(LSTM(256, return_sequences=True)))\n",
        "model.add(TimeDistributed(Dense(len(tag2index))))\n",
        "model.add(Activation('softmax'))\n",
        " \n",
        "model.compile(loss='categorical_crossentropy',\n",
        "              optimizer=Adam(0.001),\n",
        "              metrics=['accuracy'])\n",
        " \n",
        "model.summary()"
      ],
      "execution_count": null,
      "outputs": [
        {
          "output_type": "stream",
          "name": "stdout",
          "text": [
            "Model: \"sequential_7\"\n",
            "_________________________________________________________________\n",
            "Layer (type)                 Output Shape              Param #   \n",
            "=================================================================\n",
            "embedding_7 (Embedding)      (None, 55, 128)           316800    \n",
            "_________________________________________________________________\n",
            "bidirectional_7 (Bidirection (None, 55, 512)           788480    \n",
            "_________________________________________________________________\n",
            "time_distributed_7 (TimeDist (None, 55, 10)            5130      \n",
            "_________________________________________________________________\n",
            "activation_7 (Activation)    (None, 55, 10)            0         \n",
            "=================================================================\n",
            "Total params: 1,110,410\n",
            "Trainable params: 1,110,410\n",
            "Non-trainable params: 0\n",
            "_________________________________________________________________\n"
          ]
        }
      ]
    },
    {
      "cell_type": "code",
      "metadata": {
        "id": "rqwH48vTs4CZ"
      },
      "source": [
        "def to_categorical(sequences, categories):\n",
        "    cat_sequences = []\n",
        "    for s in sequences:\n",
        "        cats = []\n",
        "        for item in s:\n",
        "            cats.append(np.zeros(categories))\n",
        "            cats[-1][item] = 1.0\n",
        "        cat_sequences.append(cats)\n",
        "    return np.array(cat_sequences)"
      ],
      "execution_count": null,
      "outputs": []
    },
    {
      "cell_type": "code",
      "metadata": {
        "colab": {
          "base_uri": "https://localhost:8080/"
        },
        "id": "xQP6RhDUtBNG",
        "outputId": "3217e2a6-9a8d-454a-b8d5-21b7ef4442f9"
      },
      "source": [
        "cat_train_tags_y = to_categorical(train_tags_y, len(tag2index))\n",
        "print(cat_train_tags_y[0])"
      ],
      "execution_count": null,
      "outputs": [
        {
          "output_type": "stream",
          "name": "stdout",
          "text": [
            "[[0. 0. 0. 0. 0. 1. 0. 0. 0. 0.]\n",
            " [0. 0. 0. 0. 0. 0. 1. 0. 0. 0.]\n",
            " [1. 0. 0. 0. 0. 0. 0. 0. 0. 0.]\n",
            " [1. 0. 0. 0. 0. 0. 0. 0. 0. 0.]\n",
            " [1. 0. 0. 0. 0. 0. 0. 0. 0. 0.]\n",
            " [1. 0. 0. 0. 0. 0. 0. 0. 0. 0.]\n",
            " [1. 0. 0. 0. 0. 0. 0. 0. 0. 0.]\n",
            " [1. 0. 0. 0. 0. 0. 0. 0. 0. 0.]\n",
            " [1. 0. 0. 0. 0. 0. 0. 0. 0. 0.]\n",
            " [1. 0. 0. 0. 0. 0. 0. 0. 0. 0.]\n",
            " [1. 0. 0. 0. 0. 0. 0. 0. 0. 0.]\n",
            " [1. 0. 0. 0. 0. 0. 0. 0. 0. 0.]\n",
            " [1. 0. 0. 0. 0. 0. 0. 0. 0. 0.]\n",
            " [1. 0. 0. 0. 0. 0. 0. 0. 0. 0.]\n",
            " [1. 0. 0. 0. 0. 0. 0. 0. 0. 0.]\n",
            " [1. 0. 0. 0. 0. 0. 0. 0. 0. 0.]\n",
            " [1. 0. 0. 0. 0. 0. 0. 0. 0. 0.]\n",
            " [1. 0. 0. 0. 0. 0. 0. 0. 0. 0.]\n",
            " [1. 0. 0. 0. 0. 0. 0. 0. 0. 0.]\n",
            " [1. 0. 0. 0. 0. 0. 0. 0. 0. 0.]\n",
            " [1. 0. 0. 0. 0. 0. 0. 0. 0. 0.]\n",
            " [1. 0. 0. 0. 0. 0. 0. 0. 0. 0.]\n",
            " [1. 0. 0. 0. 0. 0. 0. 0. 0. 0.]\n",
            " [1. 0. 0. 0. 0. 0. 0. 0. 0. 0.]\n",
            " [1. 0. 0. 0. 0. 0. 0. 0. 0. 0.]\n",
            " [1. 0. 0. 0. 0. 0. 0. 0. 0. 0.]\n",
            " [1. 0. 0. 0. 0. 0. 0. 0. 0. 0.]\n",
            " [1. 0. 0. 0. 0. 0. 0. 0. 0. 0.]\n",
            " [1. 0. 0. 0. 0. 0. 0. 0. 0. 0.]\n",
            " [1. 0. 0. 0. 0. 0. 0. 0. 0. 0.]\n",
            " [1. 0. 0. 0. 0. 0. 0. 0. 0. 0.]\n",
            " [1. 0. 0. 0. 0. 0. 0. 0. 0. 0.]\n",
            " [1. 0. 0. 0. 0. 0. 0. 0. 0. 0.]\n",
            " [1. 0. 0. 0. 0. 0. 0. 0. 0. 0.]\n",
            " [1. 0. 0. 0. 0. 0. 0. 0. 0. 0.]\n",
            " [1. 0. 0. 0. 0. 0. 0. 0. 0. 0.]\n",
            " [1. 0. 0. 0. 0. 0. 0. 0. 0. 0.]\n",
            " [1. 0. 0. 0. 0. 0. 0. 0. 0. 0.]\n",
            " [1. 0. 0. 0. 0. 0. 0. 0. 0. 0.]\n",
            " [1. 0. 0. 0. 0. 0. 0. 0. 0. 0.]\n",
            " [1. 0. 0. 0. 0. 0. 0. 0. 0. 0.]\n",
            " [1. 0. 0. 0. 0. 0. 0. 0. 0. 0.]\n",
            " [1. 0. 0. 0. 0. 0. 0. 0. 0. 0.]\n",
            " [1. 0. 0. 0. 0. 0. 0. 0. 0. 0.]\n",
            " [1. 0. 0. 0. 0. 0. 0. 0. 0. 0.]\n",
            " [1. 0. 0. 0. 0. 0. 0. 0. 0. 0.]\n",
            " [1. 0. 0. 0. 0. 0. 0. 0. 0. 0.]\n",
            " [1. 0. 0. 0. 0. 0. 0. 0. 0. 0.]\n",
            " [1. 0. 0. 0. 0. 0. 0. 0. 0. 0.]\n",
            " [1. 0. 0. 0. 0. 0. 0. 0. 0. 0.]\n",
            " [1. 0. 0. 0. 0. 0. 0. 0. 0. 0.]\n",
            " [1. 0. 0. 0. 0. 0. 0. 0. 0. 0.]\n",
            " [1. 0. 0. 0. 0. 0. 0. 0. 0. 0.]\n",
            " [1. 0. 0. 0. 0. 0. 0. 0. 0. 0.]\n",
            " [1. 0. 0. 0. 0. 0. 0. 0. 0. 0.]]\n"
          ]
        }
      ]
    },
    {
      "cell_type": "code",
      "metadata": {
        "colab": {
          "base_uri": "https://localhost:8080/"
        },
        "id": "tKpJCbQytCHZ",
        "outputId": "f08e037e-c53f-4629-956e-803b5f56074f"
      },
      "source": [
        "model.fit(train_sentences_X, to_categorical(train_tags_y, len(tag2index)), batch_size=128, epochs=40, validation_split=0.2)"
      ],
      "execution_count": null,
      "outputs": [
        {
          "output_type": "stream",
          "name": "stdout",
          "text": [
            "Epoch 1/40\n",
            "3/3 [==============================] - 7s 1s/step - loss: 2.2009 - accuracy: 0.4392 - val_loss: 1.7941 - val_accuracy: 0.7741\n",
            "Epoch 2/40\n",
            "3/3 [==============================] - 2s 767ms/step - loss: 1.5400 - accuracy: 0.7689 - val_loss: 0.8684 - val_accuracy: 0.7741\n",
            "Epoch 3/40\n",
            "3/3 [==============================] - 2s 778ms/step - loss: 0.7710 - accuracy: 0.7689 - val_loss: 0.6235 - val_accuracy: 0.7741\n",
            "Epoch 4/40\n",
            "3/3 [==============================] - 2s 759ms/step - loss: 0.6469 - accuracy: 0.7723 - val_loss: 0.6170 - val_accuracy: 0.7898\n",
            "Epoch 5/40\n",
            "3/3 [==============================] - 2s 778ms/step - loss: 0.6218 - accuracy: 0.8037 - val_loss: 0.5941 - val_accuracy: 0.8117\n",
            "Epoch 6/40\n",
            "3/3 [==============================] - 2s 771ms/step - loss: 0.5972 - accuracy: 0.8217 - val_loss: 0.5853 - val_accuracy: 0.8164\n",
            "Epoch 7/40\n",
            "3/3 [==============================] - 2s 770ms/step - loss: 0.5538 - accuracy: 0.8273 - val_loss: 0.5684 - val_accuracy: 0.8311\n",
            "Epoch 8/40\n",
            "3/3 [==============================] - 3s 783ms/step - loss: 0.5278 - accuracy: 0.8384 - val_loss: 0.5256 - val_accuracy: 0.8458\n",
            "Epoch 9/40\n",
            "3/3 [==============================] - 3s 794ms/step - loss: 0.4979 - accuracy: 0.8534 - val_loss: 0.5097 - val_accuracy: 0.8451\n",
            "Epoch 10/40\n",
            "3/3 [==============================] - 2s 776ms/step - loss: 0.4916 - accuracy: 0.8539 - val_loss: 0.4963 - val_accuracy: 0.8498\n",
            "Epoch 11/40\n",
            "3/3 [==============================] - 2s 772ms/step - loss: 0.4781 - accuracy: 0.8558 - val_loss: 0.4872 - val_accuracy: 0.8516\n",
            "Epoch 12/40\n",
            "3/3 [==============================] - 3s 783ms/step - loss: 0.4669 - accuracy: 0.8553 - val_loss: 0.4725 - val_accuracy: 0.8526\n",
            "Epoch 13/40\n",
            "3/3 [==============================] - 3s 792ms/step - loss: 0.4564 - accuracy: 0.8565 - val_loss: 0.4757 - val_accuracy: 0.8488\n",
            "Epoch 14/40\n",
            "3/3 [==============================] - 2s 780ms/step - loss: 0.4445 - accuracy: 0.8564 - val_loss: 0.4963 - val_accuracy: 0.8446\n",
            "Epoch 15/40\n",
            "3/3 [==============================] - 2s 769ms/step - loss: 0.4380 - accuracy: 0.8549 - val_loss: 0.5013 - val_accuracy: 0.8411\n",
            "Epoch 16/40\n",
            "3/3 [==============================] - 2s 780ms/step - loss: 0.4297 - accuracy: 0.8554 - val_loss: 0.4962 - val_accuracy: 0.8463\n",
            "Epoch 17/40\n",
            "3/3 [==============================] - 2s 783ms/step - loss: 0.4235 - accuracy: 0.8575 - val_loss: 0.5008 - val_accuracy: 0.8456\n",
            "Epoch 18/40\n",
            "3/3 [==============================] - 2s 792ms/step - loss: 0.4200 - accuracy: 0.8652 - val_loss: 0.5243 - val_accuracy: 0.8401\n",
            "Epoch 19/40\n",
            "3/3 [==============================] - 3s 815ms/step - loss: 0.4145 - accuracy: 0.8603 - val_loss: 0.5595 - val_accuracy: 0.8399\n",
            "Epoch 20/40\n",
            "3/3 [==============================] - 3s 787ms/step - loss: 0.4110 - accuracy: 0.8605 - val_loss: 0.5617 - val_accuracy: 0.8369\n",
            "Epoch 21/40\n",
            "3/3 [==============================] - 2s 767ms/step - loss: 0.4077 - accuracy: 0.8686 - val_loss: 0.6112 - val_accuracy: 0.8394\n",
            "Epoch 22/40\n",
            "3/3 [==============================] - 2s 782ms/step - loss: 0.4050 - accuracy: 0.8636 - val_loss: 0.5738 - val_accuracy: 0.8371\n",
            "Epoch 23/40\n",
            "3/3 [==============================] - 2s 774ms/step - loss: 0.4024 - accuracy: 0.8709 - val_loss: 0.5980 - val_accuracy: 0.8401\n",
            "Epoch 24/40\n",
            "3/3 [==============================] - 2s 754ms/step - loss: 0.3996 - accuracy: 0.8676 - val_loss: 0.5755 - val_accuracy: 0.8389\n",
            "Epoch 25/40\n",
            "3/3 [==============================] - 3s 784ms/step - loss: 0.3961 - accuracy: 0.8747 - val_loss: 0.5763 - val_accuracy: 0.8399\n",
            "Epoch 26/40\n",
            "3/3 [==============================] - 2s 758ms/step - loss: 0.3933 - accuracy: 0.8717 - val_loss: 0.5742 - val_accuracy: 0.8416\n",
            "Epoch 27/40\n",
            "3/3 [==============================] - 2s 770ms/step - loss: 0.3902 - accuracy: 0.8748 - val_loss: 0.5634 - val_accuracy: 0.8394\n",
            "Epoch 28/40\n",
            "3/3 [==============================] - 3s 784ms/step - loss: 0.3883 - accuracy: 0.8761 - val_loss: 0.5941 - val_accuracy: 0.8431\n",
            "Epoch 29/40\n",
            "3/3 [==============================] - 2s 764ms/step - loss: 0.3854 - accuracy: 0.8753 - val_loss: 0.5708 - val_accuracy: 0.8416\n",
            "Epoch 30/40\n",
            "3/3 [==============================] - 2s 772ms/step - loss: 0.3822 - accuracy: 0.8791 - val_loss: 0.5840 - val_accuracy: 0.8431\n",
            "Epoch 31/40\n",
            "3/3 [==============================] - 2s 768ms/step - loss: 0.3795 - accuracy: 0.8786 - val_loss: 0.5925 - val_accuracy: 0.8431\n",
            "Epoch 32/40\n",
            "3/3 [==============================] - 2s 780ms/step - loss: 0.3762 - accuracy: 0.8811 - val_loss: 0.5832 - val_accuracy: 0.8446\n",
            "Epoch 33/40\n",
            "3/3 [==============================] - 2s 769ms/step - loss: 0.3737 - accuracy: 0.8809 - val_loss: 0.6091 - val_accuracy: 0.8426\n",
            "Epoch 34/40\n",
            "3/3 [==============================] - 2s 771ms/step - loss: 0.3704 - accuracy: 0.8816 - val_loss: 0.5891 - val_accuracy: 0.8438\n",
            "Epoch 35/40\n",
            "3/3 [==============================] - 2s 768ms/step - loss: 0.3668 - accuracy: 0.8828 - val_loss: 0.6043 - val_accuracy: 0.8453\n",
            "Epoch 36/40\n",
            "3/3 [==============================] - 3s 787ms/step - loss: 0.3648 - accuracy: 0.8829 - val_loss: 0.5630 - val_accuracy: 0.8466\n",
            "Epoch 37/40\n",
            "3/3 [==============================] - 3s 788ms/step - loss: 0.3624 - accuracy: 0.8826 - val_loss: 0.5958 - val_accuracy: 0.8513\n",
            "Epoch 38/40\n",
            "3/3 [==============================] - 3s 770ms/step - loss: 0.3593 - accuracy: 0.8836 - val_loss: 0.5496 - val_accuracy: 0.8516\n",
            "Epoch 39/40\n",
            "3/3 [==============================] - 2s 783ms/step - loss: 0.3548 - accuracy: 0.8842 - val_loss: 0.5354 - val_accuracy: 0.8545\n",
            "Epoch 40/40\n",
            "3/3 [==============================] - 2s 779ms/step - loss: 0.3507 - accuracy: 0.8867 - val_loss: 0.5752 - val_accuracy: 0.8543\n"
          ]
        },
        {
          "output_type": "execute_result",
          "data": {
            "text/plain": [
              "<keras.callbacks.History at 0x7f229a3fcd10>"
            ]
          },
          "metadata": {},
          "execution_count": 133
        }
      ]
    },
    {
      "cell_type": "code",
      "metadata": {
        "id": "4IfWllQLtCDE",
        "colab": {
          "base_uri": "https://localhost:8080/"
        },
        "outputId": "2cce52c2-4626-47d0-f559-74daa2613064"
      },
      "source": [
        "scores = model.evaluate(test_sentences_X, to_categorical(test_tags_y, len(tag2index)))\n",
        "print(f\"{model.metrics_names[1]}: {scores[1] * 100}\")   # acc: 99.09751977804825"
      ],
      "execution_count": null,
      "outputs": [
        {
          "output_type": "stream",
          "name": "stdout",
          "text": [
            "3/3 [==============================] - 0s 103ms/step - loss: 0.6137 - accuracy: 0.8522\n",
            "accuracy: 85.2173924446106\n"
          ]
        }
      ]
    },
    {
      "cell_type": "code",
      "metadata": {
        "id": "jI3VH9tTtBuV",
        "colab": {
          "base_uri": "https://localhost:8080/"
        },
        "outputId": "cf9390d9-b30e-47c0-d78a-335b95e65943"
      },
      "source": [
        "test_samples = [\n",
        "    \"রপ্তানি দ্রব্য তাজা ও শুকনা ফল\".split(),\n",
        "    \"রাজা মহানন্দ রাজধানীতে শিব মন্দির তৈরি করেছিল\".split()\n",
        "]\n",
        "print(test_samples)\n",
        " \n",
        "# [['running', 'is', 'very', 'important', 'for', 'me', '.'], ['I', 'was', 'running', 'every', 'day', 'for', 'a', 'month', '.']]\n"
      ],
      "execution_count": null,
      "outputs": [
        {
          "output_type": "stream",
          "name": "stdout",
          "text": [
            "[['রপ্তানি', 'দ্রব্য', 'তাজা', 'ও', 'শুকনা', 'ফল'], ['রাজা', 'মহানন্দ', 'রাজধানীতে', 'শিব', 'মন্দির', 'তৈরি', 'করেছিল']]\n"
          ]
        }
      ]
    },
    {
      "cell_type": "code",
      "metadata": {
        "id": "HpXp-1lQtBo6",
        "colab": {
          "base_uri": "https://localhost:8080/"
        },
        "outputId": "73fd38cb-ae20-4f40-c04c-065a25c09f02"
      },
      "source": [
        "test_samples_X = []\n",
        "for s in test_samples:\n",
        "    s_int = []\n",
        "    for w in s:\n",
        "        try:\n",
        "            s_int.append(word2index[w.lower()])\n",
        "        except KeyError:\n",
        "            s_int.append(word2index['-OOV-'])\n",
        "    test_samples_X.append(s_int)\n",
        " \n",
        "test_samples_X = pad_sequences(test_samples_X, maxlen=MAX_LENGTH, padding='post')\n",
        "print(test_samples_X)"
      ],
      "execution_count": null,
      "outputs": [
        {
          "output_type": "stream",
          "name": "stdout",
          "text": [
            "[[2211 1703 1809 2191  448 1513    0    0    0    0    0    0    0    0\n",
            "     0    0    0    0    0    0    0    0    0    0    0    0    0    0\n",
            "     0    0    0    0    0    0    0    0    0    0    0    0    0    0\n",
            "     0    0    0    0    0    0    0    0    0    0    0    0    0]\n",
            " [1946 1702  827  987  193  358 1283    0    0    0    0    0    0    0\n",
            "     0    0    0    0    0    0    0    0    0    0    0    0    0    0\n",
            "     0    0    0    0    0    0    0    0    0    0    0    0    0    0\n",
            "     0    0    0    0    0    0    0    0    0    0    0    0    0]]\n"
          ]
        }
      ]
    },
    {
      "cell_type": "code",
      "metadata": {
        "id": "1vGcfdvLtLOn",
        "colab": {
          "base_uri": "https://localhost:8080/"
        },
        "outputId": "8d653323-3264-43c4-d484-664226cde449"
      },
      "source": [
        "predictions = model.predict(test_samples_X)\n",
        "print(predictions, predictions.shape)"
      ],
      "execution_count": null,
      "outputs": [
        {
          "output_type": "stream",
          "name": "stdout",
          "text": [
            "WARNING:tensorflow:5 out of the last 5 calls to <function Model.make_predict_function.<locals>.predict_function at 0x7f2294746560> triggered tf.function retracing. Tracing is expensive and the excessive number of tracings could be due to (1) creating @tf.function repeatedly in a loop, (2) passing tensors with different shapes, (3) passing Python objects instead of tensors. For (1), please define your @tf.function outside of the loop. For (2), @tf.function has experimental_relax_shapes=True option that relaxes argument shapes that can avoid unnecessary retracing. For (3), please refer to https://www.tensorflow.org/guide/function#controlling_retracing and https://www.tensorflow.org/api_docs/python/tf/function for  more details.\n",
            "[[[1.3917248e-04 3.8712233e-02 3.5207685e-02 ... 3.6489815e-02\n",
            "   7.1019463e-02 1.7321469e-01]\n",
            "  [1.3427909e-04 3.4869011e-02 3.1820323e-02 ... 3.2048326e-02\n",
            "   6.6185258e-02 1.6701372e-01]\n",
            "  [1.6466581e-04 3.5445176e-02 3.2783221e-02 ... 3.3333082e-02\n",
            "   6.9777608e-02 1.9258253e-01]\n",
            "  ...\n",
            "  [9.9999952e-01 1.1735242e-10 3.5008579e-10 ... 3.3709635e-10\n",
            "   2.2403641e-11 6.3884548e-10]\n",
            "  [9.9999952e-01 1.7599423e-10 5.3532817e-10 ... 4.9031151e-10\n",
            "   3.2567896e-11 8.1284746e-10]\n",
            "  [9.9999940e-01 2.8607849e-10 8.8450275e-10 ... 7.6574197e-10\n",
            "   5.2499668e-11 1.1622512e-09]]\n",
            "\n",
            " [[1.7411534e-04 3.8833246e-02 3.3171128e-02 ... 3.6939342e-02\n",
            "   6.5241978e-02 1.6517872e-01]\n",
            "  [1.7923427e-04 3.8418457e-02 3.3941761e-02 ... 3.5767172e-02\n",
            "   6.8815172e-02 1.7826556e-01]\n",
            "  [1.9313599e-04 3.6293611e-02 3.3157665e-02 ... 3.3737808e-02\n",
            "   6.6781096e-02 1.8100536e-01]\n",
            "  ...\n",
            "  [9.9999952e-01 1.1736989e-10 3.5015790e-10 ... 3.3716388e-10\n",
            "   2.2410051e-11 6.3920014e-10]\n",
            "  [9.9999952e-01 1.7601942e-10 5.3543436e-10 ... 4.9040688e-10\n",
            "   3.2576841e-11 8.1327550e-10]\n",
            "  [9.9999940e-01 2.8611669e-10 8.8466640e-10 ... 7.6588219e-10\n",
            "   5.2513188e-11 1.1628254e-09]]] (2, 55, 10)\n"
          ]
        }
      ]
    },
    {
      "cell_type": "code",
      "metadata": {
        "id": "yMQLVHw2tL7b"
      },
      "source": [
        "def logits_to_tokens(sequences, index):\n",
        "    token_sequences = []\n",
        "    for categorical_sequence in sequences:\n",
        "        token_sequence = []\n",
        "        for categorical in categorical_sequence:\n",
        "            token_sequence.append(index[np.argmax(categorical)])\n",
        " \n",
        "        token_sequences.append(token_sequence)\n",
        " \n",
        "    return token_sequences"
      ],
      "execution_count": null,
      "outputs": []
    },
    {
      "cell_type": "code",
      "metadata": {
        "id": "O7OQ_f0utO91"
      },
      "source": [
        "from keras import backend as K\n",
        " \n",
        "def ignore_class_accuracy(to_ignore=0):\n",
        "    def ignore_accuracy(y_true, y_pred):\n",
        "        y_true_class = K.argmax(y_true, axis=-1)\n",
        "        y_pred_class = K.argmax(y_pred, axis=-1)\n",
        " \n",
        "        ignore_mask = K.cast(K.not_equal(y_pred_class, to_ignore), 'int32')\n",
        "        matches = K.cast(K.equal(y_true_class, y_pred_class), 'int32') * ignore_mask\n",
        "        accuracy = K.sum(matches) / K.maximum(K.sum(ignore_mask), 1)\n",
        "        return accuracy\n",
        "    return ignore_accuracy"
      ],
      "execution_count": null,
      "outputs": []
    },
    {
      "cell_type": "code",
      "metadata": {
        "id": "VrKq013StQd4",
        "colab": {
          "base_uri": "https://localhost:8080/"
        },
        "outputId": "260a9b0b-6fb7-4704-ce76-cf38928bbae0"
      },
      "source": [
        "from keras.models import Sequential\n",
        "from keras.layers import Dense, LSTM, InputLayer, Bidirectional, TimeDistributed, Embedding, Activation\n",
        "from tensorflow.keras.optimizers import Adam\n",
        " \n",
        " \n",
        "model = Sequential()\n",
        "model.add(InputLayer(input_shape=(MAX_LENGTH, )))\n",
        "model.add(Embedding(len(word2index), 128))\n",
        "model.add(Bidirectional(LSTM(256, return_sequences=True)))\n",
        "model.add(TimeDistributed(Dense(len(tag2index))))\n",
        "model.add(Activation('softmax'))\n",
        " \n",
        "model.compile(loss='categorical_crossentropy',\n",
        "              optimizer=Adam(0.001),\n",
        "              metrics=['accuracy', ignore_class_accuracy(0)])\n",
        " \n",
        "model.summary()\n",
        " \n",
        "# _________________________________________________________________\n",
        "# Layer (type)                 Output Shape              Param #   \n",
        "# =================================================================\n",
        "# embedding_2 (Embedding)      (None, 271, 128)          1292544   \n",
        "# _________________________________________________________________\n",
        "# bidirectional_2 (Bidirection (None, 271, 512)          788480    \n",
        "# _________________________________________________________________\n",
        "# time_distributed_2 (TimeDist (None, 271, 47)           24111     \n",
        "# _________________________________________________________________\n",
        "# activation_2 (Activation)    (None, 271, 47)           0         \n",
        "# =================================================================\n",
        "# Total params: 2,105,135\n",
        "# Trainable params: 2,105,135\n",
        "# Non-trainable params: 0"
      ],
      "execution_count": null,
      "outputs": [
        {
          "output_type": "stream",
          "name": "stdout",
          "text": [
            "Model: \"sequential_8\"\n",
            "_________________________________________________________________\n",
            "Layer (type)                 Output Shape              Param #   \n",
            "=================================================================\n",
            "embedding_8 (Embedding)      (None, 55, 128)           316800    \n",
            "_________________________________________________________________\n",
            "bidirectional_8 (Bidirection (None, 55, 512)           788480    \n",
            "_________________________________________________________________\n",
            "time_distributed_8 (TimeDist (None, 55, 10)            5130      \n",
            "_________________________________________________________________\n",
            "activation_8 (Activation)    (None, 55, 10)            0         \n",
            "=================================================================\n",
            "Total params: 1,110,410\n",
            "Trainable params: 1,110,410\n",
            "Non-trainable params: 0\n",
            "_________________________________________________________________\n"
          ]
        }
      ]
    },
    {
      "cell_type": "code",
      "metadata": {
        "id": "_RbTEENWtRzF",
        "colab": {
          "base_uri": "https://localhost:8080/"
        },
        "outputId": "b84eee4b-f602-413e-873a-a841853d739d"
      },
      "source": [
        "model.fit(train_sentences_X, to_categorical(train_tags_y, len(tag2index)), batch_size=128, epochs=40, validation_split=0.2)"
      ],
      "execution_count": null,
      "outputs": [
        {
          "output_type": "stream",
          "name": "stdout",
          "text": [
            "Epoch 1/40\n",
            "3/3 [==============================] - 7s 1s/step - loss: 2.2038 - accuracy: 0.4449 - ignore_accuracy: 0.0062 - val_loss: 1.8013 - val_accuracy: 0.7741 - val_ignore_accuracy: 0.0000e+00\n",
            "Epoch 2/40\n",
            "3/3 [==============================] - 2s 769ms/step - loss: 1.5538 - accuracy: 0.7689 - ignore_accuracy: 0.0000e+00 - val_loss: 0.8328 - val_accuracy: 0.7741 - val_ignore_accuracy: 0.0000e+00\n",
            "Epoch 3/40\n",
            "3/3 [==============================] - 2s 767ms/step - loss: 0.7483 - accuracy: 0.7689 - ignore_accuracy: 0.0000e+00 - val_loss: 0.6256 - val_accuracy: 0.7741 - val_ignore_accuracy: 0.0000e+00\n",
            "Epoch 4/40\n",
            "3/3 [==============================] - 2s 768ms/step - loss: 0.6582 - accuracy: 0.7702 - ignore_accuracy: 0.3381 - val_loss: 0.6233 - val_accuracy: 0.7863 - val_ignore_accuracy: 0.4375\n",
            "Epoch 5/40\n",
            "3/3 [==============================] - 2s 777ms/step - loss: 0.6194 - accuracy: 0.7989 - ignore_accuracy: 0.3976 - val_loss: 0.5895 - val_accuracy: 0.8110 - val_ignore_accuracy: 0.4146\n",
            "Epoch 6/40\n",
            "3/3 [==============================] - 2s 783ms/step - loss: 0.5968 - accuracy: 0.8327 - ignore_accuracy: 0.3852 - val_loss: 0.5701 - val_accuracy: 0.8267 - val_ignore_accuracy: 0.4105\n",
            "Epoch 7/40\n",
            "3/3 [==============================] - 2s 774ms/step - loss: 0.5585 - accuracy: 0.8415 - ignore_accuracy: 0.4000 - val_loss: 0.5530 - val_accuracy: 0.8374 - val_ignore_accuracy: 0.4019\n",
            "Epoch 8/40\n",
            "3/3 [==============================] - 2s 773ms/step - loss: 0.5220 - accuracy: 0.8450 - ignore_accuracy: 0.4109 - val_loss: 0.5452 - val_accuracy: 0.8431 - val_ignore_accuracy: 0.3804\n",
            "Epoch 9/40\n",
            "3/3 [==============================] - 2s 778ms/step - loss: 0.5087 - accuracy: 0.8498 - ignore_accuracy: 0.3982 - val_loss: 0.5331 - val_accuracy: 0.8428 - val_ignore_accuracy: 0.3665\n",
            "Epoch 10/40\n",
            "3/3 [==============================] - 2s 792ms/step - loss: 0.4939 - accuracy: 0.8531 - ignore_accuracy: 0.4016 - val_loss: 0.5055 - val_accuracy: 0.8453 - val_ignore_accuracy: 0.3684\n",
            "Epoch 11/40\n",
            "3/3 [==============================] - 2s 768ms/step - loss: 0.4771 - accuracy: 0.8552 - ignore_accuracy: 0.4136 - val_loss: 0.4948 - val_accuracy: 0.8473 - val_ignore_accuracy: 0.3706\n",
            "Epoch 12/40\n",
            "3/3 [==============================] - 2s 765ms/step - loss: 0.4668 - accuracy: 0.8560 - ignore_accuracy: 0.4065 - val_loss: 0.4976 - val_accuracy: 0.8448 - val_ignore_accuracy: 0.3651\n",
            "Epoch 13/40\n",
            "3/3 [==============================] - 2s 769ms/step - loss: 0.4544 - accuracy: 0.8559 - ignore_accuracy: 0.4059 - val_loss: 0.5143 - val_accuracy: 0.8411 - val_ignore_accuracy: 0.3588\n",
            "Epoch 14/40\n",
            "3/3 [==============================] - 2s 782ms/step - loss: 0.4449 - accuracy: 0.8547 - ignore_accuracy: 0.4031 - val_loss: 0.5373 - val_accuracy: 0.8381 - val_ignore_accuracy: 0.3565\n",
            "Epoch 15/40\n",
            "3/3 [==============================] - 3s 787ms/step - loss: 0.4380 - accuracy: 0.8545 - ignore_accuracy: 0.4026 - val_loss: 0.5436 - val_accuracy: 0.8408 - val_ignore_accuracy: 0.3669\n",
            "Epoch 16/40\n",
            "3/3 [==============================] - 2s 774ms/step - loss: 0.4296 - accuracy: 0.8554 - ignore_accuracy: 0.4064 - val_loss: 0.5394 - val_accuracy: 0.8416 - val_ignore_accuracy: 0.3682\n",
            "Epoch 17/40\n",
            "3/3 [==============================] - 2s 773ms/step - loss: 0.4253 - accuracy: 0.8587 - ignore_accuracy: 0.4206 - val_loss: 0.5512 - val_accuracy: 0.8406 - val_ignore_accuracy: 0.3666\n",
            "Epoch 18/40\n",
            "3/3 [==============================] - 2s 786ms/step - loss: 0.4205 - accuracy: 0.8600 - ignore_accuracy: 0.4142 - val_loss: 0.5853 - val_accuracy: 0.8381 - val_ignore_accuracy: 0.3662\n",
            "Epoch 19/40\n",
            "3/3 [==============================] - 2s 776ms/step - loss: 0.4172 - accuracy: 0.8573 - ignore_accuracy: 0.4159 - val_loss: 0.5926 - val_accuracy: 0.8351 - val_ignore_accuracy: 0.3560\n",
            "Epoch 20/40\n",
            "3/3 [==============================] - 2s 777ms/step - loss: 0.4130 - accuracy: 0.8656 - ignore_accuracy: 0.4311 - val_loss: 0.6202 - val_accuracy: 0.8379 - val_ignore_accuracy: 0.3684\n",
            "Epoch 21/40\n",
            "3/3 [==============================] - 2s 770ms/step - loss: 0.4111 - accuracy: 0.8604 - ignore_accuracy: 0.4278 - val_loss: 0.6347 - val_accuracy: 0.8346 - val_ignore_accuracy: 0.3574\n",
            "Epoch 22/40\n",
            "3/3 [==============================] - 3s 779ms/step - loss: 0.4068 - accuracy: 0.8669 - ignore_accuracy: 0.4330 - val_loss: 0.6523 - val_accuracy: 0.8349 - val_ignore_accuracy: 0.3626\n",
            "Epoch 23/40\n",
            "3/3 [==============================] - 3s 790ms/step - loss: 0.4040 - accuracy: 0.8664 - ignore_accuracy: 0.4325 - val_loss: 0.6524 - val_accuracy: 0.8334 - val_ignore_accuracy: 0.3559\n",
            "Epoch 24/40\n",
            "3/3 [==============================] - 2s 782ms/step - loss: 0.4013 - accuracy: 0.8690 - ignore_accuracy: 0.4367 - val_loss: 0.6789 - val_accuracy: 0.8341 - val_ignore_accuracy: 0.3587\n",
            "Epoch 25/40\n",
            "3/3 [==============================] - 2s 771ms/step - loss: 0.3990 - accuracy: 0.8690 - ignore_accuracy: 0.4428 - val_loss: 0.6707 - val_accuracy: 0.8334 - val_ignore_accuracy: 0.3539\n",
            "Epoch 26/40\n",
            "3/3 [==============================] - 3s 787ms/step - loss: 0.3970 - accuracy: 0.8730 - ignore_accuracy: 0.4582 - val_loss: 0.6784 - val_accuracy: 0.8346 - val_ignore_accuracy: 0.3585\n",
            "Epoch 27/40\n",
            "3/3 [==============================] - 2s 767ms/step - loss: 0.3942 - accuracy: 0.8721 - ignore_accuracy: 0.4518 - val_loss: 0.6887 - val_accuracy: 0.8361 - val_ignore_accuracy: 0.3650\n",
            "Epoch 28/40\n",
            "3/3 [==============================] - 2s 776ms/step - loss: 0.3913 - accuracy: 0.8724 - ignore_accuracy: 0.4474 - val_loss: 0.6674 - val_accuracy: 0.8349 - val_ignore_accuracy: 0.3568\n",
            "Epoch 29/40\n",
            "3/3 [==============================] - 2s 780ms/step - loss: 0.3886 - accuracy: 0.8767 - ignore_accuracy: 0.4735 - val_loss: 0.6847 - val_accuracy: 0.8361 - val_ignore_accuracy: 0.3618\n",
            "Epoch 30/40\n",
            "3/3 [==============================] - 2s 760ms/step - loss: 0.3858 - accuracy: 0.8770 - ignore_accuracy: 0.4652 - val_loss: 0.6735 - val_accuracy: 0.8369 - val_ignore_accuracy: 0.3658\n",
            "Epoch 31/40\n",
            "3/3 [==============================] - 3s 768ms/step - loss: 0.3832 - accuracy: 0.8788 - ignore_accuracy: 0.4710 - val_loss: 0.6979 - val_accuracy: 0.8349 - val_ignore_accuracy: 0.3592\n",
            "Epoch 32/40\n",
            "3/3 [==============================] - 2s 773ms/step - loss: 0.3822 - accuracy: 0.8778 - ignore_accuracy: 0.4712 - val_loss: 0.5983 - val_accuracy: 0.8394 - val_ignore_accuracy: 0.3643\n",
            "Epoch 33/40\n",
            "3/3 [==============================] - 2s 785ms/step - loss: 0.3815 - accuracy: 0.8761 - ignore_accuracy: 0.4685 - val_loss: 0.6429 - val_accuracy: 0.8423 - val_ignore_accuracy: 0.3768\n",
            "Epoch 34/40\n",
            "3/3 [==============================] - 3s 802ms/step - loss: 0.3787 - accuracy: 0.8784 - ignore_accuracy: 0.4816 - val_loss: 0.6151 - val_accuracy: 0.8384 - val_ignore_accuracy: 0.3611\n",
            "Epoch 35/40\n",
            "3/3 [==============================] - 3s 785ms/step - loss: 0.3756 - accuracy: 0.8810 - ignore_accuracy: 0.4839 - val_loss: 0.6153 - val_accuracy: 0.8408 - val_ignore_accuracy: 0.3733\n",
            "Epoch 36/40\n",
            "3/3 [==============================] - 2s 771ms/step - loss: 0.3709 - accuracy: 0.8813 - ignore_accuracy: 0.4887 - val_loss: 0.6444 - val_accuracy: 0.8418 - val_ignore_accuracy: 0.3769\n",
            "Epoch 37/40\n",
            "3/3 [==============================] - 2s 767ms/step - loss: 0.3688 - accuracy: 0.8810 - ignore_accuracy: 0.4909 - val_loss: 0.5831 - val_accuracy: 0.8411 - val_ignore_accuracy: 0.3697\n",
            "Epoch 38/40\n",
            "3/3 [==============================] - 2s 772ms/step - loss: 0.3653 - accuracy: 0.8827 - ignore_accuracy: 0.4871 - val_loss: 0.6268 - val_accuracy: 0.8421 - val_ignore_accuracy: 0.3766\n",
            "Epoch 39/40\n",
            "3/3 [==============================] - 3s 797ms/step - loss: 0.3608 - accuracy: 0.8839 - ignore_accuracy: 0.4954 - val_loss: 0.6442 - val_accuracy: 0.8436 - val_ignore_accuracy: 0.3866\n",
            "Epoch 40/40\n",
            "3/3 [==============================] - 3s 790ms/step - loss: 0.3566 - accuracy: 0.8831 - ignore_accuracy: 0.5019 - val_loss: 0.6046 - val_accuracy: 0.8446 - val_ignore_accuracy: 0.3876\n"
          ]
        },
        {
          "output_type": "execute_result",
          "data": {
            "text/plain": [
              "<keras.callbacks.History at 0x7f229442f590>"
            ]
          },
          "metadata": {},
          "execution_count": 141
        }
      ]
    },
    {
      "cell_type": "code",
      "metadata": {
        "id": "OGCLj7eAMtJi",
        "colab": {
          "base_uri": "https://localhost:8080/"
        },
        "outputId": "e2ed832f-7608-45d1-f596-d8be508b4c77"
      },
      "source": [
        "scores = model.evaluate(test_sentences_X, to_categorical(test_tags_y, len(tag2index)))\n",
        "print(f\"{model.metrics_names[1]}: {scores[1] * 100}\")   # acc: 99.09751977804825 "
      ],
      "execution_count": null,
      "outputs": [
        {
          "output_type": "stream",
          "name": "stdout",
          "text": [
            "3/3 [==============================] - 0s 109ms/step - loss: 0.8617 - accuracy: 0.8320 - ignore_accuracy: 0.4080\n",
            "accuracy: 83.20158123970032\n"
          ]
        }
      ]
    },
    {
      "cell_type": "code",
      "metadata": {
        "id": "icO5DgOZtUeR",
        "colab": {
          "base_uri": "https://localhost:8080/"
        },
        "outputId": "b76e552e-20ab-4a21-84d1-6cb08e2caa70"
      },
      "source": [
        "predictions = model.predict(test_samples_X)\n",
        "print(logits_to_tokens(predictions, {i: t for t, i in tag2index.items()}))\n",
        " \n",
        "# ['NN', 'VBZ', 'RB', 'JJ', 'IN', 'DT', '.', '-PAD-', ...\n",
        "# ['PRP', 'VBD', 'VBG', 'DT', 'NN', 'IN', 'DT', 'NN', '.', '-PAD-', ...\n",
        " "
      ],
      "execution_count": null,
      "outputs": [
        {
          "output_type": "stream",
          "name": "stdout",
          "text": [
            "WARNING:tensorflow:6 out of the last 6 calls to <function Model.make_predict_function.<locals>.predict_function at 0x7f22909fef80> triggered tf.function retracing. Tracing is expensive and the excessive number of tracings could be due to (1) creating @tf.function repeatedly in a loop, (2) passing tensors with different shapes, (3) passing Python objects instead of tensors. For (1), please define your @tf.function outside of the loop. For (2), @tf.function has experimental_relax_shapes=True option that relaxes argument shapes that can avoid unnecessary retracing. For (3), please refer to https://www.tensorflow.org/guide/function#controlling_retracing and https://www.tensorflow.org/api_docs/python/tf/function for  more details.\n",
            "[['NOUN', 'NOUN', 'NOUN', 'NOUN', 'NOUN', 'NOUN', 'NOUN', 'NOUN', '-PAD-', '-PAD-', '-PAD-', '-PAD-', '-PAD-', '-PAD-', '-PAD-', '-PAD-', '-PAD-', '-PAD-', '-PAD-', '-PAD-', '-PAD-', '-PAD-', '-PAD-', '-PAD-', '-PAD-', '-PAD-', '-PAD-', '-PAD-', '-PAD-', '-PAD-', '-PAD-', '-PAD-', '-PAD-', '-PAD-', '-PAD-', '-PAD-', '-PAD-', '-PAD-', '-PAD-', '-PAD-', '-PAD-', '-PAD-', '-PAD-', '-PAD-', '-PAD-', '-PAD-', '-PAD-', '-PAD-', '-PAD-', '-PAD-', '-PAD-', '-PAD-', '-PAD-', '-PAD-', '-PAD-'], ['NOUN', 'NOUN', 'NOUN', 'NOUN', 'NOUN', 'NOUN', 'NOUN', 'NOUN', '.', '-PAD-', '-PAD-', '-PAD-', '-PAD-', '-PAD-', '-PAD-', '-PAD-', '-PAD-', '-PAD-', '-PAD-', '-PAD-', '-PAD-', '-PAD-', '-PAD-', '-PAD-', '-PAD-', '-PAD-', '-PAD-', '-PAD-', '-PAD-', '-PAD-', '-PAD-', '-PAD-', '-PAD-', '-PAD-', '-PAD-', '-PAD-', '-PAD-', '-PAD-', '-PAD-', '-PAD-', '-PAD-', '-PAD-', '-PAD-', '-PAD-', '-PAD-', '-PAD-', '-PAD-', '-PAD-', '-PAD-', '-PAD-', '-PAD-', '-PAD-', '-PAD-', '-PAD-', '-PAD-']]\n"
          ]
        }
      ]
    }
  ]
}